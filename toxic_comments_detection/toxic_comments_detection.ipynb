{
 "cells": [
  {
   "cell_type": "markdown",
   "metadata": {},
   "source": [
    "# Проект для \"Викишоп\""
   ]
  },
  {
   "cell_type": "markdown",
   "metadata": {},
   "source": [
    "### Описание проекта"
   ]
  },
  {
   "cell_type": "markdown",
   "metadata": {},
   "source": [
    "Интернет-магазин \"Викишоп\" запускает новый сервис. Теперь пользователи могут редактировать и дополнять описания товаров, как в вики-сообществах. То есть клиенты предлагают свои правки и комментируют изменения других. Магазину нужен инструмент, который будет искать токсичные комментарии и отправлять их на модерацию\n",
    "\n",
    "Наша задача подобрать подходящую модель и обучить её классифицировать комментарии на позитивные и негативные (токсичные). В нашем распоряжении набор данных с разметкой о токсичности правок\n",
    "\n",
    "**Данные** находятся в файле `toxic_comments.csv`. Столбец `text` в нём содержит текст комментария, а `toxic` — целевой признак\n",
    "\n",
    "**Примечание**: значением метрики качества `F1` должно быть не меньше 0.75"
   ]
  },
  {
   "cell_type": "markdown",
   "metadata": {},
   "source": [
    "### План действий"
   ]
  },
  {
   "cell_type": "markdown",
   "metadata": {},
   "source": [
    "1. Загрузить и подготовить данные\n",
    "2. Обучить разные модели, выбрать лучшую и протестировать её\n",
    "3. Сделать выводы"
   ]
  },
  {
   "cell_type": "markdown",
   "metadata": {},
   "source": [
    "<br><br><br><br>\n",
    "\n",
    "# 1. Подготовка"
   ]
  },
  {
   "cell_type": "markdown",
   "metadata": {},
   "source": [
    "Импортируем необходимые для работы модули:"
   ]
  },
  {
   "cell_type": "code",
   "execution_count": 1,
   "metadata": {},
   "outputs": [],
   "source": [
    "import os\n",
    "import pandas as pd\n",
    "import numpy as np\n",
    "import matplotlib.pyplot as plt\n",
    "import re\n",
    "\n",
    "import nltk\n",
    "from nltk.corpus import wordnet\n",
    "from nltk.stem import WordNetLemmatizer\n",
    "from nltk.corpus import stopwords as nltk_stopwords\n",
    "from sklearn.feature_extraction.text import TfidfVectorizer\n",
    "\n",
    "from sklearn.pipeline import Pipeline\n",
    "from sklearn.model_selection import train_test_split, GridSearchCV\n",
    "from sklearn.metrics import f1_score\n",
    "\n",
    "from sklearn.linear_model import LogisticRegression\n",
    "from sklearn.tree import DecisionTreeClassifier\n",
    "from catboost import CatBoostClassifier\n",
    "\n",
    "import warnings"
   ]
  },
  {
   "cell_type": "markdown",
   "metadata": {},
   "source": [
    "Загрузим необходимые для библиотеки `nltk` токенизаторы, разметчики, словари:"
   ]
  },
  {
   "cell_type": "code",
   "execution_count": 2,
   "metadata": {},
   "outputs": [
    {
     "name": "stderr",
     "output_type": "stream",
     "text": [
      "[nltk_data] Downloading package punkt to /home/jovyan/nltk_data...\n",
      "[nltk_data]   Package punkt is already up-to-date!\n",
      "[nltk_data] Downloading package averaged_perceptron_tagger to\n",
      "[nltk_data]     /home/jovyan/nltk_data...\n",
      "[nltk_data]   Unzipping taggers/averaged_perceptron_tagger.zip.\n",
      "[nltk_data] Downloading package wordnet to /home/jovyan/nltk_data...\n",
      "[nltk_data]   Package wordnet is already up-to-date!\n",
      "[nltk_data] Downloading package stopwords to /home/jovyan/nltk_data...\n",
      "[nltk_data]   Package stopwords is already up-to-date!\n"
     ]
    },
    {
     "data": {
      "text/plain": [
       "True"
      ]
     },
     "execution_count": 2,
     "metadata": {},
     "output_type": "execute_result"
    }
   ],
   "source": [
    "nltk.download('punkt')\n",
    "nltk.download('averaged_perceptron_tagger')\n",
    "nltk.download('wordnet')\n",
    "nltk.download('stopwords')"
   ]
  },
  {
   "cell_type": "markdown",
   "metadata": {},
   "source": [
    "Настроим параметры и функции вывода на экран:"
   ]
  },
  {
   "cell_type": "code",
   "execution_count": 3,
   "metadata": {},
   "outputs": [],
   "source": [
    "# настройки вывода датафреймов\n",
    "pd.set_option('display.max_rows', 500)\n",
    "pd.set_option('display.max_colwidth', 200)\n",
    "pd.set_option('display.max_columns', None)"
   ]
  },
  {
   "cell_type": "code",
   "execution_count": 4,
   "metadata": {},
   "outputs": [],
   "source": [
    "# отключаем предупреждения\n",
    "warnings.filterwarnings('ignore')"
   ]
  },
  {
   "cell_type": "code",
   "execution_count": 5,
   "metadata": {},
   "outputs": [],
   "source": [
    "# зададим жирный шрифт и цвет вывода при помощи ANSI escape sequences\n",
    "reset = '\\033[0m'\n",
    "bold = reset + '\\033[1m'\n",
    "color_bold = reset + '\\033[1;94m'"
   ]
  },
  {
   "cell_type": "code",
   "execution_count": 6,
   "metadata": {},
   "outputs": [],
   "source": [
    "# функция вывода цветного заголовка (bold, blue) с линиями сверху и снизу\n",
    "def head_print(text, linesize=None):\n",
    "    linesize = linesize or len(text)\n",
    "    line = '—' * linesize\n",
    "    print(color_bold + line)\n",
    "    print(text)\n",
    "    print(line + reset)"
   ]
  },
  {
   "cell_type": "code",
   "execution_count": 1,
   "metadata": {},
   "outputs": [],
   "source": [
    "# константа для фиксации сидов (параметр random_state=RND)\n",
    "RND = 1"
   ]
  },
  {
   "cell_type": "markdown",
   "metadata": {},
   "source": [
    "<br><br>\n",
    "\n",
    "## 1.1. Загрузка и изучение данных"
   ]
  },
  {
   "cell_type": "markdown",
   "metadata": {},
   "source": [
    "Загрузим данные из файла в датафрейм `df`:"
   ]
  },
  {
   "cell_type": "code",
   "execution_count": 8,
   "metadata": {},
   "outputs": [
    {
     "name": "stdout",
     "output_type": "stream",
     "text": [
      "Файл с данными \"\u001b[0m\u001b[1;94mtoxic_comments.csv\u001b[0m\" был найден и загружен по адресу:\n",
      "\u001b[0m\u001b[1;94m/datasets/toxic_comments.csv\u001b[0m\n"
     ]
    }
   ],
   "source": [
    "file_name = 'toxic_comments.csv'\n",
    "for path in ['', 'data/', 'datasets/', '/datasets/']:\n",
    "    if os.path.exists(path + file_name):\n",
    "        break\n",
    "else:\n",
    "    path = 'https://code.s3.yandex.net/datasets/'\n",
    "df = pd.read_csv(path + file_name)\n",
    "print(f'Файл с данными \"{color_bold + file_name + reset}\" был найден и загружен по адресу:')\n",
    "print(color_bold + path + file_name + reset)"
   ]
  },
  {
   "cell_type": "markdown",
   "metadata": {},
   "source": [
    "Выведем общую информацию о датафрейме `df`, изучим данные:"
   ]
  },
  {
   "cell_type": "code",
   "execution_count": 9,
   "metadata": {
    "scrolled": false
   },
   "outputs": [
    {
     "name": "stdout",
     "output_type": "stream",
     "text": [
      "\u001b[0m\u001b[1;94m——————————————————————————————————————————————————\n",
      "В датафрейме \"df\":    Строк: 159292    Столбцов: 3\n",
      "——————————————————————————————————————————————————\u001b[0m\n",
      "\u001b[0m\u001b[1;94m\n",
      "Первые и последние 5 строк:\n"
     ]
    },
    {
     "data": {
      "text/html": [
       "<div>\n",
       "<style scoped>\n",
       "    .dataframe tbody tr th:only-of-type {\n",
       "        vertical-align: middle;\n",
       "    }\n",
       "\n",
       "    .dataframe tbody tr th {\n",
       "        vertical-align: top;\n",
       "    }\n",
       "\n",
       "    .dataframe thead th {\n",
       "        text-align: right;\n",
       "    }\n",
       "</style>\n",
       "<table border=\"1\" class=\"dataframe\">\n",
       "  <thead>\n",
       "    <tr style=\"text-align: right;\">\n",
       "      <th></th>\n",
       "      <th>Unnamed: 0</th>\n",
       "      <th>text</th>\n",
       "      <th>toxic</th>\n",
       "    </tr>\n",
       "  </thead>\n",
       "  <tbody>\n",
       "    <tr>\n",
       "      <th>0</th>\n",
       "      <td>0</td>\n",
       "      <td>Explanation\\nWhy the edits made under my username Hardcore Metallica Fan were reverted? They weren't vandalisms, just closure on some GAs after I voted at New York Dolls FAC. And please don't remo...</td>\n",
       "      <td>0</td>\n",
       "    </tr>\n",
       "    <tr>\n",
       "      <th>1</th>\n",
       "      <td>1</td>\n",
       "      <td>D'aww! He matches this background colour I'm seemingly stuck with. Thanks.  (talk) 21:51, January 11, 2016 (UTC)</td>\n",
       "      <td>0</td>\n",
       "    </tr>\n",
       "    <tr>\n",
       "      <th>2</th>\n",
       "      <td>2</td>\n",
       "      <td>Hey man, I'm really not trying to edit war. It's just that this guy is constantly removing relevant information and talking to me through edits instead of my talk page. He seems to care more about...</td>\n",
       "      <td>0</td>\n",
       "    </tr>\n",
       "    <tr>\n",
       "      <th>3</th>\n",
       "      <td>3</td>\n",
       "      <td>\"\\nMore\\nI can't make any real suggestions on improvement - I wondered if the section statistics should be later on, or a subsection of \"\"types of accidents\"\"  -I think the references may need tid...</td>\n",
       "      <td>0</td>\n",
       "    </tr>\n",
       "    <tr>\n",
       "      <th>4</th>\n",
       "      <td>4</td>\n",
       "      <td>You, sir, are my hero. Any chance you remember what page that's on?</td>\n",
       "      <td>0</td>\n",
       "    </tr>\n",
       "    <tr>\n",
       "      <th>...</th>\n",
       "      <td>...</td>\n",
       "      <td>...</td>\n",
       "      <td>...</td>\n",
       "    </tr>\n",
       "    <tr>\n",
       "      <th>159287</th>\n",
       "      <td>159446</td>\n",
       "      <td>\":::::And for the second time of asking, when your view completely contradicts the coverage in reliable sources, why should anyone care what you feel? You can't even give a consistent argument - i...</td>\n",
       "      <td>0</td>\n",
       "    </tr>\n",
       "    <tr>\n",
       "      <th>159288</th>\n",
       "      <td>159447</td>\n",
       "      <td>You should be ashamed of yourself \\n\\nThat is a horrible thing you put on my talk page.  128.61.19.93</td>\n",
       "      <td>0</td>\n",
       "    </tr>\n",
       "    <tr>\n",
       "      <th>159289</th>\n",
       "      <td>159448</td>\n",
       "      <td>Spitzer \\n\\nUmm, theres no actual article for prostitution ring.  - Crunch Captain.</td>\n",
       "      <td>0</td>\n",
       "    </tr>\n",
       "    <tr>\n",
       "      <th>159290</th>\n",
       "      <td>159449</td>\n",
       "      <td>And it looks like it was actually you who put on the speedy to have the first version deleted now that I look at it.</td>\n",
       "      <td>0</td>\n",
       "    </tr>\n",
       "    <tr>\n",
       "      <th>159291</th>\n",
       "      <td>159450</td>\n",
       "      <td>\"\\nAnd ... I really don't think you understand.  I came here and my idea was bad right away.  What kind of community goes \"\"you have bad ideas\"\" go away, instead of helping rewrite them.   \"</td>\n",
       "      <td>0</td>\n",
       "    </tr>\n",
       "  </tbody>\n",
       "</table>\n",
       "<p>159292 rows × 3 columns</p>\n",
       "</div>"
      ],
      "text/plain": [
       "        Unnamed: 0  \\\n",
       "0                0   \n",
       "1                1   \n",
       "2                2   \n",
       "3                3   \n",
       "4                4   \n",
       "...            ...   \n",
       "159287      159446   \n",
       "159288      159447   \n",
       "159289      159448   \n",
       "159290      159449   \n",
       "159291      159450   \n",
       "\n",
       "                                                                                                                                                                                                           text  \\\n",
       "0       Explanation\\nWhy the edits made under my username Hardcore Metallica Fan were reverted? They weren't vandalisms, just closure on some GAs after I voted at New York Dolls FAC. And please don't remo...   \n",
       "1                                                                                              D'aww! He matches this background colour I'm seemingly stuck with. Thanks.  (talk) 21:51, January 11, 2016 (UTC)   \n",
       "2       Hey man, I'm really not trying to edit war. It's just that this guy is constantly removing relevant information and talking to me through edits instead of my talk page. He seems to care more about...   \n",
       "3       \"\\nMore\\nI can't make any real suggestions on improvement - I wondered if the section statistics should be later on, or a subsection of \"\"types of accidents\"\"  -I think the references may need tid...   \n",
       "4                                                                                                                                           You, sir, are my hero. Any chance you remember what page that's on?   \n",
       "...                                                                                                                                                                                                         ...   \n",
       "159287  \":::::And for the second time of asking, when your view completely contradicts the coverage in reliable sources, why should anyone care what you feel? You can't even give a consistent argument - i...   \n",
       "159288                                                                                                    You should be ashamed of yourself \\n\\nThat is a horrible thing you put on my talk page.  128.61.19.93   \n",
       "159289                                                                                                                      Spitzer \\n\\nUmm, theres no actual article for prostitution ring.  - Crunch Captain.   \n",
       "159290                                                                                     And it looks like it was actually you who put on the speedy to have the first version deleted now that I look at it.   \n",
       "159291           \"\\nAnd ... I really don't think you understand.  I came here and my idea was bad right away.  What kind of community goes \"\"you have bad ideas\"\" go away, instead of helping rewrite them.   \"   \n",
       "\n",
       "        toxic  \n",
       "0           0  \n",
       "1           0  \n",
       "2           0  \n",
       "3           0  \n",
       "4           0  \n",
       "...       ...  \n",
       "159287      0  \n",
       "159288      0  \n",
       "159289      0  \n",
       "159290      0  \n",
       "159291      0  \n",
       "\n",
       "[159292 rows x 3 columns]"
      ]
     },
     "metadata": {},
     "output_type": "display_data"
    },
    {
     "name": "stdout",
     "output_type": "stream",
     "text": [
      "\n",
      "\u001b[0m\u001b[1;94mОбщая информация:\n",
      "\u001b[0m\n",
      "<class 'pandas.core.frame.DataFrame'>\n",
      "RangeIndex: 159292 entries, 0 to 159291\n",
      "Data columns (total 3 columns):\n",
      " #   Column      Non-Null Count   Dtype \n",
      "---  ------      --------------   ----- \n",
      " 0   Unnamed: 0  159292 non-null  int64 \n",
      " 1   text        159292 non-null  object\n",
      " 2   toxic       159292 non-null  int64 \n",
      "dtypes: int64(2), object(1)\n",
      "memory usage: 3.6+ MB\n",
      "None\n",
      "\n",
      "\u001b[0m\u001b[1;94mКоличество пропусков: 0\u001b[0m\n"
     ]
    }
   ],
   "source": [
    "head_print(f'В датафрейме \"df\":    Строк: {df.shape[0]}    Столбцов: {df.shape[1]}')\n",
    "print(color_bold + '\\nПервые и последние 5 строк:')\n",
    "display(df)\n",
    "print('\\n' + color_bold + 'Общая информация:\\n' + reset)\n",
    "print(df.info())\n",
    "print('\\n' + color_bold + f'Количество пропусков: {df.isna().sum().sum()}' + reset)"
   ]
  },
  {
   "cell_type": "markdown",
   "metadata": {},
   "source": [
    "ИТАК, у нас имеется датафрейм `df` с 159292 строчками и 3 столбцами:\n",
    "- Пропусков в данных нет, тип данных правильный\n",
    "- Столбец `text` содержит тексты комментариев\n",
    "- Столбец `toxic` — целевой признак — определяет, токсичный комментарий, или нет, и может содержать только значения `1`, или `0`. Таким образом перед нами стоит задача бинарной классификации\n",
    "- Столбец `Unnamed: 0` — это старые индексы (видимо, сохранились с тех времён, когда в датасете было на 159 записей больше), можем его удалить"
   ]
  },
  {
   "cell_type": "code",
   "execution_count": 10,
   "metadata": {},
   "outputs": [],
   "source": [
    "# удаляем столбец 'Unnamed: 0'\n",
    "df = df.drop(['Unnamed: 0'], axis=1)"
   ]
  },
  {
   "cell_type": "markdown",
   "metadata": {},
   "source": [
    "<br><br>\n",
    "\n",
    "## 1.2. Очистка текста"
   ]
  },
  {
   "cell_type": "markdown",
   "metadata": {},
   "source": [
    "Видим, что в комментариях много \"мусора\" помимо английских слов — цифры, скобки, знаки препинания, символы переноса строки и т.п. Кроме того, в текстах много сокращённых форм глагола, таких как \"weren't\", \"don't\", \"I'm\", \"can't\" и т.п. Необходимо \"почистить\" комментарии, оставив в них только слова из английских символов и пробелы. Напишем для этого функцию и применим к столбцу с комментариями:"
   ]
  },
  {
   "cell_type": "code",
   "execution_count": 11,
   "metadata": {},
   "outputs": [],
   "source": [
    "# функция возвращает очищенный текст (только англ. символы и одиночные пробелы)\n",
    "def clean_text(text):\n",
    "    text = text.lower()\n",
    "    # замена n't\n",
    "    text = re.sub(r\"won't\", \"will not \", text)\n",
    "    text = re.sub(r\"can't\", \"cannot \", text)\n",
    "    text = re.sub(r\"ain't\", \"are not \", text)\n",
    "    text = re.sub(r\"n't\", \" not \", text)\n",
    "    # замена 's\n",
    "    text = re.sub(r\"she's\", \"she is \", text)\n",
    "    text = re.sub(r\"he's\", \"he is \", text)\n",
    "    text = re.sub(r\"it's\", \"it is \", text)\n",
    "    text = re.sub(r\"that's\", \"that is \", text)\n",
    "    text = re.sub(r\"there's\", \"there is \", text)\n",
    "    text = re.sub(r\"how's\", \"how is \", text)\n",
    "    text = re.sub(r\"where's\", \"where is \", text)\n",
    "    text = re.sub(r\"what's\", \"what is \", text)\n",
    "    text = re.sub(r\"who's\", \"who is \", text)\n",
    "    text = re.sub(r\"let's\", \"let us \", text)\n",
    "    text = re.sub(r\"'s\", \" \", text)\n",
    "    # замена остальных 'xx\n",
    "    text = re.sub(r\"i'm\", \"i am \", text)\n",
    "    text = re.sub(r\"'re\", \" are \", text)\n",
    "    text = re.sub(r\"'ve\", \" have \", text)\n",
    "    text = re.sub(r\"'d\", \" had \", text)\n",
    "    text = re.sub(r\"'ll\", \" will \", text)\n",
    "    # удаление всех не английских символов\n",
    "    text = re.sub(r'[^a-zA-Z]', ' ', text)   \n",
    "    # удаление лишних пробелов\n",
    "    text = re.sub('\\s+', ' ', text)\n",
    "    text = text.strip(' ')\n",
    "    return text"
   ]
  },
  {
   "cell_type": "code",
   "execution_count": 12,
   "metadata": {},
   "outputs": [
    {
     "name": "stdout",
     "output_type": "stream",
     "text": [
      "CPU times: user 9 s, sys: 116 ms, total: 9.12 s\n",
      "Wall time: 9.12 s\n"
     ]
    }
   ],
   "source": [
    "%%time\n",
    "df['text'] = df['text'].apply(clean_text)"
   ]
  },
  {
   "cell_type": "markdown",
   "metadata": {},
   "source": [
    "Выведем первые 5 комментариев:"
   ]
  },
  {
   "cell_type": "code",
   "execution_count": 13,
   "metadata": {},
   "outputs": [
    {
     "name": "stdout",
     "output_type": "stream",
     "text": [
      "\u001b[0m\u001b[1;94m————————————————————————————————————————————————————————————————————————————————\n",
      "Тексты комментариев (первые 5):\n",
      "————————————————————————————————————————————————————————————————————————————————\u001b[0m\n",
      "\u001b[0m\u001b[1;94m0:\n",
      "\u001b[0mexplanation why the edits made under my username hardcore metallica fan were reverted they were not vandalisms just closure on some gas after i voted at new york dolls fac and please do not remove the template from the talk page since i am retired now\n",
      "\n",
      "\u001b[0m\u001b[1;94m1:\n",
      "\u001b[0md aww he matches this background colour i am seemingly stuck with thanks talk january utc\n",
      "\n",
      "\u001b[0m\u001b[1;94m2:\n",
      "\u001b[0mhey man i am really not trying to edit war it is just that this guy is constantly removing relevant information and talking to me through edits instead of my talk page he seems to care more about the formatting than the actual info\n",
      "\n",
      "\u001b[0m\u001b[1;94m3:\n",
      "\u001b[0mmore i cannot make any real suggestions on improvement i wondered if the section statistics should be later on or a subsection of types of accidents i think the references may need tidying so that they are all in the exact same format ie date format etc i can do that later on if no one else does first if you have any preferences for formatting style on references or want to do it yourself please let me know there appears to be a backlog on articles for review so i guess there may be a delay until a reviewer turns up it is listed in the relevant form eg wikipedia good article nominations transport\n",
      "\n",
      "\u001b[0m\u001b[1;94m4:\n",
      "\u001b[0myou sir are my hero any chance you remember what page that is on\n",
      "\n"
     ]
    }
   ],
   "source": [
    "def show_comments(n=5):\n",
    "    head_print(f'Тексты комментариев (первые {n}):', 80)\n",
    "    for i in range(n):\n",
    "        print(color_bold + f\"{i}:\\n\" + reset + f\"{df['text'][i]}\\n\")\n",
    "\n",
    "\n",
    "show_comments()"
   ]
  },
  {
   "cell_type": "markdown",
   "metadata": {},
   "source": [
    "Отлично, тексты комментариев почищены"
   ]
  },
  {
   "cell_type": "markdown",
   "metadata": {},
   "source": [
    "<br><br>\n",
    "\n",
    "## 1.3. Лемматизация текста"
   ]
  },
  {
   "cell_type": "markdown",
   "metadata": {},
   "source": [
    "Теперь для дальнейшей работы нужно лемматизировать все тексты — то есть привести все слова в них к начальным формам — леммам. Для лемматизации английских текстов воспользуемся функцией `WordNetLemmatizer()` из модуля `nltk`. Эта функция позволяет лемматизировать различные части речи (существительные, глаголы, причастия, ...). Для этого нужно каждое слово \"пометить\" тегом, определяющим, к какой части речи оно относится. Напишем функцию определения части речи, функцию лемматизации текста и применим её к столбцу с комментариями:"
   ]
  },
  {
   "cell_type": "code",
   "execution_count": 14,
   "metadata": {},
   "outputs": [],
   "source": [
    "lemmatizer = WordNetLemmatizer()\n",
    "\n",
    "\n",
    "# функция возвращает POS (часть речи) из словаря по первой букве POS-тега\n",
    "def get_pos(word):\n",
    "    # первая (с индексом 0) буква POS-тэга в верхнем регистре\n",
    "    tag = nltk.pos_tag([word])[0][1][0].upper()\n",
    "    # словарь частей речи (POS), ключ: первая буква POS-тега\n",
    "    pos_dict = {\"N\": wordnet.NOUN,  # существительное 'n'\n",
    "                \"J\": wordnet.ADJ,   # прилагательное 'a'\n",
    "                \"V\": wordnet.VERB,  # глагол 'v'\n",
    "                \"R\": wordnet.ADV}   # наречие 'r'\n",
    "    return pos_dict.get(tag, wordnet.NOUN)\n",
    "\n",
    "\n",
    "# функция лемматизации текста\n",
    "def lemmatize_text(text):\n",
    "    text = [lemmatizer.lemmatize(word, get_pos(word)) for word in nltk.word_tokenize(text)]\n",
    "    return ' '.join(text)"
   ]
  },
  {
   "cell_type": "code",
   "execution_count": 15,
   "metadata": {},
   "outputs": [
    {
     "name": "stdout",
     "output_type": "stream",
     "text": [
      "CPU times: user 16min 5s, sys: 1min 33s, total: 17min 38s\n",
      "Wall time: 17min 41s\n"
     ]
    }
   ],
   "source": [
    "%%time\n",
    "df['text'] = df['text'].apply(lemmatize_text)"
   ]
  },
  {
   "cell_type": "markdown",
   "metadata": {},
   "source": [
    "Выведем результат, первые 5 комментариев:"
   ]
  },
  {
   "cell_type": "code",
   "execution_count": 16,
   "metadata": {},
   "outputs": [
    {
     "name": "stdout",
     "output_type": "stream",
     "text": [
      "\u001b[0m\u001b[1;94m————————————————————————————————————————————————————————————————————————————————\n",
      "Тексты комментариев (первые 5):\n",
      "————————————————————————————————————————————————————————————————————————————————\u001b[0m\n",
      "\u001b[0m\u001b[1;94m0:\n",
      "\u001b[0mexplanation why the edits make under my username hardcore metallica fan be revert they be not vandalism just closure on some gas after i vote at new york doll fac and please do not remove the template from the talk page since i be retire now\n",
      "\n",
      "\u001b[0m\u001b[1;94m1:\n",
      "\u001b[0md aww he match this background colour i be seemingly stuck with thanks talk january utc\n",
      "\n",
      "\u001b[0m\u001b[1;94m2:\n",
      "\u001b[0mhey man i be really not try to edit war it be just that this guy be constantly remove relevant information and talk to me through edits instead of my talk page he seem to care more about the format than the actual info\n",
      "\n",
      "\u001b[0m\u001b[1;94m3:\n",
      "\u001b[0mmore i can not make any real suggestion on improvement i wonder if the section statistic should be later on or a subsection of type of accident i think the reference may need tidy so that they be all in the exact same format ie date format etc i can do that later on if no one else do first if you have any preference for format style on reference or want to do it yourself please let me know there appear to be a backlog on article for review so i guess there may be a delay until a reviewer turn up it be list in the relevant form eg wikipedia good article nomination transport\n",
      "\n",
      "\u001b[0m\u001b[1;94m4:\n",
      "\u001b[0myou sir be my hero any chance you remember what page that be on\n",
      "\n"
     ]
    }
   ],
   "source": [
    "show_comments()"
   ]
  },
  {
   "cell_type": "markdown",
   "metadata": {},
   "source": [
    "Тексты комментариев лемматизированы"
   ]
  },
  {
   "cell_type": "markdown",
   "metadata": {},
   "source": [
    "<br><br>\n",
    "\n",
    "## 1.4. Исследование баланса классов"
   ]
  },
  {
   "cell_type": "markdown",
   "metadata": {},
   "source": [
    "Выделим отдельно фичи `X` и целевой признак, таргет `y`:"
   ]
  },
  {
   "cell_type": "code",
   "execution_count": 17,
   "metadata": {},
   "outputs": [],
   "source": [
    "X = df.drop(['toxic'], axis=1)\n",
    "y = df['toxic']"
   ]
  },
  {
   "cell_type": "markdown",
   "metadata": {},
   "source": [
    "Теперь исследуем целевой признак на предмет баланса классов. Выведем распределение классов:"
   ]
  },
  {
   "cell_type": "code",
   "execution_count": 18,
   "metadata": {},
   "outputs": [],
   "source": [
    "# функция вывода баланса классов для выборки (по умолчанию для исходного датасета)\n",
    "def get_ballance(data=y, subset='Исходный датасет'):\n",
    "    count = np.bincount(data)\n",
    "    head_print(f'{subset}:', 40)\n",
    "    print(color_bold + f'Всего значений   {len(data):<6}')\n",
    "    print(f'Из них: нулей    {count[0]:<6}  ({count[0] / len(data):.2%})')\n",
    "    print(f'        единиц   {count[1]:<6}  ({count[1] / len(data):.2%})')\n",
    "    print(reset)"
   ]
  },
  {
   "cell_type": "code",
   "execution_count": 19,
   "metadata": {},
   "outputs": [
    {
     "name": "stdout",
     "output_type": "stream",
     "text": [
      "\u001b[0m\u001b[1;94m————————————————————————————————————————\n",
      "Исходный датасет:\n",
      "————————————————————————————————————————\u001b[0m\n",
      "\u001b[0m\u001b[1;94mВсего значений   159292\n",
      "Из них: нулей    143106  (89.84%)\n",
      "        единиц   16186   (10.16%)\n",
      "\u001b[0m\n"
     ]
    }
   ],
   "source": [
    "get_ballance()"
   ]
  },
  {
   "cell_type": "markdown",
   "metadata": {},
   "source": [
    "Визуализируем:"
   ]
  },
  {
   "cell_type": "code",
   "execution_count": 20,
   "metadata": {},
   "outputs": [
    {
     "data": {
      "image/png": "[encoded data removed]",
      "text/plain": [
       "<Figure size 216x216 with 1 Axes>"
      ]
     },
     "metadata": {},
     "output_type": "display_data"
    }
   ],
   "source": [
    "pd.Series(np.bincount(y)).plot(kind='pie', label='', figsize=(3, 3), autopct='%1.1f%%')\n",
    "plt.title('Соотношение классов целевого признака')\n",
    "plt.show()"
   ]
  },
  {
   "cell_type": "markdown",
   "metadata": {},
   "source": [
    "Наблюдаем сильный дисбаланс классов — нулей примерно в девять раз больше, чем единиц. Необходимо будет учесть это при обучении моделей! "
   ]
  },
  {
   "cell_type": "markdown",
   "metadata": {},
   "source": [
    "<br><br>\n",
    "\n",
    "## 1.5. Разделение данных на выборки"
   ]
  },
  {
   "cell_type": "markdown",
   "metadata": {},
   "source": [
    "Разделим данные в соотношении 3:1 — 75% для обучающей выборки и 25% для тестовой. Учитывая дисбаланс классов, применим параметр `stratify` для сохранения соотношения нулей и единиц для всех выборок на том же уровне, что и в исходном целевом признаке:"
   ]
  },
  {
   "cell_type": "code",
   "execution_count": 21,
   "metadata": {},
   "outputs": [],
   "source": [
    "X_train, X_test, y_train, y_test = train_test_split(X, y, test_size=0.25, random_state=RND, stratify=y)"
   ]
  },
  {
   "cell_type": "code",
   "execution_count": 22,
   "metadata": {},
   "outputs": [
    {
     "name": "stdout",
     "output_type": "stream",
     "text": [
      "\u001b[0m\u001b[1;94mРазмер обучающей выборки    : 119469\n",
      "Размер тестовой выборки     : 39823 \u001b[0m\n"
     ]
    }
   ],
   "source": [
    "print(color_bold + 'Размер обучающей выборки    :', len(X_train))\n",
    "print('Размер тестовой выборки     :', len(X_test), reset)"
   ]
  },
  {
   "cell_type": "markdown",
   "metadata": {},
   "source": [
    "Убедимся, что соотношение нулей и единиц во всех выборках совпадает с изначальным дисбалансом классов в датасете:"
   ]
  },
  {
   "cell_type": "code",
   "execution_count": 23,
   "metadata": {},
   "outputs": [
    {
     "name": "stdout",
     "output_type": "stream",
     "text": [
      "\u001b[0m\u001b[1;94m————————————————————————————————————————\n",
      "Исходный датасет:\n",
      "————————————————————————————————————————\u001b[0m\n",
      "\u001b[0m\u001b[1;94mВсего значений   159292\n",
      "Из них: нулей    143106  (89.84%)\n",
      "        единиц   16186   (10.16%)\n",
      "\u001b[0m\n",
      "\u001b[0m\u001b[1;94m————————————————————————————————————————\n",
      "Обучающая выборка:\n",
      "————————————————————————————————————————\u001b[0m\n",
      "\u001b[0m\u001b[1;94mВсего значений   119469\n",
      "Из них: нулей    107330  (89.84%)\n",
      "        единиц   12139   (10.16%)\n",
      "\u001b[0m\n",
      "\u001b[0m\u001b[1;94m————————————————————————————————————————\n",
      "Тестовая выборка:\n",
      "————————————————————————————————————————\u001b[0m\n",
      "\u001b[0m\u001b[1;94mВсего значений   39823 \n",
      "Из них: нулей    35776   (89.84%)\n",
      "        единиц   4047    (10.16%)\n",
      "\u001b[0m\n"
     ]
    }
   ],
   "source": [
    "get_ballance()\n",
    "get_ballance(y_train, 'Обучающая выборка')\n",
    "get_ballance(y_test, 'Тестовая выборка')"
   ]
  },
  {
   "cell_type": "markdown",
   "metadata": {},
   "source": [
    "ИТАК, в ходе подготовки мы:\n",
    "- Загрузили и изучили данные\n",
    "- Провели первичную очистку текста (оставили только английские слова и пробелы)\n",
    "- Провели лемматизацию текста (привели все слова к начальным формам - леммам)\n",
    "- Исследовали баланс классов (обнаружен дисбаланс 9:1)\n",
    "- Разделили данные на обучающую и тестовую выборки\n",
    "\n",
    "Всё готово для обучения моделей"
   ]
  },
  {
   "cell_type": "markdown",
   "metadata": {},
   "source": [
    "<br><br><br><br>\n",
    "\n",
    "# 2. Обучение"
   ]
  },
  {
   "cell_type": "markdown",
   "metadata": {},
   "source": [
    "Подготовим функцию для вывода результатов подбора параметров моделей:"
   ]
  },
  {
   "cell_type": "code",
   "execution_count": 24,
   "metadata": {},
   "outputs": [],
   "source": [
    "def show_search_results(model, params, score):\n",
    "    head_print(f'Модель: {model}', 80)\n",
    "    print(color_bold + f'Лучшие параметры: {params}' + reset)\n",
    "    print(color_bold + f'F1 = {round(score, 3)}' + reset)\n",
    "    print()"
   ]
  },
  {
   "cell_type": "markdown",
   "metadata": {},
   "source": [
    "Обучим разные модели. Будем использовать пайплайн, для того чтобы TF-IDF векторизатор внутри кросс-валидации обучался только на train-фолдах. Подберём гиперпараметры и выберем лучшую модель по метрике F1:"
   ]
  },
  {
   "cell_type": "markdown",
   "metadata": {},
   "source": [
    "<br><br>\n",
    "\n",
    "## 2.1. Модель LogisticRegression"
   ]
  },
  {
   "cell_type": "markdown",
   "metadata": {},
   "source": [
    "Подберем гиперпараметры для наилучшей модели и рассчитаем метрику F1 на кросс-валидации:"
   ]
  },
  {
   "cell_type": "code",
   "execution_count": 25,
   "metadata": {
    "scrolled": false
   },
   "outputs": [
    {
     "name": "stdout",
     "output_type": "stream",
     "text": [
      "\u001b[0m\u001b[1;94m————————————————————————————————————————————————————————————————————————————————\n",
      "Модель: LogisticRegression\n",
      "————————————————————————————————————————————————————————————————————————————————\u001b[0m\n",
      "\u001b[0m\u001b[1;94mЛучшие параметры: {'model__C': 10, 'model__solver': 'lbfgs'}\u001b[0m\n",
      "\u001b[0m\u001b[1;94mF1 = 0.756\u001b[0m\n",
      "\n",
      "CPU times: user 2min 20s, sys: 2min 26s, total: 4min 47s\n",
      "Wall time: 4min 48s\n"
     ]
    }
   ],
   "source": [
    "%%time\n",
    "pipeline = Pipeline([('tfidf', TfidfVectorizer(stop_words=nltk_stopwords.words('english'))), \n",
    "                     ('model', LogisticRegression(class_weight='balanced'))])\n",
    "# params = {'model__solver': ['newton-cg', 'lbfgs', 'liblinear'], 'model__C': [0.1, 1, 10]}  # best: lbfgs, 10\n",
    "params = {'model__solver': ['lbfgs'], 'model__C': [10]}\n",
    "\n",
    "search = GridSearchCV(pipeline, params, scoring='f1', cv=5, n_jobs=-1)\n",
    "search.fit(X_train['text'], y_train)\n",
    "\n",
    "logit_score = search.best_score_\n",
    "logit_model = search.best_estimator_\n",
    "logit_params = search.best_params_\n",
    "\n",
    "show_search_results('LogisticRegression', logit_params, logit_score)"
   ]
  },
  {
   "cell_type": "markdown",
   "metadata": {},
   "source": [
    "<br><br>\n",
    "\n",
    "## 2.2. Модель DecisionTreeClassifier"
   ]
  },
  {
   "cell_type": "markdown",
   "metadata": {},
   "source": [
    "Подберем гиперпараметры для наилучшей модели и рассчитаем метрику F1 на кросс-валидации:"
   ]
  },
  {
   "cell_type": "code",
   "execution_count": 26,
   "metadata": {},
   "outputs": [
    {
     "name": "stdout",
     "output_type": "stream",
     "text": [
      "\u001b[0m\u001b[1;94m————————————————————————————————————————————————————————————————————————————————\n",
      "Модель: DecisionTreeClassifier\n",
      "————————————————————————————————————————————————————————————————————————————————\u001b[0m\n",
      "\u001b[0m\u001b[1;94mЛучшие параметры: {'model__max_depth': 16}\u001b[0m\n",
      "\u001b[0m\u001b[1;94mF1 = 0.605\u001b[0m\n",
      "\n",
      "CPU times: user 1min 17s, sys: 482 ms, total: 1min 18s\n",
      "Wall time: 1min 18s\n"
     ]
    }
   ],
   "source": [
    "%%time\n",
    "pipeline = Pipeline([('tfidf', TfidfVectorizer(stop_words=nltk_stopwords.words('english'))), \n",
    "                     ('model', DecisionTreeClassifier(class_weight='balanced', random_state=RND))])\n",
    "# params = {'model__max_depth': range(9, 19)}  # best 16\n",
    "params = {'model__max_depth': [16]}\n",
    "\n",
    "search = GridSearchCV(pipeline, params, scoring='f1', cv=5, n_jobs=-1)\n",
    "search.fit(X_train['text'], y_train)\n",
    "\n",
    "dtc_score = search.best_score_\n",
    "dtc_model = search.best_estimator_\n",
    "dtc_params = search.best_params_\n",
    "\n",
    "show_search_results('DecisionTreeClassifier', dtc_params, dtc_score)"
   ]
  },
  {
   "cell_type": "markdown",
   "metadata": {},
   "source": [
    "<br><br>\n",
    "\n",
    "## 2.3. Модель CatBoostClassifier"
   ]
  },
  {
   "cell_type": "markdown",
   "metadata": {},
   "source": [
    "Подберем гиперпараметры для наилучшей модели и рассчитаем метрику F1 на кросс-валидации:"
   ]
  },
  {
   "cell_type": "code",
   "execution_count": 27,
   "metadata": {
    "scrolled": false
   },
   "outputs": [
    {
     "name": "stdout",
     "output_type": "stream",
     "text": [
      "\u001b[0m\u001b[1;94m————————————————————————————————————————————————————————————————————————————————\n",
      "Модель: CatBoostClassifier\n",
      "————————————————————————————————————————————————————————————————————————————————\u001b[0m\n",
      "\u001b[0m\u001b[1;94mЛучшие параметры: {'model__max_depth': 5, 'model__n_estimators': 100}\u001b[0m\n",
      "\u001b[0m\u001b[1;94mF1 = 0.725\u001b[0m\n",
      "\n",
      "CPU times: user 14min 12s, sys: 9.68 s, total: 14min 21s\n",
      "Wall time: 14min 28s\n"
     ]
    }
   ],
   "source": [
    "%%time\n",
    "pipeline = Pipeline([('tfidf', TfidfVectorizer(stop_words=nltk_stopwords.words('english'))), \n",
    "                     ('model', CatBoostClassifier(auto_class_weights='Balanced', random_state=RND, verbose=0))])\n",
    "# params = {'model__max_depth': [3, 5, 7], 'model__n_estimators': [80, 100]}  # best 5, 100\n",
    "params = {'model__max_depth': [5], 'model__n_estimators': [100]}\n",
    "\n",
    "search = GridSearchCV(pipeline, params, scoring='f1', cv=5, n_jobs=-1)\n",
    "search.fit(X_train['text'], y_train)\n",
    "\n",
    "cbc_score = search.best_score_\n",
    "cbc_model = search.best_estimator_\n",
    "cbc_params = search.best_params_\n",
    "\n",
    "show_search_results('CatBoostClassifier', cbc_params, cbc_score)"
   ]
  },
  {
   "cell_type": "markdown",
   "metadata": {},
   "source": [
    "<br><br>\n",
    "\n",
    "## 2.4. Сравнение результатов"
   ]
  },
  {
   "cell_type": "markdown",
   "metadata": {},
   "source": [
    "Выведем результаты по всем моделям:"
   ]
  },
  {
   "cell_type": "code",
   "execution_count": 28,
   "metadata": {},
   "outputs": [
    {
     "name": "stdout",
     "output_type": "stream",
     "text": [
      "\u001b[0m\u001b[1;94mЗначения метрики F1 для разных моделей\n",
      "(рассчитаны на кросс-валидации):\u001b[0m\n"
     ]
    },
    {
     "data": {
      "text/html": [
       "<div>\n",
       "<style scoped>\n",
       "    .dataframe tbody tr th:only-of-type {\n",
       "        vertical-align: middle;\n",
       "    }\n",
       "\n",
       "    .dataframe tbody tr th {\n",
       "        vertical-align: top;\n",
       "    }\n",
       "\n",
       "    .dataframe thead th {\n",
       "        text-align: right;\n",
       "    }\n",
       "</style>\n",
       "<table border=\"1\" class=\"dataframe\">\n",
       "  <thead>\n",
       "    <tr style=\"text-align: right;\">\n",
       "      <th></th>\n",
       "      <th>F1</th>\n",
       "    </tr>\n",
       "  </thead>\n",
       "  <tbody>\n",
       "    <tr>\n",
       "      <th>LogisticRegression</th>\n",
       "      <td>0.756</td>\n",
       "    </tr>\n",
       "    <tr>\n",
       "      <th>DecisionTreeClassifier</th>\n",
       "      <td>0.605</td>\n",
       "    </tr>\n",
       "    <tr>\n",
       "      <th>CatBoostClassifier</th>\n",
       "      <td>0.725</td>\n",
       "    </tr>\n",
       "  </tbody>\n",
       "</table>\n",
       "</div>"
      ],
      "text/plain": [
       "                           F1\n",
       "LogisticRegression      0.756\n",
       "DecisionTreeClassifier  0.605\n",
       "CatBoostClassifier      0.725"
      ]
     },
     "metadata": {},
     "output_type": "display_data"
    }
   ],
   "source": [
    "result_table = pd.DataFrame(data={'F1': [logit_score, dtc_score, cbc_score]}, \n",
    "                            index=['LogisticRegression', 'DecisionTreeClassifier', 'CatBoostClassifier'])\n",
    "result_table['F1'] = result_table['F1'].apply(lambda x: round(x, 3))\n",
    "\n",
    "print(color_bold + 'Значения метрики F1 для разных моделей\\n(рассчитаны на кросс-валидации):' + reset)\n",
    "display(result_table)"
   ]
  },
  {
   "cell_type": "markdown",
   "metadata": {},
   "source": [
    "Наилучший результат показала модель логистической регрессии"
   ]
  },
  {
   "cell_type": "markdown",
   "metadata": {},
   "source": [
    "<br><br>\n",
    "\n",
    "## 2.5. Тестирование лучшей модели"
   ]
  },
  {
   "cell_type": "markdown",
   "metadata": {},
   "source": [
    "Протестируем лучшую модель на тестовой выборке и рассчитаем метрику F1:"
   ]
  },
  {
   "cell_type": "code",
   "execution_count": 29,
   "metadata": {},
   "outputs": [
    {
     "name": "stdout",
     "output_type": "stream",
     "text": [
      "\u001b[0m\u001b[1;94m————————————————————————————————————————————————————————————————————————————————\n",
      "Модель: LogisticRegression, проверка на тестовой выборке\n",
      "————————————————————————————————————————————————————————————————————————————————\u001b[0m\n",
      "\u001b[0m\u001b[1;94mF1 = 0.761\u001b[0m\n"
     ]
    }
   ],
   "source": [
    "pred_test = logit_model.predict(X_test['text'])\n",
    "score = f1_score(y_test, pred_test)\n",
    "\n",
    "head_print(f'Модель: LogisticRegression, проверка на тестовой выборке', 80)\n",
    "print(color_bold + f'F1 = {round(score, 3)}' + reset)"
   ]
  },
  {
   "cell_type": "markdown",
   "metadata": {},
   "source": [
    "<br><br><br><br>\n",
    "\n",
    "# 3. Общий вывод"
   ]
  },
  {
   "cell_type": "markdown",
   "metadata": {},
   "source": [
    "В рамках данного проекта мы решали задачу бинарной классификации (определение токсичности комментариев пользователей Интернет-магазина заказчика). В ходе исследования:\n",
    "\n",
    "1. Подготовили данные\n",
    "    - Загрузили и изучили датасет с данными\n",
    "    - Провели первичную очистку и лемматизацию текста\n",
    "    - Разделили данные на обучающую и тестовую выборки с учетом выявленного дисбаланса классов\n",
    "\n",
    "\n",
    "3. Обучили разные модели с различными гиперпараметрами (используя pipeline)\n",
    "    - Рассмотрели 3 модели машинного обучения: `LogisticRegression`, `DecisionTreeClassifier`, `CatBoostClassifier`\n",
    "    - Векторизовали данные, создали матрицы признаков для моделей ML\n",
    "    - Оптимизировали качество моделей, меняя гиперпараметры, сравнив результаты по метрике F1, выбрали лучшую\n",
    "    - Проверили качество лучшей модели на тестовой выборке\n",
    "\n",
    "\n",
    "Лучшие результаты показала модель `LogisticRegression` с самой высокой метрикой F1 (0.756 на кросс-валидации и 0.761 на тестовой выборке). Также это оказалась единственная модель, соответствующая условиям проекта (F1 > 0.75). Таким образом, мы можем использовать данную модель машинного обучения в рамках задачи заказчика для классификации комментариев на положительные и отрицательные"
   ]
  }
 ],
 "metadata": {
  "kernelspec": {
   "display_name": "Python 3 (ipykernel)",
   "language": "python",
   "name": "python3"
  },
  "language_info": {
   "codemirror_mode": {
    "name": "ipython",
    "version": 3
   },
   "file_extension": ".py",
   "mimetype": "text/x-python",
   "name": "python",
   "nbconvert_exporter": "python",
   "pygments_lexer": "ipython3",
   "version": "3.11.4"
  }
 },
 "nbformat": 4,
 "nbformat_minor": 2
}
