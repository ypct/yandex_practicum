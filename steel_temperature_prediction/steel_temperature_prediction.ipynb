{
 "cells": [
  {
   "cell_type": "markdown",
   "id": "60aca45a",
   "metadata": {},
   "source": [
    "# Проект \"Предсказание температуры стали\""
   ]
  },
  {
   "cell_type": "markdown",
   "id": "142dcb75",
   "metadata": {},
   "source": [
    "### Описание задачи"
   ]
  },
  {
   "cell_type": "markdown",
   "id": "22f10418",
   "metadata": {},
   "source": [
    "Наш заказчик – металлургический комбинат ООО \"Так закаляем сталь\" – решил уменьшить потребление электроэнергии на этапе обработки стали, чтобы оптимизировать производственные расходы. Нам предстоит построить модель, которая предскажет температуру стали"
   ]
  },
  {
   "cell_type": "markdown",
   "id": "5984e247",
   "metadata": {},
   "source": [
    "### Описание этапа обработки"
   ]
  },
  {
   "cell_type": "markdown",
   "id": "f01133be",
   "metadata": {},
   "source": [
    "Сталь обрабатывают в металлическом ковше вместимостью около 100 тонн. Чтобы ковш выдерживал высокие температуры, изнутри его облицовывают огнеупорным кирпичом. Расплавленную сталь заливают в ковш и подогревают до нужной температуры графитовыми электродами. Они установлены в крышке ковша\n",
    "\n",
    "Из сплава выводится сера (десульфурация), добавлением примесей корректируется химический состав и отбираются пробы. Сталь легируют – изменяют её состав – подавая куски сплава из бункера для сыпучих материалов или проволоку через специальный трайб-аппарат (англ. tribe, «масса»)\n",
    "\n",
    "Перед тем как первый раз ввести легирующие добавки, измеряют температуру стали и производят её химический анализ. Потом температуру на несколько минут повышают, добавляют легирующие материалы и продувают сплав инертным газом. Затем его перемешивают и снова проводят измерения. Такой цикл повторяется до достижения целевого химического состава и оптимальной температуры плавки\n",
    "\n",
    "Тогда расплавленная сталь отправляется на доводку металла или поступает в машину непрерывной разливки. Оттуда готовый продукт выходит в виде заготовок-слябов (англ. *slab*, «плита»)"
   ]
  },
  {
   "cell_type": "markdown",
   "id": "f5a1c486",
   "metadata": {},
   "source": [
    "### Описание данных"
   ]
  },
  {
   "cell_type": "markdown",
   "id": "7f59973a",
   "metadata": {},
   "source": [
    "Данные находятся в файлах, полученных из разных источников:\n",
    "\n",
    "- `data_arc.csv` – данные об электродах\n",
    "- `data_bulk.csv` – данные о подаче сыпучих материалов (объём)\n",
    "- `data_bulk_time.csv` – данные о подаче сыпучих материалов (время)\n",
    "- `data_gas.csv` – данные о продувке сплава газом\n",
    "- `data_temp.csv` – результаты измерения температуры\n",
    "- `data_wire.csv` – данные о проволочных материалах (объём)\n",
    "- `data_wire_time.csv` — данные о проволочных материалах (время)\n",
    "\n",
    "Во всех файлах столбец `key` содержит номер партии. В файлах может быть несколько строк с одинаковым значением `key`: они соответствуют разным итерациям обработки\n",
    "\n",
    "Файлы находятся в тренажёре, в папке `/datasets/final_steel/`\n",
    "\n",
    "Также их можно скачать по ссылке: [final_steel.zip](https://s3-us-west-2.amazonaws.com/secure.notion-static.com/f3fbea3a-263d-4e1c-babd-0bf07920c911/final_steel.zip)"
   ]
  },
  {
   "cell_type": "markdown",
   "id": "3e99ec6f",
   "metadata": {},
   "source": [
    "### Дополнительно"
   ]
  },
  {
   "cell_type": "markdown",
   "id": "92ca17da",
   "metadata": {},
   "source": [
    "- Для воспроизводимости результатов исследования необходима фиксация сидов: *RANDOM_STATE = 270323* (заказчик хочет увидеть качество выполнения проекта при одних и тех же условиях для каждого исполнителя)\n",
    "- Метрика оценки качества модели: MAE\n",
    "- Критерий качества модели: MAE не более 6.8"
   ]
  },
  {
   "cell_type": "markdown",
   "id": "9b6e4db3",
   "metadata": {},
   "source": [
    "### Примерный план работ (будет актуализирован после изучения данных)"
   ]
  },
  {
   "cell_type": "markdown",
   "id": "b1f9c83b",
   "metadata": {},
   "source": [
    "1. Загрузить данные, провести их предобработку и исследовательский анализ. Провести консультации с представителем заказчика с целью уточнения задачи. По итогам изучения данных и с учётом уточнения задачи у заказчика наметить пути решения задачи и актуализировать план работ\n",
    "2. Построить и сравнить несколько моделей машинного обучения, выбрать лучшую\n",
    "3. Подвести итоги и подготовить отчёт"
   ]
  },
  {
   "cell_type": "markdown",
   "id": "61e0372b",
   "metadata": {},
   "source": [
    "<br><br><br><br>\n",
    "\n",
    "# 1. Загрузка, предобработка и исследовательский анализ данных"
   ]
  },
  {
   "cell_type": "markdown",
   "id": "40ad3926",
   "metadata": {},
   "source": [
    "## 1.1. Подготовка к работе"
   ]
  },
  {
   "cell_type": "markdown",
   "id": "f5207c7e",
   "metadata": {},
   "source": [
    "Импортируем необходимые для работы модули:"
   ]
  },
  {
   "cell_type": "code",
   "execution_count": 1,
   "id": "427b08e8",
   "metadata": {},
   "outputs": [],
   "source": [
    "import os, time, warnings\n",
    "\n",
    "import pandas as pd\n",
    "import matplotlib.pyplot as plt\n",
    "import seaborn as sns\n",
    "\n",
    "from sklearn.model_selection import train_test_split, GridSearchCV\n",
    "from sklearn.preprocessing import MinMaxScaler, StandardScaler, RobustScaler, FunctionTransformer\n",
    "from sklearn.pipeline import Pipeline\n",
    "from sklearn.metrics import mean_absolute_error\n",
    "\n",
    "from sklearn.linear_model import LinearRegression\n",
    "from sklearn.tree import DecisionTreeRegressor\n",
    "from sklearn.ensemble import RandomForestRegressor\n",
    "from catboost import CatBoostRegressor\n",
    "from lightgbm import LGBMRegressor\n",
    "from sklearn.dummy import DummyRegressor"
   ]
  },
  {
   "cell_type": "markdown",
   "id": "499d811b",
   "metadata": {},
   "source": [
    "Проведём некоторые начальные настройки и приготовления:"
   ]
  },
  {
   "cell_type": "code",
   "execution_count": 2,
   "id": "9681187a",
   "metadata": {},
   "outputs": [],
   "source": [
    "# таймер проекта ВКЛ\n",
    "start_prj = time.time()"
   ]
  },
  {
   "cell_type": "code",
   "execution_count": 3,
   "id": "ce8fb5bd",
   "metadata": {},
   "outputs": [],
   "source": [
    "# предупреждения ОТКЛ\n",
    "warnings.filterwarnings('ignore')"
   ]
  },
  {
   "cell_type": "code",
   "execution_count": 4,
   "id": "3a28e3d3",
   "metadata": {},
   "outputs": [],
   "source": [
    "# настройки вывода датафреймов\n",
    "pd.set_option('display.max_rows', 500)\n",
    "pd.set_option('display.max_colwidth', 200)\n",
    "pd.set_option('display.max_columns', None)"
   ]
  },
  {
   "cell_type": "code",
   "execution_count": 5,
   "id": "46b872db",
   "metadata": {},
   "outputs": [],
   "source": [
    "# константа для фиксации рандомайзера\n",
    "RND = RANDOM_STATE = 270323\n",
    "\n",
    "# пороговый критерий качества модели\n",
    "MAE_CRITERIA = 6.8"
   ]
  },
  {
   "cell_type": "markdown",
   "id": "f30ce811",
   "metadata": {},
   "source": [
    "Подготовим функции для вывода необходимой информации:"
   ]
  },
  {
   "cell_type": "code",
   "execution_count": 6,
   "id": "3a834dbc",
   "metadata": {},
   "outputs": [],
   "source": [
    "# жирный/цветной шрифт вывода (ANSI escape sequences)\n",
    "RESET = '\\033[0m'\n",
    "COLOR = RESET + '\\033[34m'\n",
    "BOLD = RESET + '\\033[1m'\n",
    "COLOR_BOLD = RESET + '\\033[1;34m'\n",
    "DASH = '—'"
   ]
  },
  {
   "cell_type": "code",
   "execution_count": 7,
   "id": "9ff3ddbd",
   "metadata": {},
   "outputs": [],
   "source": [
    "# функция выводит цветной заголовок (bold, blue) с линией снизу\n",
    "# аргумент linesize: или не указан (автоподбор длины линии), или целое не нулевое число (fix длина), или 0 (без линии)\n",
    "def head_print(text, linesize=None):\n",
    "    linesize = 0 if linesize == 0 else linesize or len(text)\n",
    "    print(COLOR_BOLD + text)\n",
    "    print(DASH * linesize + RESET, end='\\n' if linesize else '')"
   ]
  },
  {
   "cell_type": "markdown",
   "id": "5a5c1907",
   "metadata": {},
   "source": [
    "Напишем функцию подсчёта затраченного времени:"
   ]
  },
  {
   "cell_type": "code",
   "execution_count": 8,
   "id": "4761c2fe",
   "metadata": {},
   "outputs": [],
   "source": [
    "# функция возвращает разницу во времени в виде строки '(**m **s)' или '(<1s)', если округленное время меньше секунды\n",
    "def get_time(t1, t2):\n",
    "    dt = t2 - t1\n",
    "    if int(dt):\n",
    "        return '(' + (f'{dt//60:.0f}m ' if dt//60 else '') + f'{dt%60:.0f}s)'\n",
    "    return '(<1s)'"
   ]
  },
  {
   "cell_type": "markdown",
   "id": "e001daed",
   "metadata": {},
   "source": [
    "Необходимые библиотеки импортированы, приготовления завершены. Приступим к загрузке данных:"
   ]
  },
  {
   "cell_type": "markdown",
   "id": "a7c769de",
   "metadata": {},
   "source": [
    "<br><br>\n",
    "\n",
    "## 1.2. Загрузка и первичное изучние данных"
   ]
  },
  {
   "cell_type": "markdown",
   "id": "f0cc1cc6",
   "metadata": {},
   "source": [
    "Загрузим данные из файлов в датафреймы: `arc`, `bulk`, `bulk_time`, `gas`, `temp`, `wire` и `wire_time`:"
   ]
  },
  {
   "cell_type": "code",
   "execution_count": 9,
   "id": "bca32981",
   "metadata": {},
   "outputs": [],
   "source": [
    "# жирный/цветной шрифт вывода (ANSI escape sequences)\n",
    "RESET = '\\033[0m'\n",
    "COLOR = RESET + '\\033[35m'\n",
    "BOLD = RESET + '\\033[1m'\n",
    "COLOR_BOLD = RESET + '\\033[1;35m'\n",
    "DASH = '—'"
   ]
  },
  {
   "cell_type": "code",
   "execution_count": 10,
   "id": "6efa0372",
   "metadata": {
    "scrolled": false
   },
   "outputs": [
    {
     "name": "stdout",
     "output_type": "stream",
     "text": [
      "Файл с данными \"\u001b[0m\u001b[1;35mdata_arc.csv\u001b[0m\"       был найден и загружен по адресу: \u001b[0m\u001b[1;35mfinal_steel/data_arc.csv\u001b[0m\n",
      "Файл с данными \"\u001b[0m\u001b[1;35mdata_bulk.csv\u001b[0m\"      был найден и загружен по адресу: \u001b[0m\u001b[1;35mfinal_steel/data_bulk.csv\u001b[0m\n",
      "Файл с данными \"\u001b[0m\u001b[1;35mdata_bulk_time.csv\u001b[0m\" был найден и загружен по адресу: \u001b[0m\u001b[1;35mfinal_steel/data_bulk_time.csv\u001b[0m\n",
      "Файл с данными \"\u001b[0m\u001b[1;35mdata_gas.csv\u001b[0m\"       был найден и загружен по адресу: \u001b[0m\u001b[1;35mfinal_steel/data_gas.csv\u001b[0m\n",
      "Файл с данными \"\u001b[0m\u001b[1;35mdata_temp.csv\u001b[0m\"      был найден и загружен по адресу: \u001b[0m\u001b[1;35mfinal_steel/data_temp.csv\u001b[0m\n",
      "Файл с данными \"\u001b[0m\u001b[1;35mdata_wire.csv\u001b[0m\"      был найден и загружен по адресу: \u001b[0m\u001b[1;35mfinal_steel/data_wire.csv\u001b[0m\n",
      "Файл с данными \"\u001b[0m\u001b[1;35mdata_wire_time.csv\u001b[0m\" был найден и загружен по адресу: \u001b[0m\u001b[1;35mfinal_steel/data_wire_time.csv\u001b[0m\n"
     ]
    }
   ],
   "source": [
    "# список датафреймов для автоматической загрузки\n",
    "dfs = []\n",
    "\n",
    "# названия датафреймов и возможные пути до соответствующих файлов (путь в тренажере, или варианты локальных)\n",
    "names = ['arc', 'bulk', 'bulk_time', 'gas', 'temp', 'wire', 'wire_time']\n",
    "pathes = ['/datasets/final_steel/', '', 'data/', 'datasets/', 'final_steel/', 'datasets/final_steel/']\n",
    "\n",
    "# поиск пути, загрузка и добавление датафрейма в список\n",
    "for name in names:\n",
    "    file_name = 'data_' + name + '.csv'\n",
    "    for path in pathes:\n",
    "        file_path = path + file_name\n",
    "        if os.path.exists(file_path):\n",
    "            dfs.append(pd.read_csv(file_path))\n",
    "            break\n",
    "    # если не нашли по путям из списка путей, попытка скачать по ссылке\n",
    "    else:\n",
    "        file_path = 'https://code.s3.yandex.net/datasets/final_steel/' + file_name\n",
    "        try:\n",
    "            dfs.append(pd.read_csv(file_path))\n",
    "        except:\n",
    "            print('Проверьте наличие необходимых файлов с данными! Как минимум один из них не найден!')\n",
    "            stop\n",
    "    print(f'Файл с данными \"{COLOR_BOLD + file_name + RESET}\"{\" \" * (len(sorted(names, key=len)[-1]) - len(name))}' \n",
    "          + f' был найден и загружен по адресу: {COLOR_BOLD + file_path + RESET}')\n",
    "\n",
    "# именованные датафреймы\n",
    "arc, bulk, bulk_time, gas, temp, wire, wire_time = dfs"
   ]
  },
  {
   "cell_type": "markdown",
   "id": "23b0c43a",
   "metadata": {},
   "source": [
    "Для удобства напишем функцию вывода общей информации о датафрейме:"
   ]
  },
  {
   "cell_type": "code",
   "execution_count": 11,
   "id": "72b9c351",
   "metadata": {},
   "outputs": [],
   "source": [
    "# словарь описаний датафреймов\n",
    "descripts = {\n",
    "    'arc': 'Данные об электродах', \n",
    "    'bulk': 'Данные о подаче сыпучих материалов', \n",
    "    'bulk_time': 'Данные о времени подачи сыпучих материалов', \n",
    "    'gas': 'Данные о продувке сплава газом', \n",
    "    'temp': 'Результаты измерения температуры', \n",
    "    'wire': 'Данные о подаче проволочных материалов', \n",
    "    'wire_time': 'Данные о времени подачи проволочных материалов',\n",
    "    'df': 'Объединённые данные технологических процессов'}"
   ]
  },
  {
   "cell_type": "code",
   "execution_count": 12,
   "id": "c65dbc06",
   "metadata": {},
   "outputs": [],
   "source": [
    "# функция вывода основной информации о датафрейме\n",
    "def show_df_info(df, name):\n",
    "    descript = descripts[name]\n",
    "    head_print(f'\\nДатафрейм `{name}`: {descript}.   (Строк: {df.shape[0]}, столбцов: {df.shape[1]})', 100)\n",
    "    head_print('\\nИнформация о столбцах:\\n', 0)\n",
    "    print(df.info())\n",
    "    head_print('\\nПервые 5 строк:', 0)\n",
    "    display(df.head())\n",
    "    head_print(f'\\nКоличество дубликатов: {df.duplicated().sum()}', 0)\n",
    "    head_print(f'\\nОсновные статистики:', 0)\n",
    "    display(df.describe().T)"
   ]
  },
  {
   "cell_type": "markdown",
   "id": "b94a7c04",
   "metadata": {},
   "source": [
    "В случае, когда исходные данные представлены в нескольких датафреймах, разумным решением для изучения данных будет провести его в два этапа. Сначала беглым взглядом изучим общую, основную информацию о датафреймах (количество строк и столбцов, названия столбцов, типы данных, количество пропусков, общая статистическая информация). Это даст нам первые инсайты, первую информацию о данных, наметит задачи предобработки, выявит особенности. После чего исследуем каждый датафрейм уже более внимательно и пристально, с глубоким анализом и исправлением выявленных ранее недостатков\n",
    "\n",
    "Итак, выведем для начала общую информацию о каждом датафрейме:"
   ]
  },
  {
   "cell_type": "markdown",
   "id": "a7ee25d8",
   "metadata": {},
   "source": [
    "<br>\n",
    "\n",
    "### 1.2.1. Датафрейм `arc`, основная информация:"
   ]
  },
  {
   "cell_type": "code",
   "execution_count": 13,
   "id": "b5c6c0dc",
   "metadata": {},
   "outputs": [
    {
     "name": "stdout",
     "output_type": "stream",
     "text": [
      "\u001b[0m\u001b[1;35m\n",
      "Датафрейм `arc`: Данные об электродах.   (Строк: 14876, столбцов: 5)\n",
      "————————————————————————————————————————————————————————————————————————————————————————————————————\u001b[0m\n",
      "\u001b[0m\u001b[1;35m\n",
      "Информация о столбцах:\n",
      "\n",
      "\u001b[0m<class 'pandas.core.frame.DataFrame'>\n",
      "RangeIndex: 14876 entries, 0 to 14875\n",
      "Data columns (total 5 columns):\n",
      " #   Column                Non-Null Count  Dtype  \n",
      "---  ------                --------------  -----  \n",
      " 0   key                   14876 non-null  int64  \n",
      " 1   Начало нагрева дугой  14876 non-null  object \n",
      " 2   Конец нагрева дугой   14876 non-null  object \n",
      " 3   Активная мощность     14876 non-null  float64\n",
      " 4   Реактивная мощность   14876 non-null  float64\n",
      "dtypes: float64(2), int64(1), object(2)\n",
      "memory usage: 581.2+ KB\n",
      "None\n",
      "\u001b[0m\u001b[1;35m\n",
      "Первые 5 строк:\n",
      "\u001b[0m"
     ]
    },
    {
     "data": {
      "text/html": [
       "<div>\n",
       "<style scoped>\n",
       "    .dataframe tbody tr th:only-of-type {\n",
       "        vertical-align: middle;\n",
       "    }\n",
       "\n",
       "    .dataframe tbody tr th {\n",
       "        vertical-align: top;\n",
       "    }\n",
       "\n",
       "    .dataframe thead th {\n",
       "        text-align: right;\n",
       "    }\n",
       "</style>\n",
       "<table border=\"1\" class=\"dataframe\">\n",
       "  <thead>\n",
       "    <tr style=\"text-align: right;\">\n",
       "      <th></th>\n",
       "      <th>key</th>\n",
       "      <th>Начало нагрева дугой</th>\n",
       "      <th>Конец нагрева дугой</th>\n",
       "      <th>Активная мощность</th>\n",
       "      <th>Реактивная мощность</th>\n",
       "    </tr>\n",
       "  </thead>\n",
       "  <tbody>\n",
       "    <tr>\n",
       "      <th>0</th>\n",
       "      <td>1</td>\n",
       "      <td>2019-05-03 11:02:14</td>\n",
       "      <td>2019-05-03 11:06:02</td>\n",
       "      <td>0.976059</td>\n",
       "      <td>0.687084</td>\n",
       "    </tr>\n",
       "    <tr>\n",
       "      <th>1</th>\n",
       "      <td>1</td>\n",
       "      <td>2019-05-03 11:07:28</td>\n",
       "      <td>2019-05-03 11:10:33</td>\n",
       "      <td>0.805607</td>\n",
       "      <td>0.520285</td>\n",
       "    </tr>\n",
       "    <tr>\n",
       "      <th>2</th>\n",
       "      <td>1</td>\n",
       "      <td>2019-05-03 11:11:44</td>\n",
       "      <td>2019-05-03 11:14:36</td>\n",
       "      <td>0.744363</td>\n",
       "      <td>0.498805</td>\n",
       "    </tr>\n",
       "    <tr>\n",
       "      <th>3</th>\n",
       "      <td>1</td>\n",
       "      <td>2019-05-03 11:18:14</td>\n",
       "      <td>2019-05-03 11:24:19</td>\n",
       "      <td>1.659363</td>\n",
       "      <td>1.062669</td>\n",
       "    </tr>\n",
       "    <tr>\n",
       "      <th>4</th>\n",
       "      <td>1</td>\n",
       "      <td>2019-05-03 11:26:09</td>\n",
       "      <td>2019-05-03 11:28:37</td>\n",
       "      <td>0.692755</td>\n",
       "      <td>0.414397</td>\n",
       "    </tr>\n",
       "  </tbody>\n",
       "</table>\n",
       "</div>"
      ],
      "text/plain": [
       "   key Начало нагрева дугой  Конец нагрева дугой  Активная мощность  \\\n",
       "0    1  2019-05-03 11:02:14  2019-05-03 11:06:02           0.976059   \n",
       "1    1  2019-05-03 11:07:28  2019-05-03 11:10:33           0.805607   \n",
       "2    1  2019-05-03 11:11:44  2019-05-03 11:14:36           0.744363   \n",
       "3    1  2019-05-03 11:18:14  2019-05-03 11:24:19           1.659363   \n",
       "4    1  2019-05-03 11:26:09  2019-05-03 11:28:37           0.692755   \n",
       "\n",
       "   Реактивная мощность  \n",
       "0             0.687084  \n",
       "1             0.520285  \n",
       "2             0.498805  \n",
       "3             1.062669  \n",
       "4             0.414397  "
      ]
     },
     "metadata": {},
     "output_type": "display_data"
    },
    {
     "name": "stdout",
     "output_type": "stream",
     "text": [
      "\u001b[0m\u001b[1;35m\n",
      "Количество дубликатов: 0\n",
      "\u001b[0m\u001b[0m\u001b[1;35m\n",
      "Основные статистики:\n",
      "\u001b[0m"
     ]
    },
    {
     "data": {
      "text/html": [
       "<div>\n",
       "<style scoped>\n",
       "    .dataframe tbody tr th:only-of-type {\n",
       "        vertical-align: middle;\n",
       "    }\n",
       "\n",
       "    .dataframe tbody tr th {\n",
       "        vertical-align: top;\n",
       "    }\n",
       "\n",
       "    .dataframe thead th {\n",
       "        text-align: right;\n",
       "    }\n",
       "</style>\n",
       "<table border=\"1\" class=\"dataframe\">\n",
       "  <thead>\n",
       "    <tr style=\"text-align: right;\">\n",
       "      <th></th>\n",
       "      <th>count</th>\n",
       "      <th>mean</th>\n",
       "      <th>std</th>\n",
       "      <th>min</th>\n",
       "      <th>25%</th>\n",
       "      <th>50%</th>\n",
       "      <th>75%</th>\n",
       "      <th>max</th>\n",
       "    </tr>\n",
       "  </thead>\n",
       "  <tbody>\n",
       "    <tr>\n",
       "      <th>key</th>\n",
       "      <td>14876.0</td>\n",
       "      <td>1615.220422</td>\n",
       "      <td>934.571502</td>\n",
       "      <td>1.000000</td>\n",
       "      <td>806.000000</td>\n",
       "      <td>1617.000000</td>\n",
       "      <td>2429.000000</td>\n",
       "      <td>3241.000000</td>\n",
       "    </tr>\n",
       "    <tr>\n",
       "      <th>Активная мощность</th>\n",
       "      <td>14876.0</td>\n",
       "      <td>0.670441</td>\n",
       "      <td>0.408159</td>\n",
       "      <td>0.030002</td>\n",
       "      <td>0.395297</td>\n",
       "      <td>0.555517</td>\n",
       "      <td>0.857034</td>\n",
       "      <td>3.731596</td>\n",
       "    </tr>\n",
       "    <tr>\n",
       "      <th>Реактивная мощность</th>\n",
       "      <td>14876.0</td>\n",
       "      <td>0.452592</td>\n",
       "      <td>5.878702</td>\n",
       "      <td>-715.504924</td>\n",
       "      <td>0.290991</td>\n",
       "      <td>0.415962</td>\n",
       "      <td>0.637371</td>\n",
       "      <td>2.676388</td>\n",
       "    </tr>\n",
       "  </tbody>\n",
       "</table>\n",
       "</div>"
      ],
      "text/plain": [
       "                       count         mean         std         min         25%  \\\n",
       "key                  14876.0  1615.220422  934.571502    1.000000  806.000000   \n",
       "Активная мощность    14876.0     0.670441    0.408159    0.030002    0.395297   \n",
       "Реактивная мощность  14876.0     0.452592    5.878702 -715.504924    0.290991   \n",
       "\n",
       "                             50%          75%          max  \n",
       "key                  1617.000000  2429.000000  3241.000000  \n",
       "Активная мощность       0.555517     0.857034     3.731596  \n",
       "Реактивная мощность     0.415962     0.637371     2.676388  "
      ]
     },
     "metadata": {},
     "output_type": "display_data"
    }
   ],
   "source": [
    "# out\n",
    "show_df_info(arc, 'arc')"
   ]
  },
  {
   "cell_type": "markdown",
   "id": "1ded704d",
   "metadata": {},
   "source": [
    "**Выводы:**\n",
    "\n",
    "В рамках предобработки датафрейма `arc` необходимо обратить внимание на следующие выявленные нарушения и особенности:\n",
    "- Названия столбцов не в нотации snake_case\n",
    "- Несоответствие типа данных для столбцов с датой и временем\n",
    "- Явно аномальные значения реактивной мощности"
   ]
  },
  {
   "cell_type": "markdown",
   "id": "da731117",
   "metadata": {},
   "source": [
    "<br>\n",
    "\n",
    "### 1.2.2. Датафрейм `bulk`, основная информация:"
   ]
  },
  {
   "cell_type": "code",
   "execution_count": 14,
   "id": "7317dbc1",
   "metadata": {},
   "outputs": [
    {
     "name": "stdout",
     "output_type": "stream",
     "text": [
      "\u001b[0m\u001b[1;35m\n",
      "Датафрейм `bulk`: Данные о подаче сыпучих материалов.   (Строк: 3129, столбцов: 16)\n",
      "————————————————————————————————————————————————————————————————————————————————————————————————————\u001b[0m\n",
      "\u001b[0m\u001b[1;35m\n",
      "Информация о столбцах:\n",
      "\n",
      "\u001b[0m<class 'pandas.core.frame.DataFrame'>\n",
      "RangeIndex: 3129 entries, 0 to 3128\n",
      "Data columns (total 16 columns):\n",
      " #   Column   Non-Null Count  Dtype  \n",
      "---  ------   --------------  -----  \n",
      " 0   key      3129 non-null   int64  \n",
      " 1   Bulk 1   252 non-null    float64\n",
      " 2   Bulk 2   22 non-null     float64\n",
      " 3   Bulk 3   1298 non-null   float64\n",
      " 4   Bulk 4   1014 non-null   float64\n",
      " 5   Bulk 5   77 non-null     float64\n",
      " 6   Bulk 6   576 non-null    float64\n",
      " 7   Bulk 7   25 non-null     float64\n",
      " 8   Bulk 8   1 non-null      float64\n",
      " 9   Bulk 9   19 non-null     float64\n",
      " 10  Bulk 10  176 non-null    float64\n",
      " 11  Bulk 11  177 non-null    float64\n",
      " 12  Bulk 12  2450 non-null   float64\n",
      " 13  Bulk 13  18 non-null     float64\n",
      " 14  Bulk 14  2806 non-null   float64\n",
      " 15  Bulk 15  2248 non-null   float64\n",
      "dtypes: float64(15), int64(1)\n",
      "memory usage: 391.3 KB\n",
      "None\n",
      "\u001b[0m\u001b[1;35m\n",
      "Первые 5 строк:\n",
      "\u001b[0m"
     ]
    },
    {
     "data": {
      "text/html": [
       "<div>\n",
       "<style scoped>\n",
       "    .dataframe tbody tr th:only-of-type {\n",
       "        vertical-align: middle;\n",
       "    }\n",
       "\n",
       "    .dataframe tbody tr th {\n",
       "        vertical-align: top;\n",
       "    }\n",
       "\n",
       "    .dataframe thead th {\n",
       "        text-align: right;\n",
       "    }\n",
       "</style>\n",
       "<table border=\"1\" class=\"dataframe\">\n",
       "  <thead>\n",
       "    <tr style=\"text-align: right;\">\n",
       "      <th></th>\n",
       "      <th>key</th>\n",
       "      <th>Bulk 1</th>\n",
       "      <th>Bulk 2</th>\n",
       "      <th>Bulk 3</th>\n",
       "      <th>Bulk 4</th>\n",
       "      <th>Bulk 5</th>\n",
       "      <th>Bulk 6</th>\n",
       "      <th>Bulk 7</th>\n",
       "      <th>Bulk 8</th>\n",
       "      <th>Bulk 9</th>\n",
       "      <th>Bulk 10</th>\n",
       "      <th>Bulk 11</th>\n",
       "      <th>Bulk 12</th>\n",
       "      <th>Bulk 13</th>\n",
       "      <th>Bulk 14</th>\n",
       "      <th>Bulk 15</th>\n",
       "    </tr>\n",
       "  </thead>\n",
       "  <tbody>\n",
       "    <tr>\n",
       "      <th>0</th>\n",
       "      <td>1</td>\n",
       "      <td>NaN</td>\n",
       "      <td>NaN</td>\n",
       "      <td>NaN</td>\n",
       "      <td>43.0</td>\n",
       "      <td>NaN</td>\n",
       "      <td>NaN</td>\n",
       "      <td>NaN</td>\n",
       "      <td>NaN</td>\n",
       "      <td>NaN</td>\n",
       "      <td>NaN</td>\n",
       "      <td>NaN</td>\n",
       "      <td>206.0</td>\n",
       "      <td>NaN</td>\n",
       "      <td>150.0</td>\n",
       "      <td>154.0</td>\n",
       "    </tr>\n",
       "    <tr>\n",
       "      <th>1</th>\n",
       "      <td>2</td>\n",
       "      <td>NaN</td>\n",
       "      <td>NaN</td>\n",
       "      <td>NaN</td>\n",
       "      <td>73.0</td>\n",
       "      <td>NaN</td>\n",
       "      <td>NaN</td>\n",
       "      <td>NaN</td>\n",
       "      <td>NaN</td>\n",
       "      <td>NaN</td>\n",
       "      <td>NaN</td>\n",
       "      <td>NaN</td>\n",
       "      <td>206.0</td>\n",
       "      <td>NaN</td>\n",
       "      <td>149.0</td>\n",
       "      <td>154.0</td>\n",
       "    </tr>\n",
       "    <tr>\n",
       "      <th>2</th>\n",
       "      <td>3</td>\n",
       "      <td>NaN</td>\n",
       "      <td>NaN</td>\n",
       "      <td>NaN</td>\n",
       "      <td>34.0</td>\n",
       "      <td>NaN</td>\n",
       "      <td>NaN</td>\n",
       "      <td>NaN</td>\n",
       "      <td>NaN</td>\n",
       "      <td>NaN</td>\n",
       "      <td>NaN</td>\n",
       "      <td>NaN</td>\n",
       "      <td>205.0</td>\n",
       "      <td>NaN</td>\n",
       "      <td>152.0</td>\n",
       "      <td>153.0</td>\n",
       "    </tr>\n",
       "    <tr>\n",
       "      <th>3</th>\n",
       "      <td>4</td>\n",
       "      <td>NaN</td>\n",
       "      <td>NaN</td>\n",
       "      <td>NaN</td>\n",
       "      <td>81.0</td>\n",
       "      <td>NaN</td>\n",
       "      <td>NaN</td>\n",
       "      <td>NaN</td>\n",
       "      <td>NaN</td>\n",
       "      <td>NaN</td>\n",
       "      <td>NaN</td>\n",
       "      <td>NaN</td>\n",
       "      <td>207.0</td>\n",
       "      <td>NaN</td>\n",
       "      <td>153.0</td>\n",
       "      <td>154.0</td>\n",
       "    </tr>\n",
       "    <tr>\n",
       "      <th>4</th>\n",
       "      <td>5</td>\n",
       "      <td>NaN</td>\n",
       "      <td>NaN</td>\n",
       "      <td>NaN</td>\n",
       "      <td>78.0</td>\n",
       "      <td>NaN</td>\n",
       "      <td>NaN</td>\n",
       "      <td>NaN</td>\n",
       "      <td>NaN</td>\n",
       "      <td>NaN</td>\n",
       "      <td>NaN</td>\n",
       "      <td>NaN</td>\n",
       "      <td>203.0</td>\n",
       "      <td>NaN</td>\n",
       "      <td>151.0</td>\n",
       "      <td>152.0</td>\n",
       "    </tr>\n",
       "  </tbody>\n",
       "</table>\n",
       "</div>"
      ],
      "text/plain": [
       "   key  Bulk 1  Bulk 2  Bulk 3  Bulk 4  Bulk 5  Bulk 6  Bulk 7  Bulk 8  \\\n",
       "0    1     NaN     NaN     NaN    43.0     NaN     NaN     NaN     NaN   \n",
       "1    2     NaN     NaN     NaN    73.0     NaN     NaN     NaN     NaN   \n",
       "2    3     NaN     NaN     NaN    34.0     NaN     NaN     NaN     NaN   \n",
       "3    4     NaN     NaN     NaN    81.0     NaN     NaN     NaN     NaN   \n",
       "4    5     NaN     NaN     NaN    78.0     NaN     NaN     NaN     NaN   \n",
       "\n",
       "   Bulk 9  Bulk 10  Bulk 11  Bulk 12  Bulk 13  Bulk 14  Bulk 15  \n",
       "0     NaN      NaN      NaN    206.0      NaN    150.0    154.0  \n",
       "1     NaN      NaN      NaN    206.0      NaN    149.0    154.0  \n",
       "2     NaN      NaN      NaN    205.0      NaN    152.0    153.0  \n",
       "3     NaN      NaN      NaN    207.0      NaN    153.0    154.0  \n",
       "4     NaN      NaN      NaN    203.0      NaN    151.0    152.0  "
      ]
     },
     "metadata": {},
     "output_type": "display_data"
    },
    {
     "name": "stdout",
     "output_type": "stream",
     "text": [
      "\u001b[0m\u001b[1;35m\n",
      "Количество дубликатов: 0\n",
      "\u001b[0m\u001b[0m\u001b[1;35m\n",
      "Основные статистики:\n",
      "\u001b[0m"
     ]
    },
    {
     "data": {
      "text/html": [
       "<div>\n",
       "<style scoped>\n",
       "    .dataframe tbody tr th:only-of-type {\n",
       "        vertical-align: middle;\n",
       "    }\n",
       "\n",
       "    .dataframe tbody tr th {\n",
       "        vertical-align: top;\n",
       "    }\n",
       "\n",
       "    .dataframe thead th {\n",
       "        text-align: right;\n",
       "    }\n",
       "</style>\n",
       "<table border=\"1\" class=\"dataframe\">\n",
       "  <thead>\n",
       "    <tr style=\"text-align: right;\">\n",
       "      <th></th>\n",
       "      <th>count</th>\n",
       "      <th>mean</th>\n",
       "      <th>std</th>\n",
       "      <th>min</th>\n",
       "      <th>25%</th>\n",
       "      <th>50%</th>\n",
       "      <th>75%</th>\n",
       "      <th>max</th>\n",
       "    </tr>\n",
       "  </thead>\n",
       "  <tbody>\n",
       "    <tr>\n",
       "      <th>key</th>\n",
       "      <td>3129.0</td>\n",
       "      <td>1624.383509</td>\n",
       "      <td>933.337642</td>\n",
       "      <td>1.0</td>\n",
       "      <td>816.00</td>\n",
       "      <td>1622.0</td>\n",
       "      <td>2431.00</td>\n",
       "      <td>3241.0</td>\n",
       "    </tr>\n",
       "    <tr>\n",
       "      <th>Bulk 1</th>\n",
       "      <td>252.0</td>\n",
       "      <td>39.242063</td>\n",
       "      <td>18.277654</td>\n",
       "      <td>10.0</td>\n",
       "      <td>27.00</td>\n",
       "      <td>31.0</td>\n",
       "      <td>46.00</td>\n",
       "      <td>185.0</td>\n",
       "    </tr>\n",
       "    <tr>\n",
       "      <th>Bulk 2</th>\n",
       "      <td>22.0</td>\n",
       "      <td>253.045455</td>\n",
       "      <td>21.180578</td>\n",
       "      <td>228.0</td>\n",
       "      <td>242.00</td>\n",
       "      <td>251.5</td>\n",
       "      <td>257.75</td>\n",
       "      <td>325.0</td>\n",
       "    </tr>\n",
       "    <tr>\n",
       "      <th>Bulk 3</th>\n",
       "      <td>1298.0</td>\n",
       "      <td>113.879045</td>\n",
       "      <td>75.483494</td>\n",
       "      <td>6.0</td>\n",
       "      <td>58.00</td>\n",
       "      <td>97.5</td>\n",
       "      <td>152.00</td>\n",
       "      <td>454.0</td>\n",
       "    </tr>\n",
       "    <tr>\n",
       "      <th>Bulk 4</th>\n",
       "      <td>1014.0</td>\n",
       "      <td>104.394477</td>\n",
       "      <td>48.184126</td>\n",
       "      <td>12.0</td>\n",
       "      <td>72.00</td>\n",
       "      <td>102.0</td>\n",
       "      <td>133.00</td>\n",
       "      <td>281.0</td>\n",
       "    </tr>\n",
       "    <tr>\n",
       "      <th>Bulk 5</th>\n",
       "      <td>77.0</td>\n",
       "      <td>107.025974</td>\n",
       "      <td>81.790646</td>\n",
       "      <td>11.0</td>\n",
       "      <td>70.00</td>\n",
       "      <td>86.0</td>\n",
       "      <td>132.00</td>\n",
       "      <td>603.0</td>\n",
       "    </tr>\n",
       "    <tr>\n",
       "      <th>Bulk 6</th>\n",
       "      <td>576.0</td>\n",
       "      <td>118.925347</td>\n",
       "      <td>72.057776</td>\n",
       "      <td>17.0</td>\n",
       "      <td>69.75</td>\n",
       "      <td>100.0</td>\n",
       "      <td>157.00</td>\n",
       "      <td>503.0</td>\n",
       "    </tr>\n",
       "    <tr>\n",
       "      <th>Bulk 7</th>\n",
       "      <td>25.0</td>\n",
       "      <td>305.600000</td>\n",
       "      <td>191.022904</td>\n",
       "      <td>47.0</td>\n",
       "      <td>155.00</td>\n",
       "      <td>298.0</td>\n",
       "      <td>406.00</td>\n",
       "      <td>772.0</td>\n",
       "    </tr>\n",
       "    <tr>\n",
       "      <th>Bulk 8</th>\n",
       "      <td>1.0</td>\n",
       "      <td>49.000000</td>\n",
       "      <td>NaN</td>\n",
       "      <td>49.0</td>\n",
       "      <td>49.00</td>\n",
       "      <td>49.0</td>\n",
       "      <td>49.00</td>\n",
       "      <td>49.0</td>\n",
       "    </tr>\n",
       "    <tr>\n",
       "      <th>Bulk 9</th>\n",
       "      <td>19.0</td>\n",
       "      <td>76.315789</td>\n",
       "      <td>21.720581</td>\n",
       "      <td>63.0</td>\n",
       "      <td>66.00</td>\n",
       "      <td>68.0</td>\n",
       "      <td>70.50</td>\n",
       "      <td>147.0</td>\n",
       "    </tr>\n",
       "    <tr>\n",
       "      <th>Bulk 10</th>\n",
       "      <td>176.0</td>\n",
       "      <td>83.284091</td>\n",
       "      <td>26.060347</td>\n",
       "      <td>24.0</td>\n",
       "      <td>64.00</td>\n",
       "      <td>86.5</td>\n",
       "      <td>102.00</td>\n",
       "      <td>159.0</td>\n",
       "    </tr>\n",
       "    <tr>\n",
       "      <th>Bulk 11</th>\n",
       "      <td>177.0</td>\n",
       "      <td>76.819209</td>\n",
       "      <td>59.655365</td>\n",
       "      <td>8.0</td>\n",
       "      <td>25.00</td>\n",
       "      <td>64.0</td>\n",
       "      <td>106.00</td>\n",
       "      <td>313.0</td>\n",
       "    </tr>\n",
       "    <tr>\n",
       "      <th>Bulk 12</th>\n",
       "      <td>2450.0</td>\n",
       "      <td>260.471020</td>\n",
       "      <td>120.649269</td>\n",
       "      <td>53.0</td>\n",
       "      <td>204.00</td>\n",
       "      <td>208.0</td>\n",
       "      <td>316.00</td>\n",
       "      <td>1849.0</td>\n",
       "    </tr>\n",
       "    <tr>\n",
       "      <th>Bulk 13</th>\n",
       "      <td>18.0</td>\n",
       "      <td>181.111111</td>\n",
       "      <td>46.088009</td>\n",
       "      <td>151.0</td>\n",
       "      <td>153.25</td>\n",
       "      <td>155.5</td>\n",
       "      <td>203.50</td>\n",
       "      <td>305.0</td>\n",
       "    </tr>\n",
       "    <tr>\n",
       "      <th>Bulk 14</th>\n",
       "      <td>2806.0</td>\n",
       "      <td>170.284747</td>\n",
       "      <td>65.868652</td>\n",
       "      <td>16.0</td>\n",
       "      <td>119.00</td>\n",
       "      <td>151.0</td>\n",
       "      <td>205.75</td>\n",
       "      <td>636.0</td>\n",
       "    </tr>\n",
       "    <tr>\n",
       "      <th>Bulk 15</th>\n",
       "      <td>2248.0</td>\n",
       "      <td>160.513345</td>\n",
       "      <td>51.765319</td>\n",
       "      <td>1.0</td>\n",
       "      <td>105.00</td>\n",
       "      <td>160.0</td>\n",
       "      <td>205.00</td>\n",
       "      <td>405.0</td>\n",
       "    </tr>\n",
       "  </tbody>\n",
       "</table>\n",
       "</div>"
      ],
      "text/plain": [
       "          count         mean         std    min     25%     50%      75%  \\\n",
       "key      3129.0  1624.383509  933.337642    1.0  816.00  1622.0  2431.00   \n",
       "Bulk 1    252.0    39.242063   18.277654   10.0   27.00    31.0    46.00   \n",
       "Bulk 2     22.0   253.045455   21.180578  228.0  242.00   251.5   257.75   \n",
       "Bulk 3   1298.0   113.879045   75.483494    6.0   58.00    97.5   152.00   \n",
       "Bulk 4   1014.0   104.394477   48.184126   12.0   72.00   102.0   133.00   \n",
       "Bulk 5     77.0   107.025974   81.790646   11.0   70.00    86.0   132.00   \n",
       "Bulk 6    576.0   118.925347   72.057776   17.0   69.75   100.0   157.00   \n",
       "Bulk 7     25.0   305.600000  191.022904   47.0  155.00   298.0   406.00   \n",
       "Bulk 8      1.0    49.000000         NaN   49.0   49.00    49.0    49.00   \n",
       "Bulk 9     19.0    76.315789   21.720581   63.0   66.00    68.0    70.50   \n",
       "Bulk 10   176.0    83.284091   26.060347   24.0   64.00    86.5   102.00   \n",
       "Bulk 11   177.0    76.819209   59.655365    8.0   25.00    64.0   106.00   \n",
       "Bulk 12  2450.0   260.471020  120.649269   53.0  204.00   208.0   316.00   \n",
       "Bulk 13    18.0   181.111111   46.088009  151.0  153.25   155.5   203.50   \n",
       "Bulk 14  2806.0   170.284747   65.868652   16.0  119.00   151.0   205.75   \n",
       "Bulk 15  2248.0   160.513345   51.765319    1.0  105.00   160.0   205.00   \n",
       "\n",
       "            max  \n",
       "key      3241.0  \n",
       "Bulk 1    185.0  \n",
       "Bulk 2    325.0  \n",
       "Bulk 3    454.0  \n",
       "Bulk 4    281.0  \n",
       "Bulk 5    603.0  \n",
       "Bulk 6    503.0  \n",
       "Bulk 7    772.0  \n",
       "Bulk 8     49.0  \n",
       "Bulk 9    147.0  \n",
       "Bulk 10   159.0  \n",
       "Bulk 11   313.0  \n",
       "Bulk 12  1849.0  \n",
       "Bulk 13   305.0  \n",
       "Bulk 14   636.0  \n",
       "Bulk 15   405.0  "
      ]
     },
     "metadata": {},
     "output_type": "display_data"
    }
   ],
   "source": [
    "# out\n",
    "show_df_info(bulk, 'bulk')"
   ]
  },
  {
   "cell_type": "markdown",
   "id": "3a7cfefc",
   "metadata": {},
   "source": [
    "**Выводы:**\n",
    "\n",
    "В рамках предобработки датафрейма `bulk` необходимо обратить внимание на следующие выявленные нарушения и особенности:\n",
    "- Названия столбцов не в нотации snake_case\n",
    "- Большое количество пропусков в столбцах\n",
    "- Несоответствие типа данных в столбцах `Bulk *`"
   ]
  },
  {
   "cell_type": "markdown",
   "id": "abf660f8",
   "metadata": {},
   "source": [
    "<br>\n",
    "\n",
    "### 1.2.3. Датафрейм `bulk_time`, основная информация:"
   ]
  },
  {
   "cell_type": "code",
   "execution_count": 15,
   "id": "9f561cb4",
   "metadata": {
    "scrolled": false
   },
   "outputs": [
    {
     "name": "stdout",
     "output_type": "stream",
     "text": [
      "\u001b[0m\u001b[1;35m\n",
      "Датафрейм `bulk_time`: Данные о времени подачи сыпучих материалов.   (Строк: 3129, столбцов: 16)\n",
      "————————————————————————————————————————————————————————————————————————————————————————————————————\u001b[0m\n",
      "\u001b[0m\u001b[1;35m\n",
      "Информация о столбцах:\n",
      "\n",
      "\u001b[0m<class 'pandas.core.frame.DataFrame'>\n",
      "RangeIndex: 3129 entries, 0 to 3128\n",
      "Data columns (total 16 columns):\n",
      " #   Column   Non-Null Count  Dtype \n",
      "---  ------   --------------  ----- \n",
      " 0   key      3129 non-null   int64 \n",
      " 1   Bulk 1   252 non-null    object\n",
      " 2   Bulk 2   22 non-null     object\n",
      " 3   Bulk 3   1298 non-null   object\n",
      " 4   Bulk 4   1014 non-null   object\n",
      " 5   Bulk 5   77 non-null     object\n",
      " 6   Bulk 6   576 non-null    object\n",
      " 7   Bulk 7   25 non-null     object\n",
      " 8   Bulk 8   1 non-null      object\n",
      " 9   Bulk 9   19 non-null     object\n",
      " 10  Bulk 10  176 non-null    object\n",
      " 11  Bulk 11  177 non-null    object\n",
      " 12  Bulk 12  2450 non-null   object\n",
      " 13  Bulk 13  18 non-null     object\n",
      " 14  Bulk 14  2806 non-null   object\n",
      " 15  Bulk 15  2248 non-null   object\n",
      "dtypes: int64(1), object(15)\n",
      "memory usage: 391.3+ KB\n",
      "None\n",
      "\u001b[0m\u001b[1;35m\n",
      "Первые 5 строк:\n",
      "\u001b[0m"
     ]
    },
    {
     "data": {
      "text/html": [
       "<div>\n",
       "<style scoped>\n",
       "    .dataframe tbody tr th:only-of-type {\n",
       "        vertical-align: middle;\n",
       "    }\n",
       "\n",
       "    .dataframe tbody tr th {\n",
       "        vertical-align: top;\n",
       "    }\n",
       "\n",
       "    .dataframe thead th {\n",
       "        text-align: right;\n",
       "    }\n",
       "</style>\n",
       "<table border=\"1\" class=\"dataframe\">\n",
       "  <thead>\n",
       "    <tr style=\"text-align: right;\">\n",
       "      <th></th>\n",
       "      <th>key</th>\n",
       "      <th>Bulk 1</th>\n",
       "      <th>Bulk 2</th>\n",
       "      <th>Bulk 3</th>\n",
       "      <th>Bulk 4</th>\n",
       "      <th>Bulk 5</th>\n",
       "      <th>Bulk 6</th>\n",
       "      <th>Bulk 7</th>\n",
       "      <th>Bulk 8</th>\n",
       "      <th>Bulk 9</th>\n",
       "      <th>Bulk 10</th>\n",
       "      <th>Bulk 11</th>\n",
       "      <th>Bulk 12</th>\n",
       "      <th>Bulk 13</th>\n",
       "      <th>Bulk 14</th>\n",
       "      <th>Bulk 15</th>\n",
       "    </tr>\n",
       "  </thead>\n",
       "  <tbody>\n",
       "    <tr>\n",
       "      <th>0</th>\n",
       "      <td>1</td>\n",
       "      <td>NaN</td>\n",
       "      <td>NaN</td>\n",
       "      <td>NaN</td>\n",
       "      <td>2019-05-03 11:21:30</td>\n",
       "      <td>NaN</td>\n",
       "      <td>NaN</td>\n",
       "      <td>NaN</td>\n",
       "      <td>NaN</td>\n",
       "      <td>NaN</td>\n",
       "      <td>NaN</td>\n",
       "      <td>NaN</td>\n",
       "      <td>2019-05-03 11:03:52</td>\n",
       "      <td>NaN</td>\n",
       "      <td>2019-05-03 11:03:52</td>\n",
       "      <td>2019-05-03 11:03:52</td>\n",
       "    </tr>\n",
       "    <tr>\n",
       "      <th>1</th>\n",
       "      <td>2</td>\n",
       "      <td>NaN</td>\n",
       "      <td>NaN</td>\n",
       "      <td>NaN</td>\n",
       "      <td>2019-05-03 11:46:38</td>\n",
       "      <td>NaN</td>\n",
       "      <td>NaN</td>\n",
       "      <td>NaN</td>\n",
       "      <td>NaN</td>\n",
       "      <td>NaN</td>\n",
       "      <td>NaN</td>\n",
       "      <td>NaN</td>\n",
       "      <td>2019-05-03 11:40:20</td>\n",
       "      <td>NaN</td>\n",
       "      <td>2019-05-03 11:40:20</td>\n",
       "      <td>2019-05-03 11:40:20</td>\n",
       "    </tr>\n",
       "    <tr>\n",
       "      <th>2</th>\n",
       "      <td>3</td>\n",
       "      <td>NaN</td>\n",
       "      <td>NaN</td>\n",
       "      <td>NaN</td>\n",
       "      <td>2019-05-03 12:31:06</td>\n",
       "      <td>NaN</td>\n",
       "      <td>NaN</td>\n",
       "      <td>NaN</td>\n",
       "      <td>NaN</td>\n",
       "      <td>NaN</td>\n",
       "      <td>NaN</td>\n",
       "      <td>NaN</td>\n",
       "      <td>2019-05-03 12:09:40</td>\n",
       "      <td>NaN</td>\n",
       "      <td>2019-05-03 12:09:40</td>\n",
       "      <td>2019-05-03 12:09:40</td>\n",
       "    </tr>\n",
       "    <tr>\n",
       "      <th>3</th>\n",
       "      <td>4</td>\n",
       "      <td>NaN</td>\n",
       "      <td>NaN</td>\n",
       "      <td>NaN</td>\n",
       "      <td>2019-05-03 12:48:43</td>\n",
       "      <td>NaN</td>\n",
       "      <td>NaN</td>\n",
       "      <td>NaN</td>\n",
       "      <td>NaN</td>\n",
       "      <td>NaN</td>\n",
       "      <td>NaN</td>\n",
       "      <td>NaN</td>\n",
       "      <td>2019-05-03 12:41:24</td>\n",
       "      <td>NaN</td>\n",
       "      <td>2019-05-03 12:41:24</td>\n",
       "      <td>2019-05-03 12:41:24</td>\n",
       "    </tr>\n",
       "    <tr>\n",
       "      <th>4</th>\n",
       "      <td>5</td>\n",
       "      <td>NaN</td>\n",
       "      <td>NaN</td>\n",
       "      <td>NaN</td>\n",
       "      <td>2019-05-03 13:18:50</td>\n",
       "      <td>NaN</td>\n",
       "      <td>NaN</td>\n",
       "      <td>NaN</td>\n",
       "      <td>NaN</td>\n",
       "      <td>NaN</td>\n",
       "      <td>NaN</td>\n",
       "      <td>NaN</td>\n",
       "      <td>2019-05-03 13:12:56</td>\n",
       "      <td>NaN</td>\n",
       "      <td>2019-05-03 13:12:56</td>\n",
       "      <td>2019-05-03 13:12:56</td>\n",
       "    </tr>\n",
       "  </tbody>\n",
       "</table>\n",
       "</div>"
      ],
      "text/plain": [
       "   key Bulk 1 Bulk 2 Bulk 3               Bulk 4 Bulk 5 Bulk 6 Bulk 7 Bulk 8  \\\n",
       "0    1    NaN    NaN    NaN  2019-05-03 11:21:30    NaN    NaN    NaN    NaN   \n",
       "1    2    NaN    NaN    NaN  2019-05-03 11:46:38    NaN    NaN    NaN    NaN   \n",
       "2    3    NaN    NaN    NaN  2019-05-03 12:31:06    NaN    NaN    NaN    NaN   \n",
       "3    4    NaN    NaN    NaN  2019-05-03 12:48:43    NaN    NaN    NaN    NaN   \n",
       "4    5    NaN    NaN    NaN  2019-05-03 13:18:50    NaN    NaN    NaN    NaN   \n",
       "\n",
       "  Bulk 9 Bulk 10 Bulk 11              Bulk 12 Bulk 13              Bulk 14  \\\n",
       "0    NaN     NaN     NaN  2019-05-03 11:03:52     NaN  2019-05-03 11:03:52   \n",
       "1    NaN     NaN     NaN  2019-05-03 11:40:20     NaN  2019-05-03 11:40:20   \n",
       "2    NaN     NaN     NaN  2019-05-03 12:09:40     NaN  2019-05-03 12:09:40   \n",
       "3    NaN     NaN     NaN  2019-05-03 12:41:24     NaN  2019-05-03 12:41:24   \n",
       "4    NaN     NaN     NaN  2019-05-03 13:12:56     NaN  2019-05-03 13:12:56   \n",
       "\n",
       "               Bulk 15  \n",
       "0  2019-05-03 11:03:52  \n",
       "1  2019-05-03 11:40:20  \n",
       "2  2019-05-03 12:09:40  \n",
       "3  2019-05-03 12:41:24  \n",
       "4  2019-05-03 13:12:56  "
      ]
     },
     "metadata": {},
     "output_type": "display_data"
    },
    {
     "name": "stdout",
     "output_type": "stream",
     "text": [
      "\u001b[0m\u001b[1;35m\n",
      "Количество дубликатов: 0\n",
      "\u001b[0m\u001b[0m\u001b[1;35m\n",
      "Основные статистики:\n",
      "\u001b[0m"
     ]
    },
    {
     "data": {
      "text/html": [
       "<div>\n",
       "<style scoped>\n",
       "    .dataframe tbody tr th:only-of-type {\n",
       "        vertical-align: middle;\n",
       "    }\n",
       "\n",
       "    .dataframe tbody tr th {\n",
       "        vertical-align: top;\n",
       "    }\n",
       "\n",
       "    .dataframe thead th {\n",
       "        text-align: right;\n",
       "    }\n",
       "</style>\n",
       "<table border=\"1\" class=\"dataframe\">\n",
       "  <thead>\n",
       "    <tr style=\"text-align: right;\">\n",
       "      <th></th>\n",
       "      <th>count</th>\n",
       "      <th>mean</th>\n",
       "      <th>std</th>\n",
       "      <th>min</th>\n",
       "      <th>25%</th>\n",
       "      <th>50%</th>\n",
       "      <th>75%</th>\n",
       "      <th>max</th>\n",
       "    </tr>\n",
       "  </thead>\n",
       "  <tbody>\n",
       "    <tr>\n",
       "      <th>key</th>\n",
       "      <td>3129.0</td>\n",
       "      <td>1624.383509</td>\n",
       "      <td>933.337642</td>\n",
       "      <td>1.0</td>\n",
       "      <td>816.0</td>\n",
       "      <td>1622.0</td>\n",
       "      <td>2431.0</td>\n",
       "      <td>3241.0</td>\n",
       "    </tr>\n",
       "  </tbody>\n",
       "</table>\n",
       "</div>"
      ],
      "text/plain": [
       "      count         mean         std  min    25%     50%     75%     max\n",
       "key  3129.0  1624.383509  933.337642  1.0  816.0  1622.0  2431.0  3241.0"
      ]
     },
     "metadata": {},
     "output_type": "display_data"
    }
   ],
   "source": [
    "# out\n",
    "show_df_info(bulk_time, 'bulk_time')"
   ]
  },
  {
   "cell_type": "markdown",
   "id": "f6483124",
   "metadata": {},
   "source": [
    "**Выводы:**\n",
    "\n",
    "В рамках предобработки датафрейма `bulk_time` необходимо обратить внимание на следующие выявленные нарушения и особенности:\n",
    "- Названия столбцов не в нотации snake_case\n",
    "- Большое количество пропусков в столбцах\n",
    "- Несоответствие типа данных для столбцов с датой и временем"
   ]
  },
  {
   "cell_type": "markdown",
   "id": "90abe9c1",
   "metadata": {},
   "source": [
    "<br>\n",
    "\n",
    "### 1.2.4. Датафрейм `gas`, основная информация:"
   ]
  },
  {
   "cell_type": "code",
   "execution_count": 16,
   "id": "ea024661",
   "metadata": {},
   "outputs": [
    {
     "name": "stdout",
     "output_type": "stream",
     "text": [
      "\u001b[0m\u001b[1;35m\n",
      "Датафрейм `gas`: Данные о продувке сплава газом.   (Строк: 3239, столбцов: 2)\n",
      "————————————————————————————————————————————————————————————————————————————————————————————————————\u001b[0m\n",
      "\u001b[0m\u001b[1;35m\n",
      "Информация о столбцах:\n",
      "\n",
      "\u001b[0m<class 'pandas.core.frame.DataFrame'>\n",
      "RangeIndex: 3239 entries, 0 to 3238\n",
      "Data columns (total 2 columns):\n",
      " #   Column  Non-Null Count  Dtype  \n",
      "---  ------  --------------  -----  \n",
      " 0   key     3239 non-null   int64  \n",
      " 1   Газ 1   3239 non-null   float64\n",
      "dtypes: float64(1), int64(1)\n",
      "memory usage: 50.7 KB\n",
      "None\n",
      "\u001b[0m\u001b[1;35m\n",
      "Первые 5 строк:\n",
      "\u001b[0m"
     ]
    },
    {
     "data": {
      "text/html": [
       "<div>\n",
       "<style scoped>\n",
       "    .dataframe tbody tr th:only-of-type {\n",
       "        vertical-align: middle;\n",
       "    }\n",
       "\n",
       "    .dataframe tbody tr th {\n",
       "        vertical-align: top;\n",
       "    }\n",
       "\n",
       "    .dataframe thead th {\n",
       "        text-align: right;\n",
       "    }\n",
       "</style>\n",
       "<table border=\"1\" class=\"dataframe\">\n",
       "  <thead>\n",
       "    <tr style=\"text-align: right;\">\n",
       "      <th></th>\n",
       "      <th>key</th>\n",
       "      <th>Газ 1</th>\n",
       "    </tr>\n",
       "  </thead>\n",
       "  <tbody>\n",
       "    <tr>\n",
       "      <th>0</th>\n",
       "      <td>1</td>\n",
       "      <td>29.749986</td>\n",
       "    </tr>\n",
       "    <tr>\n",
       "      <th>1</th>\n",
       "      <td>2</td>\n",
       "      <td>12.555561</td>\n",
       "    </tr>\n",
       "    <tr>\n",
       "      <th>2</th>\n",
       "      <td>3</td>\n",
       "      <td>28.554793</td>\n",
       "    </tr>\n",
       "    <tr>\n",
       "      <th>3</th>\n",
       "      <td>4</td>\n",
       "      <td>18.841219</td>\n",
       "    </tr>\n",
       "    <tr>\n",
       "      <th>4</th>\n",
       "      <td>5</td>\n",
       "      <td>5.413692</td>\n",
       "    </tr>\n",
       "  </tbody>\n",
       "</table>\n",
       "</div>"
      ],
      "text/plain": [
       "   key      Газ 1\n",
       "0    1  29.749986\n",
       "1    2  12.555561\n",
       "2    3  28.554793\n",
       "3    4  18.841219\n",
       "4    5   5.413692"
      ]
     },
     "metadata": {},
     "output_type": "display_data"
    },
    {
     "name": "stdout",
     "output_type": "stream",
     "text": [
      "\u001b[0m\u001b[1;35m\n",
      "Количество дубликатов: 0\n",
      "\u001b[0m\u001b[0m\u001b[1;35m\n",
      "Основные статистики:\n",
      "\u001b[0m"
     ]
    },
    {
     "data": {
      "text/html": [
       "<div>\n",
       "<style scoped>\n",
       "    .dataframe tbody tr th:only-of-type {\n",
       "        vertical-align: middle;\n",
       "    }\n",
       "\n",
       "    .dataframe tbody tr th {\n",
       "        vertical-align: top;\n",
       "    }\n",
       "\n",
       "    .dataframe thead th {\n",
       "        text-align: right;\n",
       "    }\n",
       "</style>\n",
       "<table border=\"1\" class=\"dataframe\">\n",
       "  <thead>\n",
       "    <tr style=\"text-align: right;\">\n",
       "      <th></th>\n",
       "      <th>count</th>\n",
       "      <th>mean</th>\n",
       "      <th>std</th>\n",
       "      <th>min</th>\n",
       "      <th>25%</th>\n",
       "      <th>50%</th>\n",
       "      <th>75%</th>\n",
       "      <th>max</th>\n",
       "    </tr>\n",
       "  </thead>\n",
       "  <tbody>\n",
       "    <tr>\n",
       "      <th>key</th>\n",
       "      <td>3239.0</td>\n",
       "      <td>1621.861377</td>\n",
       "      <td>935.386334</td>\n",
       "      <td>1.000000</td>\n",
       "      <td>812.500000</td>\n",
       "      <td>1622.000000</td>\n",
       "      <td>2431.500000</td>\n",
       "      <td>3241.00000</td>\n",
       "    </tr>\n",
       "    <tr>\n",
       "      <th>Газ 1</th>\n",
       "      <td>3239.0</td>\n",
       "      <td>11.002062</td>\n",
       "      <td>6.220327</td>\n",
       "      <td>0.008399</td>\n",
       "      <td>7.043089</td>\n",
       "      <td>9.836267</td>\n",
       "      <td>13.769915</td>\n",
       "      <td>77.99504</td>\n",
       "    </tr>\n",
       "  </tbody>\n",
       "</table>\n",
       "</div>"
      ],
      "text/plain": [
       "        count         mean         std       min         25%          50%  \\\n",
       "key    3239.0  1621.861377  935.386334  1.000000  812.500000  1622.000000   \n",
       "Газ 1  3239.0    11.002062    6.220327  0.008399    7.043089     9.836267   \n",
       "\n",
       "               75%         max  \n",
       "key    2431.500000  3241.00000  \n",
       "Газ 1    13.769915    77.99504  "
      ]
     },
     "metadata": {},
     "output_type": "display_data"
    }
   ],
   "source": [
    "# out\n",
    "show_df_info(gas, 'gas')"
   ]
  },
  {
   "cell_type": "markdown",
   "id": "f9ce3dde",
   "metadata": {},
   "source": [
    "**Выводы:**\n",
    "\n",
    "В рамках предобработки датафрейма `gas` необходимо обратить внимание на следующие выявленные нарушения и особенности:\n",
    "- Названия столбцов не в нотации snake_case"
   ]
  },
  {
   "cell_type": "markdown",
   "id": "8a451c0b",
   "metadata": {},
   "source": [
    "<br>\n",
    "\n",
    "### 1.2.5. Датафрейм `temp`, основная информация:"
   ]
  },
  {
   "cell_type": "code",
   "execution_count": 17,
   "id": "39c180ce",
   "metadata": {},
   "outputs": [
    {
     "name": "stdout",
     "output_type": "stream",
     "text": [
      "\u001b[0m\u001b[1;35m\n",
      "Датафрейм `temp`: Результаты измерения температуры.   (Строк: 15907, столбцов: 3)\n",
      "————————————————————————————————————————————————————————————————————————————————————————————————————\u001b[0m\n",
      "\u001b[0m\u001b[1;35m\n",
      "Информация о столбцах:\n",
      "\n",
      "\u001b[0m<class 'pandas.core.frame.DataFrame'>\n",
      "RangeIndex: 15907 entries, 0 to 15906\n",
      "Data columns (total 3 columns):\n",
      " #   Column        Non-Null Count  Dtype  \n",
      "---  ------        --------------  -----  \n",
      " 0   key           15907 non-null  int64  \n",
      " 1   Время замера  15907 non-null  object \n",
      " 2   Температура   13006 non-null  float64\n",
      "dtypes: float64(1), int64(1), object(1)\n",
      "memory usage: 372.9+ KB\n",
      "None\n",
      "\u001b[0m\u001b[1;35m\n",
      "Первые 5 строк:\n",
      "\u001b[0m"
     ]
    },
    {
     "data": {
      "text/html": [
       "<div>\n",
       "<style scoped>\n",
       "    .dataframe tbody tr th:only-of-type {\n",
       "        vertical-align: middle;\n",
       "    }\n",
       "\n",
       "    .dataframe tbody tr th {\n",
       "        vertical-align: top;\n",
       "    }\n",
       "\n",
       "    .dataframe thead th {\n",
       "        text-align: right;\n",
       "    }\n",
       "</style>\n",
       "<table border=\"1\" class=\"dataframe\">\n",
       "  <thead>\n",
       "    <tr style=\"text-align: right;\">\n",
       "      <th></th>\n",
       "      <th>key</th>\n",
       "      <th>Время замера</th>\n",
       "      <th>Температура</th>\n",
       "    </tr>\n",
       "  </thead>\n",
       "  <tbody>\n",
       "    <tr>\n",
       "      <th>0</th>\n",
       "      <td>1</td>\n",
       "      <td>2019-05-03 11:16:18</td>\n",
       "      <td>1571.0</td>\n",
       "    </tr>\n",
       "    <tr>\n",
       "      <th>1</th>\n",
       "      <td>1</td>\n",
       "      <td>2019-05-03 11:25:53</td>\n",
       "      <td>1604.0</td>\n",
       "    </tr>\n",
       "    <tr>\n",
       "      <th>2</th>\n",
       "      <td>1</td>\n",
       "      <td>2019-05-03 11:29:11</td>\n",
       "      <td>1618.0</td>\n",
       "    </tr>\n",
       "    <tr>\n",
       "      <th>3</th>\n",
       "      <td>1</td>\n",
       "      <td>2019-05-03 11:30:01</td>\n",
       "      <td>1601.0</td>\n",
       "    </tr>\n",
       "    <tr>\n",
       "      <th>4</th>\n",
       "      <td>1</td>\n",
       "      <td>2019-05-03 11:30:39</td>\n",
       "      <td>1613.0</td>\n",
       "    </tr>\n",
       "  </tbody>\n",
       "</table>\n",
       "</div>"
      ],
      "text/plain": [
       "   key         Время замера  Температура\n",
       "0    1  2019-05-03 11:16:18       1571.0\n",
       "1    1  2019-05-03 11:25:53       1604.0\n",
       "2    1  2019-05-03 11:29:11       1618.0\n",
       "3    1  2019-05-03 11:30:01       1601.0\n",
       "4    1  2019-05-03 11:30:39       1613.0"
      ]
     },
     "metadata": {},
     "output_type": "display_data"
    },
    {
     "name": "stdout",
     "output_type": "stream",
     "text": [
      "\u001b[0m\u001b[1;35m\n",
      "Количество дубликатов: 0\n",
      "\u001b[0m\u001b[0m\u001b[1;35m\n",
      "Основные статистики:\n",
      "\u001b[0m"
     ]
    },
    {
     "data": {
      "text/html": [
       "<div>\n",
       "<style scoped>\n",
       "    .dataframe tbody tr th:only-of-type {\n",
       "        vertical-align: middle;\n",
       "    }\n",
       "\n",
       "    .dataframe tbody tr th {\n",
       "        vertical-align: top;\n",
       "    }\n",
       "\n",
       "    .dataframe thead th {\n",
       "        text-align: right;\n",
       "    }\n",
       "</style>\n",
       "<table border=\"1\" class=\"dataframe\">\n",
       "  <thead>\n",
       "    <tr style=\"text-align: right;\">\n",
       "      <th></th>\n",
       "      <th>count</th>\n",
       "      <th>mean</th>\n",
       "      <th>std</th>\n",
       "      <th>min</th>\n",
       "      <th>25%</th>\n",
       "      <th>50%</th>\n",
       "      <th>75%</th>\n",
       "      <th>max</th>\n",
       "    </tr>\n",
       "  </thead>\n",
       "  <tbody>\n",
       "    <tr>\n",
       "      <th>key</th>\n",
       "      <td>15907.0</td>\n",
       "      <td>1607.88087</td>\n",
       "      <td>942.212073</td>\n",
       "      <td>1.0</td>\n",
       "      <td>790.0</td>\n",
       "      <td>1618.0</td>\n",
       "      <td>2427.0</td>\n",
       "      <td>3241.0</td>\n",
       "    </tr>\n",
       "    <tr>\n",
       "      <th>Температура</th>\n",
       "      <td>13006.0</td>\n",
       "      <td>1591.84092</td>\n",
       "      <td>21.375851</td>\n",
       "      <td>1191.0</td>\n",
       "      <td>1581.0</td>\n",
       "      <td>1591.0</td>\n",
       "      <td>1601.0</td>\n",
       "      <td>1705.0</td>\n",
       "    </tr>\n",
       "  </tbody>\n",
       "</table>\n",
       "</div>"
      ],
      "text/plain": [
       "               count        mean         std     min     25%     50%     75%  \\\n",
       "key          15907.0  1607.88087  942.212073     1.0   790.0  1618.0  2427.0   \n",
       "Температура  13006.0  1591.84092   21.375851  1191.0  1581.0  1591.0  1601.0   \n",
       "\n",
       "                max  \n",
       "key          3241.0  \n",
       "Температура  1705.0  "
      ]
     },
     "metadata": {},
     "output_type": "display_data"
    }
   ],
   "source": [
    "# out\n",
    "show_df_info(temp, 'temp')"
   ]
  },
  {
   "cell_type": "markdown",
   "id": "1169b979",
   "metadata": {},
   "source": [
    "**Выводы:**\n",
    "\n",
    "В рамках предобработки датафрейма `temp` необходимо обратить внимание на следующие выявленные нарушения и особенности:\n",
    "- Названия столбцов не в нотации snake_case\n",
    "- Большое количество пропусков в столбце температуры\n",
    "- Несоответствие типа данных для столбцов с датой и временем"
   ]
  },
  {
   "cell_type": "markdown",
   "id": "41f8f6e6",
   "metadata": {},
   "source": [
    "<br>\n",
    "\n",
    "### 1.2.6. Датафрейм `wire`, основная информация:"
   ]
  },
  {
   "cell_type": "code",
   "execution_count": 18,
   "id": "ce560fda",
   "metadata": {},
   "outputs": [
    {
     "name": "stdout",
     "output_type": "stream",
     "text": [
      "\u001b[0m\u001b[1;35m\n",
      "Датафрейм `wire`: Данные о подаче проволочных материалов.   (Строк: 3081, столбцов: 10)\n",
      "————————————————————————————————————————————————————————————————————————————————————————————————————\u001b[0m\n",
      "\u001b[0m\u001b[1;35m\n",
      "Информация о столбцах:\n",
      "\n",
      "\u001b[0m<class 'pandas.core.frame.DataFrame'>\n",
      "RangeIndex: 3081 entries, 0 to 3080\n",
      "Data columns (total 10 columns):\n",
      " #   Column  Non-Null Count  Dtype  \n",
      "---  ------  --------------  -----  \n",
      " 0   key     3081 non-null   int64  \n",
      " 1   Wire 1  3055 non-null   float64\n",
      " 2   Wire 2  1079 non-null   float64\n",
      " 3   Wire 3  63 non-null     float64\n",
      " 4   Wire 4  14 non-null     float64\n",
      " 5   Wire 5  1 non-null      float64\n",
      " 6   Wire 6  73 non-null     float64\n",
      " 7   Wire 7  11 non-null     float64\n",
      " 8   Wire 8  19 non-null     float64\n",
      " 9   Wire 9  29 non-null     float64\n",
      "dtypes: float64(9), int64(1)\n",
      "memory usage: 240.8 KB\n",
      "None\n",
      "\u001b[0m\u001b[1;35m\n",
      "Первые 5 строк:\n",
      "\u001b[0m"
     ]
    },
    {
     "data": {
      "text/html": [
       "<div>\n",
       "<style scoped>\n",
       "    .dataframe tbody tr th:only-of-type {\n",
       "        vertical-align: middle;\n",
       "    }\n",
       "\n",
       "    .dataframe tbody tr th {\n",
       "        vertical-align: top;\n",
       "    }\n",
       "\n",
       "    .dataframe thead th {\n",
       "        text-align: right;\n",
       "    }\n",
       "</style>\n",
       "<table border=\"1\" class=\"dataframe\">\n",
       "  <thead>\n",
       "    <tr style=\"text-align: right;\">\n",
       "      <th></th>\n",
       "      <th>key</th>\n",
       "      <th>Wire 1</th>\n",
       "      <th>Wire 2</th>\n",
       "      <th>Wire 3</th>\n",
       "      <th>Wire 4</th>\n",
       "      <th>Wire 5</th>\n",
       "      <th>Wire 6</th>\n",
       "      <th>Wire 7</th>\n",
       "      <th>Wire 8</th>\n",
       "      <th>Wire 9</th>\n",
       "    </tr>\n",
       "  </thead>\n",
       "  <tbody>\n",
       "    <tr>\n",
       "      <th>0</th>\n",
       "      <td>1</td>\n",
       "      <td>60.059998</td>\n",
       "      <td>NaN</td>\n",
       "      <td>NaN</td>\n",
       "      <td>NaN</td>\n",
       "      <td>NaN</td>\n",
       "      <td>NaN</td>\n",
       "      <td>NaN</td>\n",
       "      <td>NaN</td>\n",
       "      <td>NaN</td>\n",
       "    </tr>\n",
       "    <tr>\n",
       "      <th>1</th>\n",
       "      <td>2</td>\n",
       "      <td>96.052315</td>\n",
       "      <td>NaN</td>\n",
       "      <td>NaN</td>\n",
       "      <td>NaN</td>\n",
       "      <td>NaN</td>\n",
       "      <td>NaN</td>\n",
       "      <td>NaN</td>\n",
       "      <td>NaN</td>\n",
       "      <td>NaN</td>\n",
       "    </tr>\n",
       "    <tr>\n",
       "      <th>2</th>\n",
       "      <td>3</td>\n",
       "      <td>91.160157</td>\n",
       "      <td>NaN</td>\n",
       "      <td>NaN</td>\n",
       "      <td>NaN</td>\n",
       "      <td>NaN</td>\n",
       "      <td>NaN</td>\n",
       "      <td>NaN</td>\n",
       "      <td>NaN</td>\n",
       "      <td>NaN</td>\n",
       "    </tr>\n",
       "    <tr>\n",
       "      <th>3</th>\n",
       "      <td>4</td>\n",
       "      <td>89.063515</td>\n",
       "      <td>NaN</td>\n",
       "      <td>NaN</td>\n",
       "      <td>NaN</td>\n",
       "      <td>NaN</td>\n",
       "      <td>NaN</td>\n",
       "      <td>NaN</td>\n",
       "      <td>NaN</td>\n",
       "      <td>NaN</td>\n",
       "    </tr>\n",
       "    <tr>\n",
       "      <th>4</th>\n",
       "      <td>5</td>\n",
       "      <td>89.238236</td>\n",
       "      <td>9.11456</td>\n",
       "      <td>NaN</td>\n",
       "      <td>NaN</td>\n",
       "      <td>NaN</td>\n",
       "      <td>NaN</td>\n",
       "      <td>NaN</td>\n",
       "      <td>NaN</td>\n",
       "      <td>NaN</td>\n",
       "    </tr>\n",
       "  </tbody>\n",
       "</table>\n",
       "</div>"
      ],
      "text/plain": [
       "   key     Wire 1   Wire 2  Wire 3  Wire 4  Wire 5  Wire 6  Wire 7  Wire 8  \\\n",
       "0    1  60.059998      NaN     NaN     NaN     NaN     NaN     NaN     NaN   \n",
       "1    2  96.052315      NaN     NaN     NaN     NaN     NaN     NaN     NaN   \n",
       "2    3  91.160157      NaN     NaN     NaN     NaN     NaN     NaN     NaN   \n",
       "3    4  89.063515      NaN     NaN     NaN     NaN     NaN     NaN     NaN   \n",
       "4    5  89.238236  9.11456     NaN     NaN     NaN     NaN     NaN     NaN   \n",
       "\n",
       "   Wire 9  \n",
       "0     NaN  \n",
       "1     NaN  \n",
       "2     NaN  \n",
       "3     NaN  \n",
       "4     NaN  "
      ]
     },
     "metadata": {},
     "output_type": "display_data"
    },
    {
     "name": "stdout",
     "output_type": "stream",
     "text": [
      "\u001b[0m\u001b[1;35m\n",
      "Количество дубликатов: 0\n",
      "\u001b[0m\u001b[0m\u001b[1;35m\n",
      "Основные статистики:\n",
      "\u001b[0m"
     ]
    },
    {
     "data": {
      "text/html": [
       "<div>\n",
       "<style scoped>\n",
       "    .dataframe tbody tr th:only-of-type {\n",
       "        vertical-align: middle;\n",
       "    }\n",
       "\n",
       "    .dataframe tbody tr th {\n",
       "        vertical-align: top;\n",
       "    }\n",
       "\n",
       "    .dataframe thead th {\n",
       "        text-align: right;\n",
       "    }\n",
       "</style>\n",
       "<table border=\"1\" class=\"dataframe\">\n",
       "  <thead>\n",
       "    <tr style=\"text-align: right;\">\n",
       "      <th></th>\n",
       "      <th>count</th>\n",
       "      <th>mean</th>\n",
       "      <th>std</th>\n",
       "      <th>min</th>\n",
       "      <th>25%</th>\n",
       "      <th>50%</th>\n",
       "      <th>75%</th>\n",
       "      <th>max</th>\n",
       "    </tr>\n",
       "  </thead>\n",
       "  <tbody>\n",
       "    <tr>\n",
       "      <th>key</th>\n",
       "      <td>3081.0</td>\n",
       "      <td>1623.426485</td>\n",
       "      <td>932.996726</td>\n",
       "      <td>1.000000</td>\n",
       "      <td>823.000000</td>\n",
       "      <td>1619.000000</td>\n",
       "      <td>2434.000000</td>\n",
       "      <td>3241.000000</td>\n",
       "    </tr>\n",
       "    <tr>\n",
       "      <th>Wire 1</th>\n",
       "      <td>3055.0</td>\n",
       "      <td>100.895853</td>\n",
       "      <td>42.012518</td>\n",
       "      <td>1.918800</td>\n",
       "      <td>72.115684</td>\n",
       "      <td>100.158234</td>\n",
       "      <td>126.060483</td>\n",
       "      <td>330.314424</td>\n",
       "    </tr>\n",
       "    <tr>\n",
       "      <th>Wire 2</th>\n",
       "      <td>1079.0</td>\n",
       "      <td>50.577323</td>\n",
       "      <td>39.320216</td>\n",
       "      <td>0.030160</td>\n",
       "      <td>20.193680</td>\n",
       "      <td>40.142956</td>\n",
       "      <td>70.227558</td>\n",
       "      <td>282.780152</td>\n",
       "    </tr>\n",
       "    <tr>\n",
       "      <th>Wire 3</th>\n",
       "      <td>63.0</td>\n",
       "      <td>189.482681</td>\n",
       "      <td>99.513444</td>\n",
       "      <td>0.144144</td>\n",
       "      <td>95.135044</td>\n",
       "      <td>235.194977</td>\n",
       "      <td>276.252014</td>\n",
       "      <td>385.008668</td>\n",
       "    </tr>\n",
       "    <tr>\n",
       "      <th>Wire 4</th>\n",
       "      <td>14.0</td>\n",
       "      <td>57.442841</td>\n",
       "      <td>28.824667</td>\n",
       "      <td>24.148801</td>\n",
       "      <td>40.807002</td>\n",
       "      <td>45.234282</td>\n",
       "      <td>76.124619</td>\n",
       "      <td>113.231044</td>\n",
       "    </tr>\n",
       "    <tr>\n",
       "      <th>Wire 5</th>\n",
       "      <td>1.0</td>\n",
       "      <td>15.132000</td>\n",
       "      <td>NaN</td>\n",
       "      <td>15.132000</td>\n",
       "      <td>15.132000</td>\n",
       "      <td>15.132000</td>\n",
       "      <td>15.132000</td>\n",
       "      <td>15.132000</td>\n",
       "    </tr>\n",
       "    <tr>\n",
       "      <th>Wire 6</th>\n",
       "      <td>73.0</td>\n",
       "      <td>48.016974</td>\n",
       "      <td>33.919845</td>\n",
       "      <td>0.034320</td>\n",
       "      <td>25.053600</td>\n",
       "      <td>42.076324</td>\n",
       "      <td>64.212723</td>\n",
       "      <td>180.454575</td>\n",
       "    </tr>\n",
       "    <tr>\n",
       "      <th>Wire 7</th>\n",
       "      <td>11.0</td>\n",
       "      <td>10.039007</td>\n",
       "      <td>8.610584</td>\n",
       "      <td>0.234208</td>\n",
       "      <td>6.762756</td>\n",
       "      <td>9.017009</td>\n",
       "      <td>11.886057</td>\n",
       "      <td>32.847674</td>\n",
       "    </tr>\n",
       "    <tr>\n",
       "      <th>Wire 8</th>\n",
       "      <td>19.0</td>\n",
       "      <td>53.625193</td>\n",
       "      <td>16.881728</td>\n",
       "      <td>45.076721</td>\n",
       "      <td>46.094879</td>\n",
       "      <td>46.279999</td>\n",
       "      <td>48.089603</td>\n",
       "      <td>102.762401</td>\n",
       "    </tr>\n",
       "    <tr>\n",
       "      <th>Wire 9</th>\n",
       "      <td>29.0</td>\n",
       "      <td>34.155752</td>\n",
       "      <td>19.931616</td>\n",
       "      <td>4.622800</td>\n",
       "      <td>22.058401</td>\n",
       "      <td>30.066399</td>\n",
       "      <td>43.862003</td>\n",
       "      <td>90.053604</td>\n",
       "    </tr>\n",
       "  </tbody>\n",
       "</table>\n",
       "</div>"
      ],
      "text/plain": [
       "         count         mean         std        min         25%          50%  \\\n",
       "key     3081.0  1623.426485  932.996726   1.000000  823.000000  1619.000000   \n",
       "Wire 1  3055.0   100.895853   42.012518   1.918800   72.115684   100.158234   \n",
       "Wire 2  1079.0    50.577323   39.320216   0.030160   20.193680    40.142956   \n",
       "Wire 3    63.0   189.482681   99.513444   0.144144   95.135044   235.194977   \n",
       "Wire 4    14.0    57.442841   28.824667  24.148801   40.807002    45.234282   \n",
       "Wire 5     1.0    15.132000         NaN  15.132000   15.132000    15.132000   \n",
       "Wire 6    73.0    48.016974   33.919845   0.034320   25.053600    42.076324   \n",
       "Wire 7    11.0    10.039007    8.610584   0.234208    6.762756     9.017009   \n",
       "Wire 8    19.0    53.625193   16.881728  45.076721   46.094879    46.279999   \n",
       "Wire 9    29.0    34.155752   19.931616   4.622800   22.058401    30.066399   \n",
       "\n",
       "                75%          max  \n",
       "key     2434.000000  3241.000000  \n",
       "Wire 1   126.060483   330.314424  \n",
       "Wire 2    70.227558   282.780152  \n",
       "Wire 3   276.252014   385.008668  \n",
       "Wire 4    76.124619   113.231044  \n",
       "Wire 5    15.132000    15.132000  \n",
       "Wire 6    64.212723   180.454575  \n",
       "Wire 7    11.886057    32.847674  \n",
       "Wire 8    48.089603   102.762401  \n",
       "Wire 9    43.862003    90.053604  "
      ]
     },
     "metadata": {},
     "output_type": "display_data"
    }
   ],
   "source": [
    "# out\n",
    "show_df_info(wire, 'wire')"
   ]
  },
  {
   "cell_type": "markdown",
   "id": "7963964e",
   "metadata": {},
   "source": [
    "**Выводы:**\n",
    "\n",
    "В рамках предобработки датафрейма `wire` необходимо обратить внимание на следующие выявленные нарушения и особенности:\n",
    "- Названия столбцов не в нотации snake_case\n",
    "- Большое количество пропусков в столбцах"
   ]
  },
  {
   "cell_type": "markdown",
   "id": "66a8a012",
   "metadata": {},
   "source": [
    "<br>\n",
    "\n",
    "### 1.2.7. Датафрейм `wire_time`, основная информация:"
   ]
  },
  {
   "cell_type": "code",
   "execution_count": 19,
   "id": "74a2ff97",
   "metadata": {},
   "outputs": [
    {
     "name": "stdout",
     "output_type": "stream",
     "text": [
      "\u001b[0m\u001b[1;35m\n",
      "Датафрейм `wire_time`: Данные о времени подачи проволочных материалов.   (Строк: 3081, столбцов: 10)\n",
      "————————————————————————————————————————————————————————————————————————————————————————————————————\u001b[0m\n",
      "\u001b[0m\u001b[1;35m\n",
      "Информация о столбцах:\n",
      "\n",
      "\u001b[0m<class 'pandas.core.frame.DataFrame'>\n",
      "RangeIndex: 3081 entries, 0 to 3080\n",
      "Data columns (total 10 columns):\n",
      " #   Column  Non-Null Count  Dtype \n",
      "---  ------  --------------  ----- \n",
      " 0   key     3081 non-null   int64 \n",
      " 1   Wire 1  3055 non-null   object\n",
      " 2   Wire 2  1079 non-null   object\n",
      " 3   Wire 3  63 non-null     object\n",
      " 4   Wire 4  14 non-null     object\n",
      " 5   Wire 5  1 non-null      object\n",
      " 6   Wire 6  73 non-null     object\n",
      " 7   Wire 7  11 non-null     object\n",
      " 8   Wire 8  19 non-null     object\n",
      " 9   Wire 9  29 non-null     object\n",
      "dtypes: int64(1), object(9)\n",
      "memory usage: 240.8+ KB\n",
      "None\n",
      "\u001b[0m\u001b[1;35m\n",
      "Первые 5 строк:\n",
      "\u001b[0m"
     ]
    },
    {
     "data": {
      "text/html": [
       "<div>\n",
       "<style scoped>\n",
       "    .dataframe tbody tr th:only-of-type {\n",
       "        vertical-align: middle;\n",
       "    }\n",
       "\n",
       "    .dataframe tbody tr th {\n",
       "        vertical-align: top;\n",
       "    }\n",
       "\n",
       "    .dataframe thead th {\n",
       "        text-align: right;\n",
       "    }\n",
       "</style>\n",
       "<table border=\"1\" class=\"dataframe\">\n",
       "  <thead>\n",
       "    <tr style=\"text-align: right;\">\n",
       "      <th></th>\n",
       "      <th>key</th>\n",
       "      <th>Wire 1</th>\n",
       "      <th>Wire 2</th>\n",
       "      <th>Wire 3</th>\n",
       "      <th>Wire 4</th>\n",
       "      <th>Wire 5</th>\n",
       "      <th>Wire 6</th>\n",
       "      <th>Wire 7</th>\n",
       "      <th>Wire 8</th>\n",
       "      <th>Wire 9</th>\n",
       "    </tr>\n",
       "  </thead>\n",
       "  <tbody>\n",
       "    <tr>\n",
       "      <th>0</th>\n",
       "      <td>1</td>\n",
       "      <td>2019-05-03 11:11:41</td>\n",
       "      <td>NaN</td>\n",
       "      <td>NaN</td>\n",
       "      <td>NaN</td>\n",
       "      <td>NaN</td>\n",
       "      <td>NaN</td>\n",
       "      <td>NaN</td>\n",
       "      <td>NaN</td>\n",
       "      <td>NaN</td>\n",
       "    </tr>\n",
       "    <tr>\n",
       "      <th>1</th>\n",
       "      <td>2</td>\n",
       "      <td>2019-05-03 11:46:10</td>\n",
       "      <td>NaN</td>\n",
       "      <td>NaN</td>\n",
       "      <td>NaN</td>\n",
       "      <td>NaN</td>\n",
       "      <td>NaN</td>\n",
       "      <td>NaN</td>\n",
       "      <td>NaN</td>\n",
       "      <td>NaN</td>\n",
       "    </tr>\n",
       "    <tr>\n",
       "      <th>2</th>\n",
       "      <td>3</td>\n",
       "      <td>2019-05-03 12:13:47</td>\n",
       "      <td>NaN</td>\n",
       "      <td>NaN</td>\n",
       "      <td>NaN</td>\n",
       "      <td>NaN</td>\n",
       "      <td>NaN</td>\n",
       "      <td>NaN</td>\n",
       "      <td>NaN</td>\n",
       "      <td>NaN</td>\n",
       "    </tr>\n",
       "    <tr>\n",
       "      <th>3</th>\n",
       "      <td>4</td>\n",
       "      <td>2019-05-03 12:48:05</td>\n",
       "      <td>NaN</td>\n",
       "      <td>NaN</td>\n",
       "      <td>NaN</td>\n",
       "      <td>NaN</td>\n",
       "      <td>NaN</td>\n",
       "      <td>NaN</td>\n",
       "      <td>NaN</td>\n",
       "      <td>NaN</td>\n",
       "    </tr>\n",
       "    <tr>\n",
       "      <th>4</th>\n",
       "      <td>5</td>\n",
       "      <td>2019-05-03 13:18:15</td>\n",
       "      <td>2019-05-03 13:32:06</td>\n",
       "      <td>NaN</td>\n",
       "      <td>NaN</td>\n",
       "      <td>NaN</td>\n",
       "      <td>NaN</td>\n",
       "      <td>NaN</td>\n",
       "      <td>NaN</td>\n",
       "      <td>NaN</td>\n",
       "    </tr>\n",
       "  </tbody>\n",
       "</table>\n",
       "</div>"
      ],
      "text/plain": [
       "   key               Wire 1               Wire 2 Wire 3 Wire 4 Wire 5 Wire 6  \\\n",
       "0    1  2019-05-03 11:11:41                  NaN    NaN    NaN    NaN    NaN   \n",
       "1    2  2019-05-03 11:46:10                  NaN    NaN    NaN    NaN    NaN   \n",
       "2    3  2019-05-03 12:13:47                  NaN    NaN    NaN    NaN    NaN   \n",
       "3    4  2019-05-03 12:48:05                  NaN    NaN    NaN    NaN    NaN   \n",
       "4    5  2019-05-03 13:18:15  2019-05-03 13:32:06    NaN    NaN    NaN    NaN   \n",
       "\n",
       "  Wire 7 Wire 8 Wire 9  \n",
       "0    NaN    NaN    NaN  \n",
       "1    NaN    NaN    NaN  \n",
       "2    NaN    NaN    NaN  \n",
       "3    NaN    NaN    NaN  \n",
       "4    NaN    NaN    NaN  "
      ]
     },
     "metadata": {},
     "output_type": "display_data"
    },
    {
     "name": "stdout",
     "output_type": "stream",
     "text": [
      "\u001b[0m\u001b[1;35m\n",
      "Количество дубликатов: 0\n",
      "\u001b[0m\u001b[0m\u001b[1;35m\n",
      "Основные статистики:\n",
      "\u001b[0m"
     ]
    },
    {
     "data": {
      "text/html": [
       "<div>\n",
       "<style scoped>\n",
       "    .dataframe tbody tr th:only-of-type {\n",
       "        vertical-align: middle;\n",
       "    }\n",
       "\n",
       "    .dataframe tbody tr th {\n",
       "        vertical-align: top;\n",
       "    }\n",
       "\n",
       "    .dataframe thead th {\n",
       "        text-align: right;\n",
       "    }\n",
       "</style>\n",
       "<table border=\"1\" class=\"dataframe\">\n",
       "  <thead>\n",
       "    <tr style=\"text-align: right;\">\n",
       "      <th></th>\n",
       "      <th>count</th>\n",
       "      <th>mean</th>\n",
       "      <th>std</th>\n",
       "      <th>min</th>\n",
       "      <th>25%</th>\n",
       "      <th>50%</th>\n",
       "      <th>75%</th>\n",
       "      <th>max</th>\n",
       "    </tr>\n",
       "  </thead>\n",
       "  <tbody>\n",
       "    <tr>\n",
       "      <th>key</th>\n",
       "      <td>3081.0</td>\n",
       "      <td>1623.426485</td>\n",
       "      <td>932.996726</td>\n",
       "      <td>1.0</td>\n",
       "      <td>823.0</td>\n",
       "      <td>1619.0</td>\n",
       "      <td>2434.0</td>\n",
       "      <td>3241.0</td>\n",
       "    </tr>\n",
       "  </tbody>\n",
       "</table>\n",
       "</div>"
      ],
      "text/plain": [
       "      count         mean         std  min    25%     50%     75%     max\n",
       "key  3081.0  1623.426485  932.996726  1.0  823.0  1619.0  2434.0  3241.0"
      ]
     },
     "metadata": {},
     "output_type": "display_data"
    }
   ],
   "source": [
    "# out\n",
    "show_df_info(wire_time, 'wire_time')"
   ]
  },
  {
   "cell_type": "markdown",
   "id": "d5ecdfb5",
   "metadata": {},
   "source": [
    "**Выводы:**\n",
    "\n",
    "В рамках предобработки датафрейма `wire_time` необходимо обратить внимание на следующие выявленные нарушения и особенности:\n",
    "- Названия столбцов не в нотации snake_case\n",
    "- Большое количество пропусков в столбцах\n",
    "- Несоответствие типа данных для столбцов с датой и временем"
   ]
  },
  {
   "cell_type": "markdown",
   "id": "21e97626",
   "metadata": {},
   "source": [
    "Итак, в рамках задания по предсказанию температуры металла мы решаем задачу регрессии, где целевой признак это конечная температура металла в партии, а остальные признаки нам нужно определить самостоятельно\n",
    "\n",
    "Рассмотрим теперь внимательней каждый датафрейм, выполним предобработку данных и проведем исследовательский анализ данных:"
   ]
  },
  {
   "cell_type": "markdown",
   "id": "e033bdae",
   "metadata": {},
   "source": [
    "<br><br>\n",
    "\n",
    "## 1.3. Датафрейм `arc` (предобработка, EDA)"
   ]
  },
  {
   "cell_type": "markdown",
   "id": "36e47819",
   "metadata": {},
   "source": [
    "Приведём названия столбцов датафрейма `arc` к нотации snake_case, преобразуем тип столбцов, содержащих дату и время к типу datetime и выведем результат (первые 2 строки):"
   ]
  },
  {
   "cell_type": "code",
   "execution_count": 20,
   "id": "3dd9d92c",
   "metadata": {},
   "outputs": [
    {
     "name": "stdout",
     "output_type": "stream",
     "text": [
      "\u001b[0m\u001b[1;35mПервые 2 строки датафрейма `arc`:\n",
      "\u001b[0m"
     ]
    },
    {
     "data": {
      "text/html": [
       "<div>\n",
       "<style scoped>\n",
       "    .dataframe tbody tr th:only-of-type {\n",
       "        vertical-align: middle;\n",
       "    }\n",
       "\n",
       "    .dataframe tbody tr th {\n",
       "        vertical-align: top;\n",
       "    }\n",
       "\n",
       "    .dataframe thead th {\n",
       "        text-align: right;\n",
       "    }\n",
       "</style>\n",
       "<table border=\"1\" class=\"dataframe\">\n",
       "  <thead>\n",
       "    <tr style=\"text-align: right;\">\n",
       "      <th></th>\n",
       "      <th>key</th>\n",
       "      <th>time_arc_on</th>\n",
       "      <th>time_arc_off</th>\n",
       "      <th>a_pwr</th>\n",
       "      <th>r_pwr</th>\n",
       "    </tr>\n",
       "  </thead>\n",
       "  <tbody>\n",
       "    <tr>\n",
       "      <th>0</th>\n",
       "      <td>1</td>\n",
       "      <td>2019-05-03 11:02:14</td>\n",
       "      <td>2019-05-03 11:06:02</td>\n",
       "      <td>0.976059</td>\n",
       "      <td>0.687084</td>\n",
       "    </tr>\n",
       "    <tr>\n",
       "      <th>1</th>\n",
       "      <td>1</td>\n",
       "      <td>2019-05-03 11:07:28</td>\n",
       "      <td>2019-05-03 11:10:33</td>\n",
       "      <td>0.805607</td>\n",
       "      <td>0.520285</td>\n",
       "    </tr>\n",
       "  </tbody>\n",
       "</table>\n",
       "</div>"
      ],
      "text/plain": [
       "   key         time_arc_on        time_arc_off     a_pwr     r_pwr\n",
       "0    1 2019-05-03 11:02:14 2019-05-03 11:06:02  0.976059  0.687084\n",
       "1    1 2019-05-03 11:07:28 2019-05-03 11:10:33  0.805607  0.520285"
      ]
     },
     "execution_count": 20,
     "metadata": {},
     "output_type": "execute_result"
    }
   ],
   "source": [
    "# изменим названия столбцов\n",
    "arc.columns = ['key', 'time_arc_on', 'time_arc_off', 'a_pwr', 'r_pwr']\n",
    "\n",
    "# приведение типа столбцов даты-времени к datetime64\n",
    "arc['time_arc_on'] = pd.to_datetime(arc['time_arc_on'])\n",
    "arc['time_arc_off'] = pd.to_datetime(arc['time_arc_off'])\n",
    "\n",
    "# out\n",
    "head_print('Первые 2 строки датафрейма `arc`:', 0)\n",
    "arc.head(2)"
   ]
  },
  {
   "cell_type": "markdown",
   "id": "867c0c93",
   "metadata": {},
   "source": [
    "Беглый осмотр после загрузки данных показал наличие большого отрицательного значения реактивной мощности. Выясним, в каких записях встречаются такие аномальные значения и много ли их:"
   ]
  },
  {
   "cell_type": "code",
   "execution_count": 21,
   "id": "924798f6",
   "metadata": {},
   "outputs": [
    {
     "name": "stdout",
     "output_type": "stream",
     "text": [
      "\u001b[0m\u001b[1;35mПартии металла, в итерациях нагрева которых замечены аномальные значения реактивной мощности:\n",
      "\u001b[0m"
     ]
    },
    {
     "data": {
      "text/html": [
       "<div>\n",
       "<style scoped>\n",
       "    .dataframe tbody tr th:only-of-type {\n",
       "        vertical-align: middle;\n",
       "    }\n",
       "\n",
       "    .dataframe tbody tr th {\n",
       "        vertical-align: top;\n",
       "    }\n",
       "\n",
       "    .dataframe thead th {\n",
       "        text-align: right;\n",
       "    }\n",
       "</style>\n",
       "<table border=\"1\" class=\"dataframe\">\n",
       "  <thead>\n",
       "    <tr style=\"text-align: right;\">\n",
       "      <th></th>\n",
       "      <th>key</th>\n",
       "      <th>time_arc_on</th>\n",
       "      <th>time_arc_off</th>\n",
       "      <th>a_pwr</th>\n",
       "      <th>r_pwr</th>\n",
       "    </tr>\n",
       "  </thead>\n",
       "  <tbody>\n",
       "    <tr>\n",
       "      <th>9778</th>\n",
       "      <td>2116</td>\n",
       "      <td>2019-07-24 00:29:52</td>\n",
       "      <td>2019-07-24 00:31:54</td>\n",
       "      <td>0.433266</td>\n",
       "      <td>0.306141</td>\n",
       "    </tr>\n",
       "    <tr>\n",
       "      <th>9779</th>\n",
       "      <td>2116</td>\n",
       "      <td>2019-07-24 00:35:50</td>\n",
       "      <td>2019-07-24 00:38:05</td>\n",
       "      <td>0.620265</td>\n",
       "      <td>0.408352</td>\n",
       "    </tr>\n",
       "    <tr>\n",
       "      <th>9780</th>\n",
       "      <td>2116</td>\n",
       "      <td>2019-07-24 00:44:48</td>\n",
       "      <td>2019-07-24 00:46:37</td>\n",
       "      <td>0.495782</td>\n",
       "      <td>-715.504924</td>\n",
       "    </tr>\n",
       "    <tr>\n",
       "      <th>9781</th>\n",
       "      <td>2116</td>\n",
       "      <td>2019-07-24 00:51:51</td>\n",
       "      <td>2019-07-24 00:52:58</td>\n",
       "      <td>0.299368</td>\n",
       "      <td>0.198796</td>\n",
       "    </tr>\n",
       "  </tbody>\n",
       "</table>\n",
       "</div>"
      ],
      "text/plain": [
       "       key         time_arc_on        time_arc_off     a_pwr       r_pwr\n",
       "9778  2116 2019-07-24 00:29:52 2019-07-24 00:31:54  0.433266    0.306141\n",
       "9779  2116 2019-07-24 00:35:50 2019-07-24 00:38:05  0.620265    0.408352\n",
       "9780  2116 2019-07-24 00:44:48 2019-07-24 00:46:37  0.495782 -715.504924\n",
       "9781  2116 2019-07-24 00:51:51 2019-07-24 00:52:58  0.299368    0.198796"
      ]
     },
     "execution_count": 21,
     "metadata": {},
     "output_type": "execute_result"
    }
   ],
   "source": [
    "# список партий металла, где встречается отрицательная реакт. мощность\n",
    "keys_anomal = arc.loc[arc['r_pwr'] < 0, 'key'].unique()\n",
    "\n",
    "# out\n",
    "head_print('Партии металла, в итерациях нагрева которых замечены аномальные значения реактивной мощности:', 0)\n",
    "arc[arc['key'].isin(keys_anomal)]"
   ]
  },
  {
   "cell_type": "markdown",
   "id": "989f9d55",
   "metadata": {},
   "source": [
    "Видим, что аномалия замечена в одной из итераций нагрева металла в единственной партии № 2116. Вероятно, это ошибка датчика, или переноса данных. В любом случае оставлять такое значение в ячейке нельзя\n",
    "\n",
    "Возможны несколько вариантов решения:\n",
    "- Мы можем удалить целиком данные по нагреву в этой партии\n",
    "- Либо удалить только итерацию с аномальным значением мощности (что немного исказит картину по данной партии)\n",
    "- Однако, мы также можем рассчитать значение для данной ячейки с хорошей точностью, просто заметив, что значения активной и реактивной мощности взаимосвязаны между собой линейно. Проверим это предположение, рассчитав коэффициент линейной взаимосвязи (коэффициент Пирсона) между двумя признаками:"
   ]
  },
  {
   "cell_type": "code",
   "execution_count": 22,
   "id": "4704c5a5",
   "metadata": {},
   "outputs": [
    {
     "name": "stdout",
     "output_type": "stream",
     "text": [
      "\u001b[0m\u001b[1;35mКоэффициент корреляции Пирсона между активной и реактивной мощностью: 0.96\n",
      "\u001b[0m"
     ]
    }
   ],
   "source": [
    "# коэффициент корреляции Пирсона\n",
    "head_print('Коэффициент корреляции Пирсона между активной и реактивной мощностью: ' \n",
    "      + f\"{arc.loc[~arc.index.isin([9780]), 'a_pwr'].corr(arc.loc[~arc.index.isin([9780]), 'r_pwr']):.2f}\", 0)"
   ]
  },
  {
   "cell_type": "markdown",
   "id": "77e07e19",
   "metadata": {},
   "source": [
    "Гипотеза подтвердилась, мощности действительно имеют тесную линейную взаимосвязь. Таким образом, поскольку аномалия у нас всего одна, то без лишнего кода просто вычислим новое значение и заменим его вручную:"
   ]
  },
  {
   "cell_type": "code",
   "execution_count": 23,
   "id": "1a7297d5",
   "metadata": {},
   "outputs": [],
   "source": [
    "arc.loc[9780, 'r_pwr'] = 0.33"
   ]
  },
  {
   "cell_type": "markdown",
   "id": "29c1cdd0",
   "metadata": {},
   "source": [
    "Аномалию устранили\n",
    "\n",
    "Визуализируем теперь распределения некоторых значений в датафрейме. В частности, выведем гистограмму распределения количества итераций в партиях металла:"
   ]
  },
  {
   "cell_type": "code",
   "execution_count": 24,
   "id": "74806b5e",
   "metadata": {},
   "outputs": [
    {
     "data": {
      "image/png": "[encoded data removed]",
      "text/plain": [
       "<Figure size 800x400 with 1 Axes>"
      ]
     },
     "metadata": {},
     "output_type": "display_data"
    }
   ],
   "source": [
    "# viz\n",
    "plt.figure(figsize=(8, 4))\n",
    "plt.subplot(1, 1, 1)\n",
    "sns.histplot(arc['key'].value_counts(), bins=15)\n",
    "plt.title('Гистограмма распределения количества итераций нагрева в партиях металла')\n",
    "plt.xlabel('Количество итераций нагрева')\n",
    "plt.ylabel('Количество партий металла')\n",
    "plt.show()"
   ]
  },
  {
   "cell_type": "markdown",
   "id": "f939c37f",
   "metadata": {},
   "source": [
    "Видим, что преобладают партии металла с 3-6 итерациями нагрева. Больше всего партий с 4 итерациями\n",
    "\n",
    "Выведем также распределение активной и реактивной мощностей:"
   ]
  },
  {
   "cell_type": "code",
   "execution_count": 25,
   "id": "9e1cfefb",
   "metadata": {},
   "outputs": [
    {
     "data": {
      "image/png": "[encoded data removed]",
      "text/plain": [
       "<Figure size 800x400 with 1 Axes>"
      ]
     },
     "metadata": {},
     "output_type": "display_data"
    }
   ],
   "source": [
    "# viz\n",
    "plt.figure(figsize=(8, 4))\n",
    "plt.subplot(1, 1, 1)\n",
    "sns.histplot(arc[['a_pwr', 'r_pwr']], bins=60, stat='density', kde=True, alpha=0.5)\n",
    "plt.title('Распределение активной и реактивной мощностей')\n",
    "plt.xlabel('Мощность')\n",
    "plt.ylabel('Плотность распределения')\n",
    "plt.show()"
   ]
  },
  {
   "cell_type": "markdown",
   "id": "2a070039",
   "metadata": {},
   "source": [
    "Распределения активной и реактивной мощности имеют форму нормальных распределений, немного скошенных вправо и обрезанных в нулевой точке\n",
    "\n",
    "Данные графики распределений лишний раз – теперь уже наглядно – подтверждают линейную взаимосвязь активной и реактивной мощности. Для дальнейшего моделирования мультиколлинеарность – это определённая проблема и использовать оба данных признака в обучении модели нельзя\n",
    "\n",
    "Пропущенных значений в датафрейме нет, однако, выясним, для каждой ли партии металла у нас есть данные по нагреву. Минимальное значение номера партии равно 1, а максимальное – 3241, проверим, сколько и каких именно номеров нет в списке уникальных значений `key` датафрейма `arc`:"
   ]
  },
  {
   "cell_type": "code",
   "execution_count": 26,
   "id": "218943a3",
   "metadata": {},
   "outputs": [
    {
     "name": "stdout",
     "output_type": "stream",
     "text": [
      "\u001b[0m\u001b[1;35mВ датафрейме `arc` отсутствует 27 номеров партий металла, а именно:\n",
      "\u001b[0m41, 42, 195, 279, 355, 382, 506, 529, 540, 607, 683, 710, 766, 1133, 1300, 1437, 2031, 2103, 2278, 2356, 2373, 2446, 2469, 2491, 2683, 3200, 3207\n"
     ]
    }
   ],
   "source": [
    "# список номеров партий, для которых нет данных по нагреву\n",
    "no_key_lst = [i for i in range(1, 3242) if i not in arc['key'].unique()]\n",
    "\n",
    "# out\n",
    "head_print(f\"В датафрейме `arc` отсутствует {len(no_key_lst)} номеров партий металла, а именно:\", 0)\n",
    "print(', '.join(map(str, no_key_lst)))"
   ]
  },
  {
   "cell_type": "markdown",
   "id": "4560f933",
   "metadata": {},
   "source": [
    "**Предварительные выводы:**\n",
    "\n",
    "- Само по себе время включения и выключения дуги нагрева для модели бесполезно, однако интервал времени, в течение которого происходил нагрев, может стать хорошим признаком. То есть, нужно будет добавить столбец с разницей между временем отключения нагрева и временем его включения\n",
    "- Кроме того, вероятно, для дальнейшего моделирования имеет смысл учитывать суммарный нагрев сплава. Таким образом, при подготовке рабочего датафрейма для модели необходимо будет просуммировать временные интервалы нагрева и мощности по всем итерациям для каждой партии. Иными словами, сгруппировать датафрейм по партиям с суммирующей агрегирующей функцией\n",
    "- Также необходимо решить проблему мультиколлинеарности признаков"
   ]
  },
  {
   "cell_type": "markdown",
   "id": "e2f2b6f7",
   "metadata": {},
   "source": [
    "<br><br>\n",
    "\n",
    "## 1.4. Датафреймы `bulk` и `bulk_time` (предобработка, EDA)"
   ]
  },
  {
   "cell_type": "markdown",
   "id": "70756e7d",
   "metadata": {},
   "source": [
    "Для начала убедимся, что датафреймы `bulk` и `bulk_time` совпадают по пропущенным значениям (и, соответственно, по количеству строк и столбцов):"
   ]
  },
  {
   "cell_type": "code",
   "execution_count": 27,
   "id": "211ecece",
   "metadata": {},
   "outputs": [
    {
     "name": "stdout",
     "output_type": "stream",
     "text": [
      "\u001b[0m\u001b[1;35mПропущенные значения в датафреймах `bulk` и `bulk_time` полностью совпадают\n",
      "\u001b[0m"
     ]
    }
   ],
   "source": [
    "# out\n",
    "head_print('Пропущенные значения в датафреймах `bulk` и `bulk_time` ' \n",
    "           + f\"{'полностью' if (bulk.isna() == bulk_time.isna()).all().all() else 'НЕ'} совпадают\", 0)"
   ]
  },
  {
   "cell_type": "markdown",
   "id": "a8b749e5",
   "metadata": {},
   "source": [
    "Исходя из сути технологического процесса в конечном итоге мы имеем сплав, содержащий определённые добавки некоторых материалов. Для модели машинного обучения не важно, в какое время они были внесены в сплав, главное, что они были добавлены в определенных количествах. Таким образом нас в первую очередь интересует предобработка датафрейма `bulk` с объёмами добавленных материалов. Сопутствующий датафрейм `bulk_time` пока не рассматриваем\n",
    "\n",
    "Приведём названия столбцов датафрейма `bulk` к нотации snake_case:"
   ]
  },
  {
   "cell_type": "code",
   "execution_count": 28,
   "id": "b61b06f4",
   "metadata": {},
   "outputs": [],
   "source": [
    "# количество столбцов bulk\n",
    "bulk_count = 15\n",
    "\n",
    "# изменим названия столбцов\n",
    "bulk_columns = ['key'] + ['bulk_' + str(i+1) for i in range(bulk_count)]\n",
    "bulk.columns = bulk_columns"
   ]
  },
  {
   "cell_type": "markdown",
   "id": "c6546c89",
   "metadata": {},
   "source": [
    "Отобразим диаграммы размаха для количества (объёма) каждой из 15 добавок:"
   ]
  },
  {
   "cell_type": "code",
   "execution_count": 29,
   "id": "ed0d6981",
   "metadata": {},
   "outputs": [
    {
     "data": {
      "image/png": "[encoded data removed]",
      "text/plain": [
       "<Figure size 1000x500 with 1 Axes>"
      ]
     },
     "metadata": {},
     "output_type": "display_data"
    }
   ],
   "source": [
    "# viz\n",
    "plt.figure(figsize=(10, 5))\n",
    "sns.boxplot(data=bulk.iloc[:, 1:])\n",
    "plt.title('Диаграммы размаха объёма для каждой добавки')\n",
    "plt.xlabel('Добавка сыпучего материала')\n",
    "plt.ylabel('Объём добавки')\n",
    "plt.ylim(-30, 1030)\n",
    "plt.xticks(rotation=45, ha='right')\n",
    "plt.grid()"
   ]
  },
  {
   "cell_type": "markdown",
   "id": "a1886b61",
   "metadata": {},
   "source": [
    "Видим, что в основном добавки подмешиваются в небольших диапазонах значений объёма, преимущественно от 0 до 200. Некоторые варьируются уже в диапазоне значений 200-400, с достаточно широким распределением (bulk_7 и bulk_12). А некоторые (например, bulk_8) вообще имеют всего один случай применения – для модели ML такой признак будет бесполезен\n",
    "\n",
    "Теперь займёмся пропущенными значениями. Очевидно, пропуски в данных обусловлены спецификой технологического процесса: разные материалы примешиваются к сплаву в разное время. Заменим пропуски в датафрейме `bulk` нулевыми значениями. Также приведём все столбцы к целочисленному типу данных:"
   ]
  },
  {
   "cell_type": "code",
   "execution_count": 30,
   "id": "60514e1a",
   "metadata": {},
   "outputs": [],
   "source": [
    "# приведём все столбцы к целочисленному типу данных\n",
    "bulk = bulk.fillna(0).astype('int64')"
   ]
  },
  {
   "cell_type": "markdown",
   "id": "c63ae5de",
   "metadata": {},
   "source": [
    "Выведем результат (первые 2 строки):"
   ]
  },
  {
   "cell_type": "code",
   "execution_count": 31,
   "id": "817f46f5",
   "metadata": {},
   "outputs": [
    {
     "name": "stdout",
     "output_type": "stream",
     "text": [
      "\u001b[0m\u001b[1;35mПервые 2 строки датафрейма `bulk`:\n",
      "\u001b[0m"
     ]
    },
    {
     "data": {
      "text/html": [
       "<div>\n",
       "<style scoped>\n",
       "    .dataframe tbody tr th:only-of-type {\n",
       "        vertical-align: middle;\n",
       "    }\n",
       "\n",
       "    .dataframe tbody tr th {\n",
       "        vertical-align: top;\n",
       "    }\n",
       "\n",
       "    .dataframe thead th {\n",
       "        text-align: right;\n",
       "    }\n",
       "</style>\n",
       "<table border=\"1\" class=\"dataframe\">\n",
       "  <thead>\n",
       "    <tr style=\"text-align: right;\">\n",
       "      <th></th>\n",
       "      <th>key</th>\n",
       "      <th>bulk_1</th>\n",
       "      <th>bulk_2</th>\n",
       "      <th>bulk_3</th>\n",
       "      <th>bulk_4</th>\n",
       "      <th>bulk_5</th>\n",
       "      <th>bulk_6</th>\n",
       "      <th>bulk_7</th>\n",
       "      <th>bulk_8</th>\n",
       "      <th>bulk_9</th>\n",
       "      <th>bulk_10</th>\n",
       "      <th>bulk_11</th>\n",
       "      <th>bulk_12</th>\n",
       "      <th>bulk_13</th>\n",
       "      <th>bulk_14</th>\n",
       "      <th>bulk_15</th>\n",
       "    </tr>\n",
       "  </thead>\n",
       "  <tbody>\n",
       "    <tr>\n",
       "      <th>0</th>\n",
       "      <td>1</td>\n",
       "      <td>0</td>\n",
       "      <td>0</td>\n",
       "      <td>0</td>\n",
       "      <td>43</td>\n",
       "      <td>0</td>\n",
       "      <td>0</td>\n",
       "      <td>0</td>\n",
       "      <td>0</td>\n",
       "      <td>0</td>\n",
       "      <td>0</td>\n",
       "      <td>0</td>\n",
       "      <td>206</td>\n",
       "      <td>0</td>\n",
       "      <td>150</td>\n",
       "      <td>154</td>\n",
       "    </tr>\n",
       "    <tr>\n",
       "      <th>1</th>\n",
       "      <td>2</td>\n",
       "      <td>0</td>\n",
       "      <td>0</td>\n",
       "      <td>0</td>\n",
       "      <td>73</td>\n",
       "      <td>0</td>\n",
       "      <td>0</td>\n",
       "      <td>0</td>\n",
       "      <td>0</td>\n",
       "      <td>0</td>\n",
       "      <td>0</td>\n",
       "      <td>0</td>\n",
       "      <td>206</td>\n",
       "      <td>0</td>\n",
       "      <td>149</td>\n",
       "      <td>154</td>\n",
       "    </tr>\n",
       "  </tbody>\n",
       "</table>\n",
       "</div>"
      ],
      "text/plain": [
       "   key  bulk_1  bulk_2  bulk_3  bulk_4  bulk_5  bulk_6  bulk_7  bulk_8  \\\n",
       "0    1       0       0       0      43       0       0       0       0   \n",
       "1    2       0       0       0      73       0       0       0       0   \n",
       "\n",
       "   bulk_9  bulk_10  bulk_11  bulk_12  bulk_13  bulk_14  bulk_15  \n",
       "0       0        0        0      206        0      150      154  \n",
       "1       0        0        0      206        0      149      154  "
      ]
     },
     "execution_count": 31,
     "metadata": {},
     "output_type": "execute_result"
    }
   ],
   "source": [
    "# out\n",
    "head_print('Первые 2 строки датафрейма `bulk`:', 0)\n",
    "bulk.head(2)"
   ]
  },
  {
   "cell_type": "markdown",
   "id": "c338bcbf",
   "metadata": {},
   "source": [
    "Выясним, для каждой ли партии металла у нас есть данные по внесенным добавкам. Проверим, сколько и каких именно номеров партий нет в списке уникальных значений `key` датафрейма `bulk`:"
   ]
  },
  {
   "cell_type": "code",
   "execution_count": 32,
   "id": "2ed8ec1f",
   "metadata": {},
   "outputs": [
    {
     "name": "stdout",
     "output_type": "stream",
     "text": [
      "\u001b[0m\u001b[1;35mВ датафрейме `bulk` отсутствует 112 номеров партий металла, а именно:\n",
      "\u001b[0m41, 42, 51, 52, 53, 54, 55, 56, 72, 80, 81, 110, 151, 188, 195, 225, 269, 302, 330, 331, 332, 343, 350, 355, 382, 506, 529, 540, 607, 661, 683, 710, 766, 830, 874, 931, 933, 934, 960, 961, 964, 966, 983, 984, 1062, 1105, 1133, 1221, 1268, 1300, 1334, 1402, 1437, 1517, 1518, 1535, 1566, 1623, 1656, 1783, 1818, 1911, 1959, 1974, 1979, 2009, 2010, 2031, 2043, 2056, 2103, 2195, 2196, 2197, 2198, 2216, 2217, 2231, 2278, 2310, 2356, 2373, 2390, 2408, 2434, 2446, 2460, 2468, 2469, 2471, 2491, 2595, 2599, 2600, 2608, 2625, 2628, 2683, 2738, 2739, 2816, 2821, 2863, 2884, 2891, 3018, 3026, 3047, 3182, 3200, 3207, 3216\n"
     ]
    }
   ],
   "source": [
    "# список номеров партий, для которых нет данных по сыпучим добавкам\n",
    "no_key_lst = [i for i in range(1, 3242) if i not in bulk['key'].unique()]\n",
    "\n",
    "# out\n",
    "head_print(f\"В датафрейме `bulk` отсутствует {len(no_key_lst)} номеров партий металла, а именно:\", 0)\n",
    "print(', '.join(map(str, no_key_lst)))"
   ]
  },
  {
   "cell_type": "markdown",
   "id": "88583fe0",
   "metadata": {},
   "source": [
    "**Предварительные выводы:**\n",
    "\n",
    "- Для модели имеет значение скорее количество добавленных сыпучих материалов. А время их добавления можно исключить из признаков\n",
    "- Вероятно, из 15 добавок наименьшую роль в модели будут играть те материалы, по которым меньше всего данных (как минимум, bulk_8)"
   ]
  },
  {
   "cell_type": "markdown",
   "id": "417e2d7b",
   "metadata": {},
   "source": [
    "<br><br>\n",
    "\n",
    "## 1.5. Датафрейм `gas` (предобработка, EDA)"
   ]
  },
  {
   "cell_type": "markdown",
   "id": "bae47b0b",
   "metadata": {},
   "source": [
    "Приведём названия столбцов датафрейма `gas` к нотации snake_case и выведем результат (первые 2 строки):"
   ]
  },
  {
   "cell_type": "code",
   "execution_count": 33,
   "id": "adf73717",
   "metadata": {},
   "outputs": [
    {
     "name": "stdout",
     "output_type": "stream",
     "text": [
      "\u001b[0m\u001b[1;35mПервые 2 строки датафрейма `gas`:\n",
      "\u001b[0m"
     ]
    },
    {
     "data": {
      "text/html": [
       "<div>\n",
       "<style scoped>\n",
       "    .dataframe tbody tr th:only-of-type {\n",
       "        vertical-align: middle;\n",
       "    }\n",
       "\n",
       "    .dataframe tbody tr th {\n",
       "        vertical-align: top;\n",
       "    }\n",
       "\n",
       "    .dataframe thead th {\n",
       "        text-align: right;\n",
       "    }\n",
       "</style>\n",
       "<table border=\"1\" class=\"dataframe\">\n",
       "  <thead>\n",
       "    <tr style=\"text-align: right;\">\n",
       "      <th></th>\n",
       "      <th>key</th>\n",
       "      <th>gas</th>\n",
       "    </tr>\n",
       "  </thead>\n",
       "  <tbody>\n",
       "    <tr>\n",
       "      <th>0</th>\n",
       "      <td>1</td>\n",
       "      <td>29.749986</td>\n",
       "    </tr>\n",
       "    <tr>\n",
       "      <th>1</th>\n",
       "      <td>2</td>\n",
       "      <td>12.555561</td>\n",
       "    </tr>\n",
       "  </tbody>\n",
       "</table>\n",
       "</div>"
      ],
      "text/plain": [
       "   key        gas\n",
       "0    1  29.749986\n",
       "1    2  12.555561"
      ]
     },
     "execution_count": 33,
     "metadata": {},
     "output_type": "execute_result"
    }
   ],
   "source": [
    "# изменим названия столбцов\n",
    "gas.columns = ['key', 'gas']\n",
    "\n",
    "# out\n",
    "head_print('Первые 2 строки датафрейма `gas`:', 0)\n",
    "gas.head(2)"
   ]
  },
  {
   "cell_type": "markdown",
   "id": "70cb156b",
   "metadata": {},
   "source": [
    "Визуализируем распределение объёма инертного газа для продувки сплава:"
   ]
  },
  {
   "cell_type": "code",
   "execution_count": 34,
   "id": "9df9de5d",
   "metadata": {},
   "outputs": [
    {
     "data": {
      "image/png": "[encoded data removed]",
      "text/plain": [
       "<Figure size 800x400 with 1 Axes>"
      ]
     },
     "metadata": {},
     "output_type": "display_data"
    }
   ],
   "source": [
    "# viz\n",
    "plt.figure(figsize=(8, 4))\n",
    "plt.subplot(1, 1, 1)\n",
    "sns.histplot(gas['gas'], bins=60, stat='density', kde=True, alpha=0.5)\n",
    "plt.title('Распределение количества инертного газа')\n",
    "plt.xlabel('Объём газа')\n",
    "plt.ylabel('Плотность распределения')\n",
    "plt.show()"
   ]
  },
  {
   "cell_type": "markdown",
   "id": "12e96bf6",
   "metadata": {},
   "source": [
    "Распределение объёмов инертного газа имеет форму нормального распределения, обрезанного в нулевой точке (отрицательного количества газа быть не может). Если посмотреть на основные статистики для этого параметра, видим, что среднее (11) чуть больше медианы (9.8). Половина всех значений сосредоточена в интервале 7-14, однако, встречаются и значения превышающие несколько десятков (достигают до 78) – они-то немного и скашивают распределение вправо"
   ]
  },
  {
   "cell_type": "markdown",
   "id": "bab45353",
   "metadata": {},
   "source": [
    "Выясним, для каждой ли партии металла у нас есть данные по продувке инертным газом. Проверим, сколько и каких именно номеров партий нет в списке уникальных значений `key` датафрейма `gas`:"
   ]
  },
  {
   "cell_type": "code",
   "execution_count": 35,
   "id": "474e5476",
   "metadata": {},
   "outputs": [
    {
     "name": "stdout",
     "output_type": "stream",
     "text": [
      "\u001b[0m\u001b[1;35mВ датафрейме `gas` отсутствует 2 номера партий металла, а именно:\n",
      "\u001b[0m193, 259\n"
     ]
    }
   ],
   "source": [
    "# список номеров партий, для которых нет данных по продувке газом\n",
    "no_key_lst = [i for i in range(1, 3242) if i not in gas['key'].unique()]\n",
    "\n",
    "# out\n",
    "head_print(f\"В датафрейме `gas` отсутствует {len(no_key_lst)} номера партий металла, а именно:\", 0)\n",
    "print(', '.join(map(str, no_key_lst)))"
   ]
  },
  {
   "cell_type": "markdown",
   "id": "f992b26a",
   "metadata": {},
   "source": [
    "**Предварительные выводы:**\n",
    "\n",
    "- Данные в порядке, можем использовать в качестве признаков для модели машинного обучения"
   ]
  },
  {
   "cell_type": "markdown",
   "id": "5ab8c48d",
   "metadata": {},
   "source": [
    "<br><br>\n",
    "\n",
    "## 1.6. Датафрейм `temp` (предобработка, EDA)"
   ]
  },
  {
   "cell_type": "markdown",
   "id": "6ae72122",
   "metadata": {},
   "source": [
    "Приведём названия столбцов датафрейма `temp` к нотации snake_case, преобразуем тип столбца, содержащего дату и время к типу datetime и выведем результат (первые 2 строки):"
   ]
  },
  {
   "cell_type": "code",
   "execution_count": 36,
   "id": "d6482d86",
   "metadata": {},
   "outputs": [
    {
     "name": "stdout",
     "output_type": "stream",
     "text": [
      "\u001b[0m\u001b[1;35mПервые 2 строки датафрейма `temp`:\n",
      "\u001b[0m"
     ]
    },
    {
     "data": {
      "text/html": [
       "<div>\n",
       "<style scoped>\n",
       "    .dataframe tbody tr th:only-of-type {\n",
       "        vertical-align: middle;\n",
       "    }\n",
       "\n",
       "    .dataframe tbody tr th {\n",
       "        vertical-align: top;\n",
       "    }\n",
       "\n",
       "    .dataframe thead th {\n",
       "        text-align: right;\n",
       "    }\n",
       "</style>\n",
       "<table border=\"1\" class=\"dataframe\">\n",
       "  <thead>\n",
       "    <tr style=\"text-align: right;\">\n",
       "      <th></th>\n",
       "      <th>key</th>\n",
       "      <th>time_temp</th>\n",
       "      <th>temp</th>\n",
       "    </tr>\n",
       "  </thead>\n",
       "  <tbody>\n",
       "    <tr>\n",
       "      <th>0</th>\n",
       "      <td>1</td>\n",
       "      <td>2019-05-03 11:16:18</td>\n",
       "      <td>1571.0</td>\n",
       "    </tr>\n",
       "    <tr>\n",
       "      <th>1</th>\n",
       "      <td>1</td>\n",
       "      <td>2019-05-03 11:25:53</td>\n",
       "      <td>1604.0</td>\n",
       "    </tr>\n",
       "  </tbody>\n",
       "</table>\n",
       "</div>"
      ],
      "text/plain": [
       "   key           time_temp    temp\n",
       "0    1 2019-05-03 11:16:18  1571.0\n",
       "1    1 2019-05-03 11:25:53  1604.0"
      ]
     },
     "execution_count": 36,
     "metadata": {},
     "output_type": "execute_result"
    }
   ],
   "source": [
    "# изменим названия столбцов\n",
    "temp.columns = ['key', 'time_temp', 'temp']\n",
    "\n",
    "# приведение типа столбцов даты-времени к datetime64\n",
    "temp['time_temp'] = pd.to_datetime(temp['time_temp'])\n",
    "\n",
    "# out\n",
    "head_print('Первые 2 строки датафрейма `temp`:', 0)\n",
    "temp.head(2)"
   ]
  },
  {
   "cell_type": "markdown",
   "id": "0e2fbca6",
   "metadata": {},
   "source": [
    "Выведем гистограмму распределения количества итераций измерения температуры в партиях металла:"
   ]
  },
  {
   "cell_type": "code",
   "execution_count": 37,
   "id": "86bda08a",
   "metadata": {},
   "outputs": [
    {
     "data": {
      "image/png": "[encoded data removed]",
      "text/plain": [
       "<Figure size 800x400 with 1 Axes>"
      ]
     },
     "metadata": {},
     "output_type": "display_data"
    }
   ],
   "source": [
    "# viz\n",
    "plt.figure(figsize=(8, 4))\n",
    "plt.subplot(1, 1, 1)\n",
    "sns.histplot(temp['key'].value_counts(), bins=15)\n",
    "plt.title('Гистограмма распределения количества итераций измерения температуры в партиях металла')\n",
    "plt.xlabel('Количество итераций измерения температуры')\n",
    "plt.ylabel('Количество партий металла')\n",
    "plt.show()"
   ]
  },
  {
   "cell_type": "markdown",
   "id": "7b527884",
   "metadata": {},
   "source": [
    "Видим, что преобладают партии металла с 3-6 итерациями измерения температуры. Больше всего партий с 4 итерациями. Что, в принципе, перекликается с итерациями нагрева в датафрейме `arc`\n",
    "\n",
    "Выведем также распределение температуры:"
   ]
  },
  {
   "cell_type": "code",
   "execution_count": 38,
   "id": "360fd2cb",
   "metadata": {},
   "outputs": [
    {
     "data": {
      "image/png": "[encoded data removed]",
      "text/plain": [
       "<Figure size 800x400 with 1 Axes>"
      ]
     },
     "metadata": {},
     "output_type": "display_data"
    }
   ],
   "source": [
    "# viz\n",
    "plt.figure(figsize=(8, 4))\n",
    "plt.subplot(1, 1, 1)\n",
    "sns.histplot(temp['temp'], bins=60, stat='density', kde=True, alpha=0.5)\n",
    "plt.title('Распределение температуры сплава')\n",
    "plt.xlabel('Температура сплава')\n",
    "plt.ylabel('Плотность распределения')\n",
    "plt.show()"
   ]
  },
  {
   "cell_type": "markdown",
   "id": "546e6702",
   "metadata": {},
   "source": [
    "Распределение температуры сплава имеет форму нормального распределения со средним значением 1591 градус. Среднее значение совпадает с медианным значением, что говорит о симметричности (нескошенности) распределения. Стандартное отклонение всего в 21 градус указывает на то, что большая часть значений (~68%) лежит в пределах узкого диапазона от 1570-1612 градусов"
   ]
  },
  {
   "cell_type": "markdown",
   "id": "eab09b6a",
   "metadata": {},
   "source": [
    "Выведем количество пропущенных значений температуры:"
   ]
  },
  {
   "cell_type": "code",
   "execution_count": 39,
   "id": "24cfd144",
   "metadata": {},
   "outputs": [
    {
     "name": "stdout",
     "output_type": "stream",
     "text": [
      "\u001b[0m\u001b[1;35mКоличество пропущенных значений температуры в датафрейме `temp`: 2901\n",
      "\u001b[0m"
     ]
    }
   ],
   "source": [
    "# out\n",
    "head_print(f\"Количество пропущенных значений температуры в датафрейме `temp`: {temp['temp'].isna().sum()}\", 0)"
   ]
  },
  {
   "cell_type": "markdown",
   "id": "882de59f",
   "metadata": {},
   "source": [
    "Выясним, в каких партиях металла встречаются пропуски и сколько таких партий:"
   ]
  },
  {
   "cell_type": "code",
   "execution_count": 40,
   "id": "1e56e583",
   "metadata": {},
   "outputs": [
    {
     "name": "stdout",
     "output_type": "stream",
     "text": [
      "\u001b[0m\u001b[1;35m739 партий металла в датафрейме `temp` содержат пропущенные значения температуры, а именно:\n",
      "\u001b[0m2500, 2501, 2502, 2503, 2504, .........., 3237, 3238, 3239, 3240, 3241\n"
     ]
    }
   ],
   "source": [
    "keys_nan_temp = temp.loc[temp['temp'].isna(), 'key'].unique()\n",
    "\n",
    "# out\n",
    "head_print(f\"{len(keys_nan_temp)} партий металла в датафрейме `temp` содержат пропущенные значения температуры, а именно:\", 0)\n",
    "print(', '.join(list(map(str, keys_nan_temp[:5])) + ['..........'] + list(map(str, keys_nan_temp[-5:]))))"
   ]
  },
  {
   "cell_type": "markdown",
   "id": "00aefe52",
   "metadata": {},
   "source": [
    "Учитывая количество 2901 пропусков, получаем, в среднем 4 пропущенных значения температуры на каждую из 739 партий. Разберёмся, в чём дело, выведем первые 10 итераций в этих партиях, начиная с 2500-й:"
   ]
  },
  {
   "cell_type": "code",
   "execution_count": 41,
   "id": "82d8ebd6",
   "metadata": {},
   "outputs": [
    {
     "name": "stdout",
     "output_type": "stream",
     "text": [
      "\u001b[0m\u001b[1;35mПервые 10 итераций измерения температуры, начиная с 2500-й партии металла:\n",
      "\u001b[0m"
     ]
    },
    {
     "data": {
      "text/html": [
       "<div>\n",
       "<style scoped>\n",
       "    .dataframe tbody tr th:only-of-type {\n",
       "        vertical-align: middle;\n",
       "    }\n",
       "\n",
       "    .dataframe tbody tr th {\n",
       "        vertical-align: top;\n",
       "    }\n",
       "\n",
       "    .dataframe thead th {\n",
       "        text-align: right;\n",
       "    }\n",
       "</style>\n",
       "<table border=\"1\" class=\"dataframe\">\n",
       "  <thead>\n",
       "    <tr style=\"text-align: right;\">\n",
       "      <th></th>\n",
       "      <th>key</th>\n",
       "      <th>time_temp</th>\n",
       "      <th>temp</th>\n",
       "    </tr>\n",
       "  </thead>\n",
       "  <tbody>\n",
       "    <tr>\n",
       "      <th>12267</th>\n",
       "      <td>2500</td>\n",
       "      <td>2019-08-06 03:11:31</td>\n",
       "      <td>1539.0</td>\n",
       "    </tr>\n",
       "    <tr>\n",
       "      <th>12268</th>\n",
       "      <td>2500</td>\n",
       "      <td>2019-08-06 03:24:43</td>\n",
       "      <td>NaN</td>\n",
       "    </tr>\n",
       "    <tr>\n",
       "      <th>12269</th>\n",
       "      <td>2500</td>\n",
       "      <td>2019-08-06 03:25:16</td>\n",
       "      <td>NaN</td>\n",
       "    </tr>\n",
       "    <tr>\n",
       "      <th>12270</th>\n",
       "      <td>2500</td>\n",
       "      <td>2019-08-06 03:28:21</td>\n",
       "      <td>NaN</td>\n",
       "    </tr>\n",
       "    <tr>\n",
       "      <th>12271</th>\n",
       "      <td>2501</td>\n",
       "      <td>2019-08-06 03:44:42</td>\n",
       "      <td>1587.0</td>\n",
       "    </tr>\n",
       "    <tr>\n",
       "      <th>12272</th>\n",
       "      <td>2501</td>\n",
       "      <td>2019-08-06 04:01:59</td>\n",
       "      <td>NaN</td>\n",
       "    </tr>\n",
       "    <tr>\n",
       "      <th>12273</th>\n",
       "      <td>2501</td>\n",
       "      <td>2019-08-06 04:14:35</td>\n",
       "      <td>NaN</td>\n",
       "    </tr>\n",
       "    <tr>\n",
       "      <th>12274</th>\n",
       "      <td>2501</td>\n",
       "      <td>2019-08-06 04:22:14</td>\n",
       "      <td>NaN</td>\n",
       "    </tr>\n",
       "    <tr>\n",
       "      <th>12275</th>\n",
       "      <td>2501</td>\n",
       "      <td>2019-08-06 04:31:14</td>\n",
       "      <td>NaN</td>\n",
       "    </tr>\n",
       "    <tr>\n",
       "      <th>12276</th>\n",
       "      <td>2502</td>\n",
       "      <td>2019-08-06 04:45:26</td>\n",
       "      <td>1583.0</td>\n",
       "    </tr>\n",
       "  </tbody>\n",
       "</table>\n",
       "</div>"
      ],
      "text/plain": [
       "        key           time_temp    temp\n",
       "12267  2500 2019-08-06 03:11:31  1539.0\n",
       "12268  2500 2019-08-06 03:24:43     NaN\n",
       "12269  2500 2019-08-06 03:25:16     NaN\n",
       "12270  2500 2019-08-06 03:28:21     NaN\n",
       "12271  2501 2019-08-06 03:44:42  1587.0\n",
       "12272  2501 2019-08-06 04:01:59     NaN\n",
       "12273  2501 2019-08-06 04:14:35     NaN\n",
       "12274  2501 2019-08-06 04:22:14     NaN\n",
       "12275  2501 2019-08-06 04:31:14     NaN\n",
       "12276  2502 2019-08-06 04:45:26  1583.0"
      ]
     },
     "execution_count": 41,
     "metadata": {},
     "output_type": "execute_result"
    }
   ],
   "source": [
    "# out\n",
    "head_print('Первые 10 итераций измерения температуры, начиная с 2500-й партии металла:', 0)\n",
    "temp[temp['key'].isin(keys_nan_temp)].head(10)"
   ]
  },
  {
   "cell_type": "markdown",
   "id": "a5fa2df0",
   "metadata": {},
   "source": [
    "Очевидно, мы столкнулись с результатом какого-то сбоя в записи значений температуры. Насколько можно судить по первым нескольким исследованным партиям из этого списка, в каждой из них записана только начальная температура металла. Возможно на 2500-й партии вышел из строя датчик, или возникла ошибка при переносе данных. Так или иначе, пропущенные значения нам восстановить никак не удастся – ведь их наоборот нужно предсказать и с хорошей точностью. Придётся их удалить\n",
    "\n",
    "Очевидно, после удаления пропусков большая часть партий металла останется только с начальной температурой сплава. И эти партии также отсеятся уже на этапе подготовки выборки для обучения моделей. Ведь, как сообщил заказчик, у каждой партии металла должны быть как минимум начальная и конечная температура (таргет)"
   ]
  },
  {
   "cell_type": "code",
   "execution_count": 42,
   "id": "15a35451",
   "metadata": {},
   "outputs": [],
   "source": [
    "# удалим пропуски температуры в датафрейме `temp`\n",
    "temp = temp.dropna(subset=['temp'])\n",
    "\n",
    "# приведём значения температуры к целочисленному типу данных\n",
    "temp['temp'] = temp['temp'].astype('int64')"
   ]
  },
  {
   "cell_type": "markdown",
   "id": "2cd4cb92",
   "metadata": {},
   "source": [
    "Традиционно, выясним, для каждой ли партии металла у нас есть данные по замерам температуры (хотя бы одному). Проверим, сколько и каких именно номеров партий нет в списке уникальных значений `key` датафрейма `temp`:"
   ]
  },
  {
   "cell_type": "code",
   "execution_count": 43,
   "id": "12a5b12e",
   "metadata": {},
   "outputs": [
    {
     "name": "stdout",
     "output_type": "stream",
     "text": [
      "\u001b[0m\u001b[1;35mВ датафрейме `temp` отсутствует 25 номеров партий металла, а именно:\n",
      "\u001b[0m41, 42, 355, 382, 506, 529, 540, 607, 683, 710, 766, 1133, 1300, 1437, 2031, 2103, 2278, 2356, 2373, 2446, 2469, 2491, 2683, 3200, 3207\n"
     ]
    }
   ],
   "source": [
    "# список номеров партий, для которых нет данных по замерам температуры\n",
    "no_key_lst = [i for i in range(1, 3242) if i not in temp['key'].unique()]\n",
    "\n",
    "# out\n",
    "head_print(f\"В датафрейме `temp` отсутствует {len(no_key_lst)} номеров партий металла, а именно:\", 0)\n",
    "print(', '.join(map(str, no_key_lst)))"
   ]
  },
  {
   "cell_type": "markdown",
   "id": "cd07e5e6",
   "metadata": {},
   "source": [
    "**Предварительные выводы:**\n",
    "\n",
    "- В рамках подготовки выборки для обучения моделей необходимо будет выделить в каждой партии только начальную температуру и конечную температуру металла (целевой признак). Иными словами, сгруппировать датафрейм `temp` по номеру партии с агрегирующими функциями первого и последнего значения (first и last)\n",
    "- В выборку, соответственно, должны войти только те партии металла, в которых есть не менее двух измерений температуры"
   ]
  },
  {
   "cell_type": "markdown",
   "id": "82cd5cbe",
   "metadata": {},
   "source": [
    "<br><br>\n",
    "\n",
    "## 1.7. Датафреймы `wire` и `wire_time` (предобработка, EDA)"
   ]
  },
  {
   "cell_type": "markdown",
   "id": "af1fd5da",
   "metadata": {},
   "source": [
    "Для начала убедимся, что датафреймы `wire` и `wire_time` совпадают по пропущенным значениям (и, соответственно, по количеству строк и столбцов):"
   ]
  },
  {
   "cell_type": "code",
   "execution_count": 44,
   "id": "6334c87b",
   "metadata": {},
   "outputs": [
    {
     "name": "stdout",
     "output_type": "stream",
     "text": [
      "\u001b[0m\u001b[1;35mПропущенные значения в датафреймах `wire` и `wire_time` полностью совпадают\n",
      "\u001b[0m"
     ]
    }
   ],
   "source": [
    "# out\n",
    "head_print('Пропущенные значения в датафреймах `wire` и `wire_time` ' \n",
    "           + f\"{'полностью' if (wire.isna() == wire_time.isna()).all().all() else 'НЕ'} совпадают\", 0)"
   ]
  },
  {
   "cell_type": "markdown",
   "id": "30409e24",
   "metadata": {},
   "source": [
    "Для проволочных материалов (по аналогии с сыпучими материалами добавок) также считаем, что для модели ML не важно, в какое время они были внесены в сплав, но важно их количество. Таким образом нас в первую очередь интересует предобработка датафрейма `wire` с объёмами добавленных материалов. Сопутствующий датафрейм `wire_time` не рассматриваем\n",
    "\n",
    "Приведём названия столбцов датафрейма `wire` к нотации snake_case:"
   ]
  },
  {
   "cell_type": "code",
   "execution_count": 45,
   "id": "968a4508",
   "metadata": {},
   "outputs": [],
   "source": [
    "# количество столбцов wire\n",
    "wire_count = 9\n",
    "\n",
    "# изменим названия столбцов\n",
    "wire_columns = ['key'] + ['wire_' + str(i+1) for i in range(wire_count)]\n",
    "wire.columns = wire_columns"
   ]
  },
  {
   "cell_type": "markdown",
   "id": "51e024bb",
   "metadata": {},
   "source": [
    "Отобразим диаграммы размаха для количества (объёма) каждой из 9 добавок:"
   ]
  },
  {
   "cell_type": "code",
   "execution_count": 46,
   "id": "9f2bd301",
   "metadata": {},
   "outputs": [
    {
     "data": {
      "image/png": "[encoded data removed]",
      "text/plain": [
       "<Figure size 1000x500 with 1 Axes>"
      ]
     },
     "metadata": {},
     "output_type": "display_data"
    }
   ],
   "source": [
    "# viz\n",
    "plt.figure(figsize=(10, 5))\n",
    "sns.boxplot(data=wire.iloc[:, 1:])\n",
    "plt.title('Диаграммы размаха объёма для каждой добавки')\n",
    "plt.xlabel('Добавка проволочного материала')\n",
    "plt.ylabel('Объём добавки')\n",
    "plt.ylim(-30, 430)\n",
    "plt.xticks(rotation=45, ha='right')\n",
    "plt.grid()"
   ]
  },
  {
   "cell_type": "markdown",
   "id": "294fca67",
   "metadata": {},
   "source": [
    "Видим, что в основном добавки подмешиваются в небольших диапазонах значений объёма, преимущественно от 0 до 100. Некоторые варьируются уже в диапазоне значений 0-200 (wire_1), некоторые – от 100 до 300, с достаточно широким распределением (wire_3). А некоторые (например, wire_5) вообще имеют всего один случай применения – для модели ML такой признак будет бесполезен\n",
    "\n",
    "Теперь займёмся пропущенными значениями. Очевидно, пропуски в данных обусловлены спецификой технологического процесса: разные материалы примешиваются к сплаву в разное время. Заменим пропуски в датафрейме `wire` нулевыми значениями:"
   ]
  },
  {
   "cell_type": "code",
   "execution_count": 47,
   "id": "39e5a0c2",
   "metadata": {},
   "outputs": [],
   "source": [
    "wire = wire.fillna(0)"
   ]
  },
  {
   "cell_type": "markdown",
   "id": "15341042",
   "metadata": {},
   "source": [
    "Выведем результат (первые 2 строки):"
   ]
  },
  {
   "cell_type": "code",
   "execution_count": 48,
   "id": "3a135142",
   "metadata": {},
   "outputs": [
    {
     "name": "stdout",
     "output_type": "stream",
     "text": [
      "\u001b[0m\u001b[1;35mПервые 2 строки датафрейма `wire`:\n",
      "\u001b[0m"
     ]
    },
    {
     "data": {
      "text/html": [
       "<div>\n",
       "<style scoped>\n",
       "    .dataframe tbody tr th:only-of-type {\n",
       "        vertical-align: middle;\n",
       "    }\n",
       "\n",
       "    .dataframe tbody tr th {\n",
       "        vertical-align: top;\n",
       "    }\n",
       "\n",
       "    .dataframe thead th {\n",
       "        text-align: right;\n",
       "    }\n",
       "</style>\n",
       "<table border=\"1\" class=\"dataframe\">\n",
       "  <thead>\n",
       "    <tr style=\"text-align: right;\">\n",
       "      <th></th>\n",
       "      <th>key</th>\n",
       "      <th>wire_1</th>\n",
       "      <th>wire_2</th>\n",
       "      <th>wire_3</th>\n",
       "      <th>wire_4</th>\n",
       "      <th>wire_5</th>\n",
       "      <th>wire_6</th>\n",
       "      <th>wire_7</th>\n",
       "      <th>wire_8</th>\n",
       "      <th>wire_9</th>\n",
       "    </tr>\n",
       "  </thead>\n",
       "  <tbody>\n",
       "    <tr>\n",
       "      <th>0</th>\n",
       "      <td>1</td>\n",
       "      <td>60.059998</td>\n",
       "      <td>0.0</td>\n",
       "      <td>0.0</td>\n",
       "      <td>0.0</td>\n",
       "      <td>0.0</td>\n",
       "      <td>0.0</td>\n",
       "      <td>0.0</td>\n",
       "      <td>0.0</td>\n",
       "      <td>0.0</td>\n",
       "    </tr>\n",
       "    <tr>\n",
       "      <th>1</th>\n",
       "      <td>2</td>\n",
       "      <td>96.052315</td>\n",
       "      <td>0.0</td>\n",
       "      <td>0.0</td>\n",
       "      <td>0.0</td>\n",
       "      <td>0.0</td>\n",
       "      <td>0.0</td>\n",
       "      <td>0.0</td>\n",
       "      <td>0.0</td>\n",
       "      <td>0.0</td>\n",
       "    </tr>\n",
       "  </tbody>\n",
       "</table>\n",
       "</div>"
      ],
      "text/plain": [
       "   key     wire_1  wire_2  wire_3  wire_4  wire_5  wire_6  wire_7  wire_8  \\\n",
       "0    1  60.059998     0.0     0.0     0.0     0.0     0.0     0.0     0.0   \n",
       "1    2  96.052315     0.0     0.0     0.0     0.0     0.0     0.0     0.0   \n",
       "\n",
       "   wire_9  \n",
       "0     0.0  \n",
       "1     0.0  "
      ]
     },
     "execution_count": 48,
     "metadata": {},
     "output_type": "execute_result"
    }
   ],
   "source": [
    "# out\n",
    "head_print('Первые 2 строки датафрейма `wire`:', 0)\n",
    "wire.head(2)"
   ]
  },
  {
   "cell_type": "markdown",
   "id": "8fcbab39",
   "metadata": {},
   "source": [
    "Выясним, для каждой ли партии металла у нас есть данные по внесенным добавкам. Проверим, сколько и каких именно номеров партий нет в списке уникальных значений `key` датафрейма `wire`:"
   ]
  },
  {
   "cell_type": "code",
   "execution_count": 49,
   "id": "833af205",
   "metadata": {},
   "outputs": [
    {
     "name": "stdout",
     "output_type": "stream",
     "text": [
      "\u001b[0m\u001b[1;35mВ датафрейме `wire` отсутствует 160 номеров партий металла, а именно:\n",
      "\u001b[0m41, 42, 51, 52, 53, 54, 55, 56, 81, 82, 83, 84, 85, 88, 109, 195, 197, 209, 210, 211, 212, 269, 330, 331, 332, 355, 375, 376, 377, 378, 382, 506, 529, 540, 607, 683, 710, 711, 712, 713, 714, 715, 744, 748, 754, 755, 766, 796, 797, 798, 799, 800, 841, 929, 930, 931, 932, 933, 934, 1102, 1103, 1104, 1105, 1106, 1107, 1133, 1184, 1300, 1379, 1380, 1437, 1525, 1526, 1527, 1528, 1564, 1565, 1566, 1646, 1743, 1744, 1745, 1746, 1747, 1748, 1758, 1817, 1818, 1836, 1946, 1977, 1978, 1979, 2010, 2031, 2043, 2103, 2195, 2196, 2197, 2198, 2214, 2215, 2216, 2217, 2218, 2219, 2236, 2238, 2278, 2356, 2360, 2367, 2368, 2369, 2370, 2373, 2388, 2389, 2390, 2391, 2392, 2393, 2446, 2469, 2491, 2624, 2625, 2626, 2627, 2628, 2629, 2683, 2788, 2789, 2790, 2791, 2792, 2814, 2815, 2846, 2847, 2848, 2849, 2850, 2863, 2871, 2872, 2873, 2874, 2875, 2876, 3035, 3036, 3037, 3038, 3039, 3040, 3200, 3207\n"
     ]
    }
   ],
   "source": [
    "# список номеров партий, для которых нет данных по проволочным добавкам\n",
    "no_key_lst = [i for i in range(1, 3242) if i not in wire['key'].unique()]\n",
    "\n",
    "# out\n",
    "head_print(f\"В датафрейме `wire` отсутствует {len(no_key_lst)} номеров партий металла, а именно:\", 0)\n",
    "print(', '.join(map(str, no_key_lst)))"
   ]
  },
  {
   "cell_type": "markdown",
   "id": "3d2da229",
   "metadata": {},
   "source": [
    "**Предварительные выводы:**\n",
    "\n",
    "- Для модели имеет значение скорее количество добавленных проволочных материалов. А время их добавления можно исключить из признаков\n",
    "- Вероятно, из 9 добавок наименьшую роль в модели будут играть те материалы, по которым меньше всего данных (как минимум, wire_5)"
   ]
  },
  {
   "cell_type": "markdown",
   "id": "28e4dc3c",
   "metadata": {},
   "source": [
    "<br><br>\n",
    "\n",
    "## 1.8. Вопросы заказчику"
   ]
  },
  {
   "cell_type": "markdown",
   "id": "e636eabd",
   "metadata": {},
   "source": [
    "На встрече с представителем заказчика была прояснена ситуация по следующим вопросам:\n",
    "\n",
    "- Необходима фиксация сидов для воспроизводимости результатов. Использовать константу RANDOM_STATE = 270323\n",
    "- Наш целевой признак – конечная температура металла из всех доступных замеров для партии\n",
    "- Метрика для оценки качества модели – MAE\n",
    "- Критерий качества модели – MAE не более 6.8\n",
    "- Оценку качества проводить на кросс-валидации. Тестовая выборка – только для тестирования итоговой модели\n",
    "- Использовать разделение данных на обучающую и тестовую выборки в соотношении 3:1\n",
    "- Обязательно использовать начальную температуру металла, как один из признаков. Таким образом нас интересуют только партии, где имеется не менее двух результатов замера температуры\n",
    "- Промежуточные измерения температуры в качестве признаков не использовать\n",
    "- Временны́е данные для моделирования не использовать, в связи с рассинхронизацией протоколирования технологических процессов\n",
    "- Использовать в моделировании только те партии, по которым есть полный набор технологических операций (сыпучие и проволочные добавки, продувка газом, нагрев и минимум две измеренные температуры)\n",
    "- По результатам работы заказчик также хочет получить оценку значимости признаков\n",
    "\n",
    "На данный момент есть полная ясность по задаче, дополнительных обсуждений пока не требуется"
   ]
  },
  {
   "cell_type": "markdown",
   "id": "628526c1",
   "metadata": {},
   "source": [
    "<br><br>\n",
    "\n",
    "## 1.9. Подведение итогов изучения и предобработки данных"
   ]
  },
  {
   "cell_type": "markdown",
   "id": "e3da2321",
   "metadata": {},
   "source": [
    "Итак, в ходе загрузки и предобработки данных было выполнено следующее:\n",
    "\n",
    "- Во всех датафреймах исправлены названия столбцов\n",
    "- Типы данных приведены в соответствие\n",
    "- Дубликатов  не выявлено\n",
    "- Обнаружено и исправлено аномальное значение реактивной мощности в датафрейме `arc`\n",
    "- Пропущенные значения в датафреймах `bulk` и `wire` заменены на нулевые\n",
    "- Удалены пропуски в замерах температуры датафрейма `temp`\n",
    "\n",
    "<br>\n",
    "\n",
    "В ходе исследовательского анализа данных, а также в ходе уточнения у заказчика деталей задания и технологического процесса, были сделаны следующие выводы:\n",
    "\n",
    "- Абсолютные временны́е данные для моделирования использовать нельзя, однако хорошим признаком может стать относительный временной интервал нагрева металла дугой\n",
    "- Преобладают партии металла с 3-6 итерациями нагрева и измерения температуры. Больше всего партий с 4 итерациями\n",
    "- Очевидно, в итоговой выборке для обучения моделей необходимо избавиться от итераций в партиях, так как в основном они опираются на хронологию технологических операций, но, как мы выяснили, опираться на временны́е данные в нашем случае нельзя\n",
    "- Итерации в замерах температуры автоматически сокращаются до начального и конечного значений для каждой партии. Соответственно, в выборку войдут только партии металла с 2 и более замерами температуры в датафрейме `temp`\n",
    "- Что касается итераций по нагреву, лучшим решением пока видится группировка и агрегирование (суммирующей функцией) значений мощности и интервала времени нагрева в каждой партии. Таким образом мы учитываем в признаках итоговое воздействие на сплав (суммарной мощностью нагрева в течение совокупного интервала времени)\n",
    "- Поскольку была выявлена высокая корреляция активной и реактивной мощностей, необходимо выбрать или активную мощность, как непосредственное воздействие на металл, либо вычислить общую мощность. Оставим это до этапа сборки основной выборки для обучения моделей. Там же проведём обязательную итоговую проверку на мультиколлинеарность признаков\n",
    "- В ходе исследования данных было выявлено, что во всех датафреймах отсутствуют данные по некоторым партиям металла. Судя по спискам номеров, часть партий отсутствует практически во всех датафреймах\n",
    "- Так или иначе обязательным условием заказчика является использование только тех партий, для которых есть данные по всем без исключения технологическим процессам. Таким образом будем использовать inner-объединение датафреймов по ключу `key`\n",
    "\n",
    "<br>\n",
    "\n",
    "На основании проделанного исследования и полученных выводов актуализируем план работ:"
   ]
  },
  {
   "cell_type": "markdown",
   "id": "8cf84730",
   "metadata": {},
   "source": [
    "<br><br>\n",
    "\n",
    "## 1.10. План работ"
   ]
  },
  {
   "cell_type": "markdown",
   "id": "3285d1c1",
   "metadata": {},
   "source": [
    "1. Загрузить данные, провести их предобработку и исследовательский анализ\n",
    "    - Загрузить данные\n",
    "    - Провести первичное знакомство с данными, наметить план для предобработки\n",
    "    - Провести предобработку и исследовательский анализ данных\n",
    "    - Получить разъяснения от заказчика по поводу задания и технологического процесса\n",
    "    - Подвести итоги изучения данных и наметить пути решения задачи\n",
    "    - Актуализировать план работ\n",
    "<br>\n",
    "\n",
    "2. Разработать модель машинного обучения\n",
    "    - Подготовить и объединить данные для обучения моделей в единый датафрейм\n",
    "    - Провести краткий исследовательский анализ нового датафрейма, провести проверку на мультиколлинеарность, определиться с признаками\n",
    "    - Разделить данные на обучающую и тестовые выборки 3:1\n",
    "    - Построить, испытать и сравнить несколько моделей машинного обучения\n",
    "    - Провести анализ моделей, выбрать лучшую, соответствующую поставленной задаче\n",
    "    - Испытать лучшую модель на тестовой выборке, а также проверить её на адекватность в сравнении с константной моделью\n",
    "    - Получить оценку значимости признаков\n",
    "    - Подвести итоги разработки модели\n",
    "<br>\n",
    "\n",
    "3. Подготовить отчёт о проделанной работе\n",
    "    - Подготовить для заказчика подробное описание исследования\n",
    "    - Отразить основные выводы и решения, обозначить промежуточные и итоговый результаты\n"
   ]
  },
  {
   "cell_type": "markdown",
   "id": "48d5be8b",
   "metadata": {},
   "source": [
    "<br><br><br><br>\n",
    "\n",
    "# 2. Разработка модели машинного обучения"
   ]
  },
  {
   "cell_type": "markdown",
   "id": "4d05bc1d",
   "metadata": {},
   "source": [
    "## 2.1. Подготовка итогового датафрейма `df`"
   ]
  },
  {
   "cell_type": "markdown",
   "id": "7f633a5a",
   "metadata": {},
   "source": [
    "Итак, нам необходимо избавиться от итераций в партиях, так как мы не можем опираться на временны́е ряды в данной задаче. Для этого мы решили сгруппировать по номеру партии датафреймы с итерациями (`arc` и `temp`). Из датафрейма `arc` мы хотим получить данные о суммарной общей мощности и совокупном временном интервале нагрева. А из датафрейма `temp` начальную и конечную температуры металла. Приступим:\n",
    "\n",
    "Создадим новый датафрейм `arc_sum`, добавим в нём столбец с общей мощностью и с интервалом нагрева и просуммируем все признаки по итерациям для каждой партии металла. Выведем первые две строчки получившегося датафрейма:"
   ]
  },
  {
   "cell_type": "code",
   "execution_count": 50,
   "id": "c7ee996f",
   "metadata": {},
   "outputs": [
    {
     "data": {
      "text/html": [
       "<div>\n",
       "<style scoped>\n",
       "    .dataframe tbody tr th:only-of-type {\n",
       "        vertical-align: middle;\n",
       "    }\n",
       "\n",
       "    .dataframe tbody tr th {\n",
       "        vertical-align: top;\n",
       "    }\n",
       "\n",
       "    .dataframe thead th {\n",
       "        text-align: right;\n",
       "    }\n",
       "</style>\n",
       "<table border=\"1\" class=\"dataframe\">\n",
       "  <thead>\n",
       "    <tr style=\"text-align: right;\">\n",
       "      <th></th>\n",
       "      <th>key</th>\n",
       "      <th>a_pwr</th>\n",
       "      <th>r_pwr</th>\n",
       "      <th>power</th>\n",
       "      <th>time</th>\n",
       "    </tr>\n",
       "  </thead>\n",
       "  <tbody>\n",
       "    <tr>\n",
       "      <th>0</th>\n",
       "      <td>1</td>\n",
       "      <td>4.878147</td>\n",
       "      <td>3.183241</td>\n",
       "      <td>5.826395</td>\n",
       "      <td>1098</td>\n",
       "    </tr>\n",
       "    <tr>\n",
       "      <th>1</th>\n",
       "      <td>2</td>\n",
       "      <td>3.052598</td>\n",
       "      <td>1.998112</td>\n",
       "      <td>3.649216</td>\n",
       "      <td>811</td>\n",
       "    </tr>\n",
       "  </tbody>\n",
       "</table>\n",
       "</div>"
      ],
      "text/plain": [
       "   key     a_pwr     r_pwr     power  time\n",
       "0    1  4.878147  3.183241  5.826395  1098\n",
       "1    2  3.052598  1.998112  3.649216   811"
      ]
     },
     "execution_count": 50,
     "metadata": {},
     "output_type": "execute_result"
    }
   ],
   "source": [
    "# создаем новый датафрейм `arc_sum` из 3 столбцов `arc`\n",
    "arc_sum = arc[['key', 'a_pwr', 'r_pwr']]\n",
    "\n",
    "# добавляем столбец с общей мощностью\n",
    "arc_sum['power'] = (arc_sum['a_pwr']**2 + arc_sum['r_pwr']**2)**0.5\n",
    "\n",
    "# добавляем столбец с интервалом нагрева\n",
    "arc_sum['time'] = (arc['time_arc_off'] - arc['time_arc_on']).dt.seconds\n",
    "\n",
    "# группируем по номеру партии, агрегируем суммой\n",
    "arc_sum = arc_sum.groupby('key').sum().reset_index()\n",
    "\n",
    "# out\n",
    "arc_sum.head(2)"
   ]
  },
  {
   "cell_type": "markdown",
   "id": "c1124679",
   "metadata": {},
   "source": [
    "В новом датафрейме с температурами `temps` сначала отфильтруем и оставим те партии, в которых как минимум две итерации. Затем выделим первое и последнее значения замеров температуры. Выведем первые две строчки получившегося датафрейма:"
   ]
  },
  {
   "cell_type": "code",
   "execution_count": 51,
   "id": "1f0b48e7",
   "metadata": {
    "scrolled": false
   },
   "outputs": [
    {
     "data": {
      "text/html": [
       "<div>\n",
       "<style scoped>\n",
       "    .dataframe tbody tr th:only-of-type {\n",
       "        vertical-align: middle;\n",
       "    }\n",
       "\n",
       "    .dataframe tbody tr th {\n",
       "        vertical-align: top;\n",
       "    }\n",
       "\n",
       "    .dataframe thead th {\n",
       "        text-align: right;\n",
       "    }\n",
       "</style>\n",
       "<table border=\"1\" class=\"dataframe\">\n",
       "  <thead>\n",
       "    <tr style=\"text-align: right;\">\n",
       "      <th></th>\n",
       "      <th>key</th>\n",
       "      <th>temp_0</th>\n",
       "      <th>temp</th>\n",
       "    </tr>\n",
       "  </thead>\n",
       "  <tbody>\n",
       "    <tr>\n",
       "      <th>0</th>\n",
       "      <td>1</td>\n",
       "      <td>1571</td>\n",
       "      <td>1613</td>\n",
       "    </tr>\n",
       "    <tr>\n",
       "      <th>1</th>\n",
       "      <td>2</td>\n",
       "      <td>1581</td>\n",
       "      <td>1602</td>\n",
       "    </tr>\n",
       "  </tbody>\n",
       "</table>\n",
       "</div>"
      ],
      "text/plain": [
       "   key  temp_0  temp\n",
       "0    1    1571  1613\n",
       "1    2    1581  1602"
      ]
     },
     "execution_count": 51,
     "metadata": {},
     "output_type": "execute_result"
    }
   ],
   "source": [
    "# количество итераций для каждой партии\n",
    "temp_keys = temp['key'].value_counts()\n",
    "\n",
    "# создаем список номеров партий с >1 итераций\n",
    "temp_keys = temp_keys[temp_keys>1].index\n",
    "\n",
    "# создаем новый датафрейм `temps` из среза `temp`: только >1 итерации для каждой партии, только 2 столбца\n",
    "temps = temp.loc[temp['key'].isin(temp_keys), ['key', 'temp']]\n",
    "\n",
    "# группируем по номеру партии, выбираем из итераций только первый и последний замер температуры\n",
    "temps = temps.groupby('key').agg(['first', 'last']).reset_index()\n",
    "\n",
    "# переименовываем столбцы\n",
    "temps.columns = ['key', 'temp_0', 'temp']\n",
    "\n",
    "# out\n",
    "temps.head(2)"
   ]
  },
  {
   "cell_type": "markdown",
   "id": "1d5624fe",
   "metadata": {},
   "source": [
    "Теперь можем объединить все датафреймы с данными в единый датафрейм `df`. Объединяем только по тем партиям, для которых есть данные обо всех технологических процессах (т.е. используем при объединении метод inner):"
   ]
  },
  {
   "cell_type": "code",
   "execution_count": 52,
   "id": "7f245592",
   "metadata": {},
   "outputs": [],
   "source": [
    "# объединяем все данные в один датафрейм `data`\n",
    "df = (temps\n",
    "      .merge(arc_sum, how='inner', on='key')\n",
    "      .merge(gas, how='inner', on='key')\n",
    "      .merge(bulk, how='inner', on='key')\n",
    "      .merge(wire, how='inner', on='key'))"
   ]
  },
  {
   "cell_type": "markdown",
   "id": "8e62082e",
   "metadata": {},
   "source": [
    "Исследуем новый получившийся датафрейм:"
   ]
  },
  {
   "cell_type": "markdown",
   "id": "0140e89c",
   "metadata": {},
   "source": [
    "<br><br>\n",
    "\n",
    "## 2.2. Краткий исследовательский анализ `df`"
   ]
  },
  {
   "cell_type": "markdown",
   "id": "6b5c7cd4",
   "metadata": {},
   "source": [
    "Выведем основную информацию о датафрейме `df`:"
   ]
  },
  {
   "cell_type": "code",
   "execution_count": 53,
   "id": "9f205d27",
   "metadata": {
    "scrolled": false
   },
   "outputs": [
    {
     "name": "stdout",
     "output_type": "stream",
     "text": [
      "\u001b[0m\u001b[1;35m\n",
      "Датафрейм `df`: Объединённые данные технологических процессов.   (Строк: 2329, столбцов: 32)\n",
      "————————————————————————————————————————————————————————————————————————————————————————————————————\u001b[0m\n",
      "\u001b[0m\u001b[1;35m\n",
      "Информация о столбцах:\n",
      "\n",
      "\u001b[0m<class 'pandas.core.frame.DataFrame'>\n",
      "Int64Index: 2329 entries, 0 to 2328\n",
      "Data columns (total 32 columns):\n",
      " #   Column   Non-Null Count  Dtype  \n",
      "---  ------   --------------  -----  \n",
      " 0   key      2329 non-null   int64  \n",
      " 1   temp_0   2329 non-null   int64  \n",
      " 2   temp     2329 non-null   int64  \n",
      " 3   a_pwr    2329 non-null   float64\n",
      " 4   r_pwr    2329 non-null   float64\n",
      " 5   power    2329 non-null   float64\n",
      " 6   time     2329 non-null   int64  \n",
      " 7   gas      2329 non-null   float64\n",
      " 8   bulk_1   2329 non-null   int64  \n",
      " 9   bulk_2   2329 non-null   int64  \n",
      " 10  bulk_3   2329 non-null   int64  \n",
      " 11  bulk_4   2329 non-null   int64  \n",
      " 12  bulk_5   2329 non-null   int64  \n",
      " 13  bulk_6   2329 non-null   int64  \n",
      " 14  bulk_7   2329 non-null   int64  \n",
      " 15  bulk_8   2329 non-null   int64  \n",
      " 16  bulk_9   2329 non-null   int64  \n",
      " 17  bulk_10  2329 non-null   int64  \n",
      " 18  bulk_11  2329 non-null   int64  \n",
      " 19  bulk_12  2329 non-null   int64  \n",
      " 20  bulk_13  2329 non-null   int64  \n",
      " 21  bulk_14  2329 non-null   int64  \n",
      " 22  bulk_15  2329 non-null   int64  \n",
      " 23  wire_1   2329 non-null   float64\n",
      " 24  wire_2   2329 non-null   float64\n",
      " 25  wire_3   2329 non-null   float64\n",
      " 26  wire_4   2329 non-null   float64\n",
      " 27  wire_5   2329 non-null   float64\n",
      " 28  wire_6   2329 non-null   float64\n",
      " 29  wire_7   2329 non-null   float64\n",
      " 30  wire_8   2329 non-null   float64\n",
      " 31  wire_9   2329 non-null   float64\n",
      "dtypes: float64(13), int64(19)\n",
      "memory usage: 600.4 KB\n",
      "None\n",
      "\u001b[0m\u001b[1;35m\n",
      "Первые 5 строк:\n",
      "\u001b[0m"
     ]
    },
    {
     "data": {
      "text/html": [
       "<div>\n",
       "<style scoped>\n",
       "    .dataframe tbody tr th:only-of-type {\n",
       "        vertical-align: middle;\n",
       "    }\n",
       "\n",
       "    .dataframe tbody tr th {\n",
       "        vertical-align: top;\n",
       "    }\n",
       "\n",
       "    .dataframe thead th {\n",
       "        text-align: right;\n",
       "    }\n",
       "</style>\n",
       "<table border=\"1\" class=\"dataframe\">\n",
       "  <thead>\n",
       "    <tr style=\"text-align: right;\">\n",
       "      <th></th>\n",
       "      <th>key</th>\n",
       "      <th>temp_0</th>\n",
       "      <th>temp</th>\n",
       "      <th>a_pwr</th>\n",
       "      <th>r_pwr</th>\n",
       "      <th>power</th>\n",
       "      <th>time</th>\n",
       "      <th>gas</th>\n",
       "      <th>bulk_1</th>\n",
       "      <th>bulk_2</th>\n",
       "      <th>bulk_3</th>\n",
       "      <th>bulk_4</th>\n",
       "      <th>bulk_5</th>\n",
       "      <th>bulk_6</th>\n",
       "      <th>bulk_7</th>\n",
       "      <th>bulk_8</th>\n",
       "      <th>bulk_9</th>\n",
       "      <th>bulk_10</th>\n",
       "      <th>bulk_11</th>\n",
       "      <th>bulk_12</th>\n",
       "      <th>bulk_13</th>\n",
       "      <th>bulk_14</th>\n",
       "      <th>bulk_15</th>\n",
       "      <th>wire_1</th>\n",
       "      <th>wire_2</th>\n",
       "      <th>wire_3</th>\n",
       "      <th>wire_4</th>\n",
       "      <th>wire_5</th>\n",
       "      <th>wire_6</th>\n",
       "      <th>wire_7</th>\n",
       "      <th>wire_8</th>\n",
       "      <th>wire_9</th>\n",
       "    </tr>\n",
       "  </thead>\n",
       "  <tbody>\n",
       "    <tr>\n",
       "      <th>0</th>\n",
       "      <td>1</td>\n",
       "      <td>1571</td>\n",
       "      <td>1613</td>\n",
       "      <td>4.878147</td>\n",
       "      <td>3.183241</td>\n",
       "      <td>5.826395</td>\n",
       "      <td>1098</td>\n",
       "      <td>29.749986</td>\n",
       "      <td>0</td>\n",
       "      <td>0</td>\n",
       "      <td>0</td>\n",
       "      <td>43</td>\n",
       "      <td>0</td>\n",
       "      <td>0</td>\n",
       "      <td>0</td>\n",
       "      <td>0</td>\n",
       "      <td>0</td>\n",
       "      <td>0</td>\n",
       "      <td>0</td>\n",
       "      <td>206</td>\n",
       "      <td>0</td>\n",
       "      <td>150</td>\n",
       "      <td>154</td>\n",
       "      <td>60.059998</td>\n",
       "      <td>0.00000</td>\n",
       "      <td>0.0</td>\n",
       "      <td>0.0</td>\n",
       "      <td>0.0</td>\n",
       "      <td>0.0</td>\n",
       "      <td>0.0</td>\n",
       "      <td>0.0</td>\n",
       "      <td>0.0</td>\n",
       "    </tr>\n",
       "    <tr>\n",
       "      <th>1</th>\n",
       "      <td>2</td>\n",
       "      <td>1581</td>\n",
       "      <td>1602</td>\n",
       "      <td>3.052598</td>\n",
       "      <td>1.998112</td>\n",
       "      <td>3.649216</td>\n",
       "      <td>811</td>\n",
       "      <td>12.555561</td>\n",
       "      <td>0</td>\n",
       "      <td>0</td>\n",
       "      <td>0</td>\n",
       "      <td>73</td>\n",
       "      <td>0</td>\n",
       "      <td>0</td>\n",
       "      <td>0</td>\n",
       "      <td>0</td>\n",
       "      <td>0</td>\n",
       "      <td>0</td>\n",
       "      <td>0</td>\n",
       "      <td>206</td>\n",
       "      <td>0</td>\n",
       "      <td>149</td>\n",
       "      <td>154</td>\n",
       "      <td>96.052315</td>\n",
       "      <td>0.00000</td>\n",
       "      <td>0.0</td>\n",
       "      <td>0.0</td>\n",
       "      <td>0.0</td>\n",
       "      <td>0.0</td>\n",
       "      <td>0.0</td>\n",
       "      <td>0.0</td>\n",
       "      <td>0.0</td>\n",
       "    </tr>\n",
       "    <tr>\n",
       "      <th>2</th>\n",
       "      <td>3</td>\n",
       "      <td>1596</td>\n",
       "      <td>1599</td>\n",
       "      <td>2.525882</td>\n",
       "      <td>1.599076</td>\n",
       "      <td>2.989534</td>\n",
       "      <td>655</td>\n",
       "      <td>28.554793</td>\n",
       "      <td>0</td>\n",
       "      <td>0</td>\n",
       "      <td>0</td>\n",
       "      <td>34</td>\n",
       "      <td>0</td>\n",
       "      <td>0</td>\n",
       "      <td>0</td>\n",
       "      <td>0</td>\n",
       "      <td>0</td>\n",
       "      <td>0</td>\n",
       "      <td>0</td>\n",
       "      <td>205</td>\n",
       "      <td>0</td>\n",
       "      <td>152</td>\n",
       "      <td>153</td>\n",
       "      <td>91.160157</td>\n",
       "      <td>0.00000</td>\n",
       "      <td>0.0</td>\n",
       "      <td>0.0</td>\n",
       "      <td>0.0</td>\n",
       "      <td>0.0</td>\n",
       "      <td>0.0</td>\n",
       "      <td>0.0</td>\n",
       "      <td>0.0</td>\n",
       "    </tr>\n",
       "    <tr>\n",
       "      <th>3</th>\n",
       "      <td>4</td>\n",
       "      <td>1601</td>\n",
       "      <td>1625</td>\n",
       "      <td>3.209250</td>\n",
       "      <td>2.060298</td>\n",
       "      <td>3.814962</td>\n",
       "      <td>741</td>\n",
       "      <td>18.841219</td>\n",
       "      <td>0</td>\n",
       "      <td>0</td>\n",
       "      <td>0</td>\n",
       "      <td>81</td>\n",
       "      <td>0</td>\n",
       "      <td>0</td>\n",
       "      <td>0</td>\n",
       "      <td>0</td>\n",
       "      <td>0</td>\n",
       "      <td>0</td>\n",
       "      <td>0</td>\n",
       "      <td>207</td>\n",
       "      <td>0</td>\n",
       "      <td>153</td>\n",
       "      <td>154</td>\n",
       "      <td>89.063515</td>\n",
       "      <td>0.00000</td>\n",
       "      <td>0.0</td>\n",
       "      <td>0.0</td>\n",
       "      <td>0.0</td>\n",
       "      <td>0.0</td>\n",
       "      <td>0.0</td>\n",
       "      <td>0.0</td>\n",
       "      <td>0.0</td>\n",
       "    </tr>\n",
       "    <tr>\n",
       "      <th>4</th>\n",
       "      <td>5</td>\n",
       "      <td>1576</td>\n",
       "      <td>1602</td>\n",
       "      <td>3.347173</td>\n",
       "      <td>2.252643</td>\n",
       "      <td>4.035758</td>\n",
       "      <td>869</td>\n",
       "      <td>5.413692</td>\n",
       "      <td>0</td>\n",
       "      <td>0</td>\n",
       "      <td>0</td>\n",
       "      <td>78</td>\n",
       "      <td>0</td>\n",
       "      <td>0</td>\n",
       "      <td>0</td>\n",
       "      <td>0</td>\n",
       "      <td>0</td>\n",
       "      <td>0</td>\n",
       "      <td>0</td>\n",
       "      <td>203</td>\n",
       "      <td>0</td>\n",
       "      <td>151</td>\n",
       "      <td>152</td>\n",
       "      <td>89.238236</td>\n",
       "      <td>9.11456</td>\n",
       "      <td>0.0</td>\n",
       "      <td>0.0</td>\n",
       "      <td>0.0</td>\n",
       "      <td>0.0</td>\n",
       "      <td>0.0</td>\n",
       "      <td>0.0</td>\n",
       "      <td>0.0</td>\n",
       "    </tr>\n",
       "  </tbody>\n",
       "</table>\n",
       "</div>"
      ],
      "text/plain": [
       "   key  temp_0  temp     a_pwr     r_pwr     power  time        gas  bulk_1  \\\n",
       "0    1    1571  1613  4.878147  3.183241  5.826395  1098  29.749986       0   \n",
       "1    2    1581  1602  3.052598  1.998112  3.649216   811  12.555561       0   \n",
       "2    3    1596  1599  2.525882  1.599076  2.989534   655  28.554793       0   \n",
       "3    4    1601  1625  3.209250  2.060298  3.814962   741  18.841219       0   \n",
       "4    5    1576  1602  3.347173  2.252643  4.035758   869   5.413692       0   \n",
       "\n",
       "   bulk_2  bulk_3  bulk_4  bulk_5  bulk_6  bulk_7  bulk_8  bulk_9  bulk_10  \\\n",
       "0       0       0      43       0       0       0       0       0        0   \n",
       "1       0       0      73       0       0       0       0       0        0   \n",
       "2       0       0      34       0       0       0       0       0        0   \n",
       "3       0       0      81       0       0       0       0       0        0   \n",
       "4       0       0      78       0       0       0       0       0        0   \n",
       "\n",
       "   bulk_11  bulk_12  bulk_13  bulk_14  bulk_15     wire_1   wire_2  wire_3  \\\n",
       "0        0      206        0      150      154  60.059998  0.00000     0.0   \n",
       "1        0      206        0      149      154  96.052315  0.00000     0.0   \n",
       "2        0      205        0      152      153  91.160157  0.00000     0.0   \n",
       "3        0      207        0      153      154  89.063515  0.00000     0.0   \n",
       "4        0      203        0      151      152  89.238236  9.11456     0.0   \n",
       "\n",
       "   wire_4  wire_5  wire_6  wire_7  wire_8  wire_9  \n",
       "0     0.0     0.0     0.0     0.0     0.0     0.0  \n",
       "1     0.0     0.0     0.0     0.0     0.0     0.0  \n",
       "2     0.0     0.0     0.0     0.0     0.0     0.0  \n",
       "3     0.0     0.0     0.0     0.0     0.0     0.0  \n",
       "4     0.0     0.0     0.0     0.0     0.0     0.0  "
      ]
     },
     "metadata": {},
     "output_type": "display_data"
    },
    {
     "name": "stdout",
     "output_type": "stream",
     "text": [
      "\u001b[0m\u001b[1;35m\n",
      "Количество дубликатов: 0\n",
      "\u001b[0m\u001b[0m\u001b[1;35m\n",
      "Основные статистики:\n",
      "\u001b[0m"
     ]
    },
    {
     "data": {
      "text/html": [
       "<div>\n",
       "<style scoped>\n",
       "    .dataframe tbody tr th:only-of-type {\n",
       "        vertical-align: middle;\n",
       "    }\n",
       "\n",
       "    .dataframe tbody tr th {\n",
       "        vertical-align: top;\n",
       "    }\n",
       "\n",
       "    .dataframe thead th {\n",
       "        text-align: right;\n",
       "    }\n",
       "</style>\n",
       "<table border=\"1\" class=\"dataframe\">\n",
       "  <thead>\n",
       "    <tr style=\"text-align: right;\">\n",
       "      <th></th>\n",
       "      <th>count</th>\n",
       "      <th>mean</th>\n",
       "      <th>std</th>\n",
       "      <th>min</th>\n",
       "      <th>25%</th>\n",
       "      <th>50%</th>\n",
       "      <th>75%</th>\n",
       "      <th>max</th>\n",
       "    </tr>\n",
       "  </thead>\n",
       "  <tbody>\n",
       "    <tr>\n",
       "      <th>key</th>\n",
       "      <td>2329.0</td>\n",
       "      <td>1251.832546</td>\n",
       "      <td>714.762400</td>\n",
       "      <td>1.000000</td>\n",
       "      <td>630.000000</td>\n",
       "      <td>1255.000000</td>\n",
       "      <td>1868.000000</td>\n",
       "      <td>2499.000000</td>\n",
       "    </tr>\n",
       "    <tr>\n",
       "      <th>temp_0</th>\n",
       "      <td>2329.0</td>\n",
       "      <td>1586.718763</td>\n",
       "      <td>28.290792</td>\n",
       "      <td>1191.000000</td>\n",
       "      <td>1571.000000</td>\n",
       "      <td>1587.000000</td>\n",
       "      <td>1603.000000</td>\n",
       "      <td>1660.000000</td>\n",
       "    </tr>\n",
       "    <tr>\n",
       "      <th>temp</th>\n",
       "      <td>2329.0</td>\n",
       "      <td>1593.365393</td>\n",
       "      <td>11.200915</td>\n",
       "      <td>1541.000000</td>\n",
       "      <td>1587.000000</td>\n",
       "      <td>1593.000000</td>\n",
       "      <td>1598.000000</td>\n",
       "      <td>1653.000000</td>\n",
       "    </tr>\n",
       "    <tr>\n",
       "      <th>a_pwr</th>\n",
       "      <td>2329.0</td>\n",
       "      <td>3.152449</td>\n",
       "      <td>1.425290</td>\n",
       "      <td>0.186226</td>\n",
       "      <td>2.173277</td>\n",
       "      <td>3.028334</td>\n",
       "      <td>3.920676</td>\n",
       "      <td>17.496497</td>\n",
       "    </tr>\n",
       "    <tr>\n",
       "      <th>r_pwr</th>\n",
       "      <td>2329.0</td>\n",
       "      <td>2.351210</td>\n",
       "      <td>1.081639</td>\n",
       "      <td>0.158247</td>\n",
       "      <td>1.626854</td>\n",
       "      <td>2.234997</td>\n",
       "      <td>2.915089</td>\n",
       "      <td>12.587990</td>\n",
       "    </tr>\n",
       "    <tr>\n",
       "      <th>power</th>\n",
       "      <td>2329.0</td>\n",
       "      <td>3.941933</td>\n",
       "      <td>1.779229</td>\n",
       "      <td>0.257637</td>\n",
       "      <td>2.735080</td>\n",
       "      <td>3.773603</td>\n",
       "      <td>4.892791</td>\n",
       "      <td>21.564771</td>\n",
       "    </tr>\n",
       "    <tr>\n",
       "      <th>time</th>\n",
       "      <td>2329.0</td>\n",
       "      <td>807.647488</td>\n",
       "      <td>340.838388</td>\n",
       "      <td>57.000000</td>\n",
       "      <td>581.000000</td>\n",
       "      <td>778.000000</td>\n",
       "      <td>993.000000</td>\n",
       "      <td>4189.000000</td>\n",
       "    </tr>\n",
       "    <tr>\n",
       "      <th>gas</th>\n",
       "      <td>2329.0</td>\n",
       "      <td>11.375600</td>\n",
       "      <td>6.392041</td>\n",
       "      <td>0.008399</td>\n",
       "      <td>7.282948</td>\n",
       "      <td>10.100950</td>\n",
       "      <td>14.216688</td>\n",
       "      <td>77.995040</td>\n",
       "    </tr>\n",
       "    <tr>\n",
       "      <th>bulk_1</th>\n",
       "      <td>2329.0</td>\n",
       "      <td>3.427651</td>\n",
       "      <td>12.412132</td>\n",
       "      <td>0.000000</td>\n",
       "      <td>0.000000</td>\n",
       "      <td>0.000000</td>\n",
       "      <td>0.000000</td>\n",
       "      <td>185.000000</td>\n",
       "    </tr>\n",
       "    <tr>\n",
       "      <th>bulk_2</th>\n",
       "      <td>2329.0</td>\n",
       "      <td>1.422499</td>\n",
       "      <td>19.082119</td>\n",
       "      <td>0.000000</td>\n",
       "      <td>0.000000</td>\n",
       "      <td>0.000000</td>\n",
       "      <td>0.000000</td>\n",
       "      <td>325.000000</td>\n",
       "    </tr>\n",
       "    <tr>\n",
       "      <th>bulk_3</th>\n",
       "      <td>2329.0</td>\n",
       "      <td>47.348218</td>\n",
       "      <td>75.310430</td>\n",
       "      <td>0.000000</td>\n",
       "      <td>0.000000</td>\n",
       "      <td>0.000000</td>\n",
       "      <td>80.000000</td>\n",
       "      <td>454.000000</td>\n",
       "    </tr>\n",
       "    <tr>\n",
       "      <th>bulk_4</th>\n",
       "      <td>2329.0</td>\n",
       "      <td>37.303564</td>\n",
       "      <td>58.643238</td>\n",
       "      <td>0.000000</td>\n",
       "      <td>0.000000</td>\n",
       "      <td>0.000000</td>\n",
       "      <td>77.000000</td>\n",
       "      <td>281.000000</td>\n",
       "    </tr>\n",
       "    <tr>\n",
       "      <th>bulk_5</th>\n",
       "      <td>2329.0</td>\n",
       "      <td>2.640189</td>\n",
       "      <td>22.402293</td>\n",
       "      <td>0.000000</td>\n",
       "      <td>0.000000</td>\n",
       "      <td>0.000000</td>\n",
       "      <td>0.000000</td>\n",
       "      <td>603.000000</td>\n",
       "    </tr>\n",
       "    <tr>\n",
       "      <th>bulk_6</th>\n",
       "      <td>2329.0</td>\n",
       "      <td>22.430228</td>\n",
       "      <td>55.790873</td>\n",
       "      <td>0.000000</td>\n",
       "      <td>0.000000</td>\n",
       "      <td>0.000000</td>\n",
       "      <td>0.000000</td>\n",
       "      <td>503.000000</td>\n",
       "    </tr>\n",
       "    <tr>\n",
       "      <th>bulk_7</th>\n",
       "      <td>2329.0</td>\n",
       "      <td>2.004723</td>\n",
       "      <td>30.676234</td>\n",
       "      <td>0.000000</td>\n",
       "      <td>0.000000</td>\n",
       "      <td>0.000000</td>\n",
       "      <td>0.000000</td>\n",
       "      <td>772.000000</td>\n",
       "    </tr>\n",
       "    <tr>\n",
       "      <th>bulk_8</th>\n",
       "      <td>2329.0</td>\n",
       "      <td>0.021039</td>\n",
       "      <td>1.015340</td>\n",
       "      <td>0.000000</td>\n",
       "      <td>0.000000</td>\n",
       "      <td>0.000000</td>\n",
       "      <td>0.000000</td>\n",
       "      <td>49.000000</td>\n",
       "    </tr>\n",
       "    <tr>\n",
       "      <th>bulk_9</th>\n",
       "      <td>2329.0</td>\n",
       "      <td>0.444826</td>\n",
       "      <td>6.220641</td>\n",
       "      <td>0.000000</td>\n",
       "      <td>0.000000</td>\n",
       "      <td>0.000000</td>\n",
       "      <td>0.000000</td>\n",
       "      <td>147.000000</td>\n",
       "    </tr>\n",
       "    <tr>\n",
       "      <th>bulk_10</th>\n",
       "      <td>2329.0</td>\n",
       "      <td>5.052812</td>\n",
       "      <td>20.917800</td>\n",
       "      <td>0.000000</td>\n",
       "      <td>0.000000</td>\n",
       "      <td>0.000000</td>\n",
       "      <td>0.000000</td>\n",
       "      <td>159.000000</td>\n",
       "    </tr>\n",
       "    <tr>\n",
       "      <th>bulk_11</th>\n",
       "      <td>2329.0</td>\n",
       "      <td>4.245170</td>\n",
       "      <td>22.515487</td>\n",
       "      <td>0.000000</td>\n",
       "      <td>0.000000</td>\n",
       "      <td>0.000000</td>\n",
       "      <td>0.000000</td>\n",
       "      <td>313.000000</td>\n",
       "    </tr>\n",
       "    <tr>\n",
       "      <th>bulk_12</th>\n",
       "      <td>2329.0</td>\n",
       "      <td>208.415629</td>\n",
       "      <td>157.062272</td>\n",
       "      <td>0.000000</td>\n",
       "      <td>105.000000</td>\n",
       "      <td>206.000000</td>\n",
       "      <td>282.000000</td>\n",
       "      <td>1849.000000</td>\n",
       "    </tr>\n",
       "    <tr>\n",
       "      <th>bulk_13</th>\n",
       "      <td>2329.0</td>\n",
       "      <td>1.067411</td>\n",
       "      <td>14.235055</td>\n",
       "      <td>0.000000</td>\n",
       "      <td>0.000000</td>\n",
       "      <td>0.000000</td>\n",
       "      <td>0.000000</td>\n",
       "      <td>305.000000</td>\n",
       "    </tr>\n",
       "    <tr>\n",
       "      <th>bulk_14</th>\n",
       "      <td>2329.0</td>\n",
       "      <td>153.853585</td>\n",
       "      <td>81.404354</td>\n",
       "      <td>0.000000</td>\n",
       "      <td>105.000000</td>\n",
       "      <td>149.000000</td>\n",
       "      <td>204.000000</td>\n",
       "      <td>636.000000</td>\n",
       "    </tr>\n",
       "    <tr>\n",
       "      <th>bulk_15</th>\n",
       "      <td>2329.0</td>\n",
       "      <td>119.952769</td>\n",
       "      <td>84.640443</td>\n",
       "      <td>0.000000</td>\n",
       "      <td>0.000000</td>\n",
       "      <td>107.000000</td>\n",
       "      <td>204.000000</td>\n",
       "      <td>405.000000</td>\n",
       "    </tr>\n",
       "    <tr>\n",
       "      <th>wire_1</th>\n",
       "      <td>2329.0</td>\n",
       "      <td>102.443601</td>\n",
       "      <td>43.539993</td>\n",
       "      <td>0.000000</td>\n",
       "      <td>73.207679</td>\n",
       "      <td>101.119201</td>\n",
       "      <td>128.091599</td>\n",
       "      <td>330.314424</td>\n",
       "    </tr>\n",
       "    <tr>\n",
       "      <th>wire_2</th>\n",
       "      <td>2329.0</td>\n",
       "      <td>17.609859</td>\n",
       "      <td>33.624771</td>\n",
       "      <td>0.000000</td>\n",
       "      <td>0.000000</td>\n",
       "      <td>0.000000</td>\n",
       "      <td>23.102560</td>\n",
       "      <td>282.780152</td>\n",
       "    </tr>\n",
       "    <tr>\n",
       "      <th>wire_3</th>\n",
       "      <td>2329.0</td>\n",
       "      <td>3.234916</td>\n",
       "      <td>27.942871</td>\n",
       "      <td>0.000000</td>\n",
       "      <td>0.000000</td>\n",
       "      <td>0.000000</td>\n",
       "      <td>0.000000</td>\n",
       "      <td>385.008668</td>\n",
       "    </tr>\n",
       "    <tr>\n",
       "      <th>wire_4</th>\n",
       "      <td>2329.0</td>\n",
       "      <td>0.306550</td>\n",
       "      <td>4.757746</td>\n",
       "      <td>0.000000</td>\n",
       "      <td>0.000000</td>\n",
       "      <td>0.000000</td>\n",
       "      <td>0.000000</td>\n",
       "      <td>113.231044</td>\n",
       "    </tr>\n",
       "    <tr>\n",
       "      <th>wire_5</th>\n",
       "      <td>2329.0</td>\n",
       "      <td>0.000000</td>\n",
       "      <td>0.000000</td>\n",
       "      <td>0.000000</td>\n",
       "      <td>0.000000</td>\n",
       "      <td>0.000000</td>\n",
       "      <td>0.000000</td>\n",
       "      <td>0.000000</td>\n",
       "    </tr>\n",
       "    <tr>\n",
       "      <th>wire_6</th>\n",
       "      <td>2329.0</td>\n",
       "      <td>0.978820</td>\n",
       "      <td>8.693299</td>\n",
       "      <td>0.000000</td>\n",
       "      <td>0.000000</td>\n",
       "      <td>0.000000</td>\n",
       "      <td>0.000000</td>\n",
       "      <td>180.454575</td>\n",
       "    </tr>\n",
       "    <tr>\n",
       "      <th>wire_7</th>\n",
       "      <td>2329.0</td>\n",
       "      <td>0.006361</td>\n",
       "      <td>0.205705</td>\n",
       "      <td>0.000000</td>\n",
       "      <td>0.000000</td>\n",
       "      <td>0.000000</td>\n",
       "      <td>0.000000</td>\n",
       "      <td>8.490040</td>\n",
       "    </tr>\n",
       "    <tr>\n",
       "      <th>wire_8</th>\n",
       "      <td>2329.0</td>\n",
       "      <td>0.311311</td>\n",
       "      <td>4.402707</td>\n",
       "      <td>0.000000</td>\n",
       "      <td>0.000000</td>\n",
       "      <td>0.000000</td>\n",
       "      <td>0.000000</td>\n",
       "      <td>102.762401</td>\n",
       "    </tr>\n",
       "    <tr>\n",
       "      <th>wire_9</th>\n",
       "      <td>2329.0</td>\n",
       "      <td>0.317113</td>\n",
       "      <td>3.456561</td>\n",
       "      <td>0.000000</td>\n",
       "      <td>0.000000</td>\n",
       "      <td>0.000000</td>\n",
       "      <td>0.000000</td>\n",
       "      <td>62.025600</td>\n",
       "    </tr>\n",
       "  </tbody>\n",
       "</table>\n",
       "</div>"
      ],
      "text/plain": [
       "          count         mean         std          min          25%  \\\n",
       "key      2329.0  1251.832546  714.762400     1.000000   630.000000   \n",
       "temp_0   2329.0  1586.718763   28.290792  1191.000000  1571.000000   \n",
       "temp     2329.0  1593.365393   11.200915  1541.000000  1587.000000   \n",
       "a_pwr    2329.0     3.152449    1.425290     0.186226     2.173277   \n",
       "r_pwr    2329.0     2.351210    1.081639     0.158247     1.626854   \n",
       "power    2329.0     3.941933    1.779229     0.257637     2.735080   \n",
       "time     2329.0   807.647488  340.838388    57.000000   581.000000   \n",
       "gas      2329.0    11.375600    6.392041     0.008399     7.282948   \n",
       "bulk_1   2329.0     3.427651   12.412132     0.000000     0.000000   \n",
       "bulk_2   2329.0     1.422499   19.082119     0.000000     0.000000   \n",
       "bulk_3   2329.0    47.348218   75.310430     0.000000     0.000000   \n",
       "bulk_4   2329.0    37.303564   58.643238     0.000000     0.000000   \n",
       "bulk_5   2329.0     2.640189   22.402293     0.000000     0.000000   \n",
       "bulk_6   2329.0    22.430228   55.790873     0.000000     0.000000   \n",
       "bulk_7   2329.0     2.004723   30.676234     0.000000     0.000000   \n",
       "bulk_8   2329.0     0.021039    1.015340     0.000000     0.000000   \n",
       "bulk_9   2329.0     0.444826    6.220641     0.000000     0.000000   \n",
       "bulk_10  2329.0     5.052812   20.917800     0.000000     0.000000   \n",
       "bulk_11  2329.0     4.245170   22.515487     0.000000     0.000000   \n",
       "bulk_12  2329.0   208.415629  157.062272     0.000000   105.000000   \n",
       "bulk_13  2329.0     1.067411   14.235055     0.000000     0.000000   \n",
       "bulk_14  2329.0   153.853585   81.404354     0.000000   105.000000   \n",
       "bulk_15  2329.0   119.952769   84.640443     0.000000     0.000000   \n",
       "wire_1   2329.0   102.443601   43.539993     0.000000    73.207679   \n",
       "wire_2   2329.0    17.609859   33.624771     0.000000     0.000000   \n",
       "wire_3   2329.0     3.234916   27.942871     0.000000     0.000000   \n",
       "wire_4   2329.0     0.306550    4.757746     0.000000     0.000000   \n",
       "wire_5   2329.0     0.000000    0.000000     0.000000     0.000000   \n",
       "wire_6   2329.0     0.978820    8.693299     0.000000     0.000000   \n",
       "wire_7   2329.0     0.006361    0.205705     0.000000     0.000000   \n",
       "wire_8   2329.0     0.311311    4.402707     0.000000     0.000000   \n",
       "wire_9   2329.0     0.317113    3.456561     0.000000     0.000000   \n",
       "\n",
       "                 50%          75%          max  \n",
       "key      1255.000000  1868.000000  2499.000000  \n",
       "temp_0   1587.000000  1603.000000  1660.000000  \n",
       "temp     1593.000000  1598.000000  1653.000000  \n",
       "a_pwr       3.028334     3.920676    17.496497  \n",
       "r_pwr       2.234997     2.915089    12.587990  \n",
       "power       3.773603     4.892791    21.564771  \n",
       "time      778.000000   993.000000  4189.000000  \n",
       "gas        10.100950    14.216688    77.995040  \n",
       "bulk_1      0.000000     0.000000   185.000000  \n",
       "bulk_2      0.000000     0.000000   325.000000  \n",
       "bulk_3      0.000000    80.000000   454.000000  \n",
       "bulk_4      0.000000    77.000000   281.000000  \n",
       "bulk_5      0.000000     0.000000   603.000000  \n",
       "bulk_6      0.000000     0.000000   503.000000  \n",
       "bulk_7      0.000000     0.000000   772.000000  \n",
       "bulk_8      0.000000     0.000000    49.000000  \n",
       "bulk_9      0.000000     0.000000   147.000000  \n",
       "bulk_10     0.000000     0.000000   159.000000  \n",
       "bulk_11     0.000000     0.000000   313.000000  \n",
       "bulk_12   206.000000   282.000000  1849.000000  \n",
       "bulk_13     0.000000     0.000000   305.000000  \n",
       "bulk_14   149.000000   204.000000   636.000000  \n",
       "bulk_15   107.000000   204.000000   405.000000  \n",
       "wire_1    101.119201   128.091599   330.314424  \n",
       "wire_2      0.000000    23.102560   282.780152  \n",
       "wire_3      0.000000     0.000000   385.008668  \n",
       "wire_4      0.000000     0.000000   113.231044  \n",
       "wire_5      0.000000     0.000000     0.000000  \n",
       "wire_6      0.000000     0.000000   180.454575  \n",
       "wire_7      0.000000     0.000000     8.490040  \n",
       "wire_8      0.000000     0.000000   102.762401  \n",
       "wire_9      0.000000     0.000000    62.025600  "
      ]
     },
     "metadata": {},
     "output_type": "display_data"
    }
   ],
   "source": [
    "# out\n",
    "show_df_info(df, 'df')"
   ]
  },
  {
   "cell_type": "markdown",
   "id": "6e6f1867",
   "metadata": {},
   "source": [
    "Итак:\n",
    "- Мы имеем совокупную информацию по 2329 партиям металла\n",
    "- В датафрейме `df` 32 столбца, содержащие данные по различным технологическим операциям. Среди них есть целевой признак `temp`\n",
    "- Пропусков в данных нет\n",
    "- Явных дубликатов также нет\n",
    "- Каких-либо аномальных значений не замечено\n",
    "\n",
    "Проверим признаки на мультиколлинеарность, выведем тепловую карту значений коэффициентов корреляции Пирсона:"
   ]
  },
  {
   "cell_type": "code",
   "execution_count": 54,
   "id": "4b2a9be3",
   "metadata": {},
   "outputs": [
    {
     "data": {
      "image/png": "[encoded data removed]",
      "text/plain": [
       "<Figure size 1200x1200 with 2 Axes>"
      ]
     },
     "metadata": {},
     "output_type": "display_data"
    }
   ],
   "source": [
    "# исследуем корреляцию признаков\n",
    "# viz\n",
    "fig, ax = plt.subplots(figsize=(12, 12))\n",
    "ax.xaxis.tick_top()\n",
    "plt.rcParams.update({'font.size': 8})\n",
    "sns.heatmap(round(abs(df.corr()), 2), annot=True, cmap='Blues', linewidths=0.1, linecolor='grey',\n",
    "            cbar_kws={'location': 'bottom', 'aspect': 80, 'pad': 0.02})\n",
    "plt.title('Корреляция Пирсона', fontsize=12)\n",
    "plt.yticks(rotation=0)\n",
    "plt.show()"
   ]
  },
  {
   "cell_type": "markdown",
   "id": "936b727e",
   "metadata": {},
   "source": [
    "Видим, что ожидаемо и очень сильно коррелируют между собой значения активной, реактивной, общей мощностей и времени нагрева. Оставим в качестве признака только какой-то один, например, общую мощность\n",
    "\n",
    "Также видим, что в процессе объединения мы потеряли ту единственную партию металла, в которой была добавка wire_5. Кроме того, отмечаем сильную взаимосвязь между признаками wire_8 и bulk_9. Скорее всего это ошибочная корреляция вызванная малым количеством данных в этих столбцах (всего по 9 записей). Оставим один из них, например, wire_8\n",
    "\n",
    "За исключением вышеописанных наблюдений отмечаем, что в остальных признаках корреляция не наблюдается, либо выражена незначительно\n",
    "\n",
    "Также для моделей машинного обучения не имеет смысла номер партии `key`\n",
    "\n",
    "Удалим нежелательные столбцы из датафрейма `df`:"
   ]
  },
  {
   "cell_type": "code",
   "execution_count": 55,
   "id": "a5ac5f34",
   "metadata": {},
   "outputs": [],
   "source": [
    "# удалим номер партии и коррелирующие признаки\n",
    "df = df.drop(['key', 'a_pwr', 'r_pwr', 'time', 'bulk_9', 'wire_5'], axis=1)"
   ]
  },
  {
   "cell_type": "markdown",
   "id": "d79c6e9e",
   "metadata": {},
   "source": [
    "Раньше мы изучали распределение температуры по всем итерациям. Рассмотрим теперь то же распределение, но только для начальной и конечной температуры:"
   ]
  },
  {
   "cell_type": "code",
   "execution_count": 56,
   "id": "c7c08b66",
   "metadata": {},
   "outputs": [
    {
     "data": {
      "image/png": "[encoded data removed]",
      "text/plain": [
       "<Figure size 800x400 with 1 Axes>"
      ]
     },
     "metadata": {},
     "output_type": "display_data"
    }
   ],
   "source": [
    "# viz\n",
    "plt.figure(figsize=(8, 4))\n",
    "plt.subplot(1, 1, 1)\n",
    "sns.histplot(df[['temp', 'temp_0']], bins=120, stat='density', kde=True, alpha=0.5)\n",
    "plt.title('Распределения начальной и конечной температуры сплава')\n",
    "plt.xlabel('Температура сплава')\n",
    "plt.xlim(1430, 1720)\n",
    "plt.ylabel('Плотность распределения')\n",
    "plt.show()"
   ]
  },
  {
   "cell_type": "markdown",
   "id": "e2a7a65d",
   "metadata": {},
   "source": [
    "Видим, что в целом графики по-прежнему имеют формы нормального распределения. Для начальной температуры характерен больший разброс значений и небольшое смещение среднего значения, относительно конечной температуры, что логично и объяснимо отличиями \"рецептуры\" для различных партий. Каждая из партий имеет разлиную начальную температуру, обусловленную отличиями в тех.процессе, однако \"готовый продукт\", как правило имеет более стабильную температуру\n",
    "\n",
    "Выведем также распределение суммарной мощности:"
   ]
  },
  {
   "cell_type": "code",
   "execution_count": 57,
   "id": "d4267438",
   "metadata": {},
   "outputs": [
    {
     "data": {
      "image/png": "[encoded data removed]",
      "text/plain": [
       "<Figure size 800x400 with 1 Axes>"
      ]
     },
     "metadata": {},
     "output_type": "display_data"
    }
   ],
   "source": [
    "# viz\n",
    "plt.figure(figsize=(8, 4))\n",
    "plt.subplot(1, 1, 1)\n",
    "sns.histplot(df['power'], bins=80, stat='density', kde=True, alpha=0.5)\n",
    "plt.title('Распределение суммарной общей мощности')\n",
    "plt.xlabel('Суммарная общая мощность')\n",
    "plt.xlim(-1, 17)\n",
    "plt.ylabel('Плотность распределения')\n",
    "plt.show()"
   ]
  },
  {
   "cell_type": "markdown",
   "id": "e701f73a",
   "metadata": {},
   "source": [
    "Наблюдаем похожую картину нормального распределения, как и в графиках распределения итерационных активной и реактивной мощностей. Отличия лишь в увеличенных значениях суммарной мощности\n",
    "\n",
    "В целом датафрейм `df` полностью готов к использованию в обучении моделей"
   ]
  },
  {
   "cell_type": "markdown",
   "id": "59ebe63d",
   "metadata": {},
   "source": [
    "<br><br>\n",
    "\n",
    "## 2.3. Разделение датафрейма на выборки, масштабирование данных"
   ]
  },
  {
   "cell_type": "markdown",
   "id": "a37fa0bc",
   "metadata": {},
   "source": [
    "Выделим отдельно фичи и целевой признак, разобьём данные на обучающую и тестовую выборки в соотношении 3:1 (75/25):"
   ]
  },
  {
   "cell_type": "code",
   "execution_count": 58,
   "id": "01d7cea7",
   "metadata": {},
   "outputs": [],
   "source": [
    "# выделяем фичи и таргет\n",
    "X = df.drop(['temp'], axis=1)\n",
    "y = df['temp']\n",
    "\n",
    "# разделяем на обучающую и тестовую выборки 3:1\n",
    "X_train, X_test, y_train, y_test = train_test_split(X, y, test_size=0.25, random_state=RND)"
   ]
  },
  {
   "cell_type": "markdown",
   "id": "6472d3bd",
   "metadata": {},
   "source": [
    "Обратим внимание, что масштабирование данных не является обязательным при использовании в задаче регрессии \"деревянных\" моделей, таких как дерево решений, или моделей, построенных на ансамблях деревьев – случайный лес, catboost, lgbm. Все эти модели отлично работают с нелинейными зависимостями и не требуют предварительной нормализации данных\n",
    "\n",
    "Для линейной регрессии желательно масштабировать данные. Однако в дальнейшем мы планируем использовать кросс-валидацию для оценки качества модели. В этом случае для избежания утечки данных масштабирование нужно проводить непосредственно в процессе кросс-валидации. Для этой цели можно использовать пайплайны, что и будет реализовано чуть позже\n",
    "\n",
    "Подготовим функцию для вывода результатов подбора параметров моделей:"
   ]
  },
  {
   "cell_type": "code",
   "execution_count": 59,
   "id": "3f814a98",
   "metadata": {},
   "outputs": [],
   "source": [
    "def show_search_results(model, params, score):\n",
    "    head_print(f'Модель: {model}', 80)\n",
    "    head_print(f'Лучшие параметры: {params}', 0)\n",
    "    head_print(f'MAE = {round(score, 3)}', 0)\n",
    "    print()"
   ]
  },
  {
   "cell_type": "markdown",
   "id": "8b1590f7",
   "metadata": {},
   "source": [
    "Обучим несколько моделей, от самых простых, типа линейной регрессии и дерева решений, до ансамблей и бустингов, типа случайного леса и LGBM. Для каждой модели подберём оптимальные гиперпараметры:"
   ]
  },
  {
   "cell_type": "markdown",
   "id": "c9823733",
   "metadata": {},
   "source": [
    "<br><br>\n",
    "\n",
    "## 2.4. Обучение моделей"
   ]
  },
  {
   "cell_type": "markdown",
   "id": "00d27e11",
   "metadata": {},
   "source": [
    "### 2.4.1. Модель LinearRegression"
   ]
  },
  {
   "cell_type": "markdown",
   "id": "a82732d3",
   "metadata": {},
   "source": [
    "\n",
    "Итак, для модели линейной регрессии мы проверим, есть ли эффект и улучшение качества модели от масштабирования данных. Будем применять его в пайплайне, для избежания утечки\n",
    "\n",
    "В принципе, в ходе исследовательского анализа мы убедились, что все имеющиеся у нас данные в большинстве своём подчиняются нормальному закону распределения. Таким образом в нашем случае, подойдёт стандартизация (StandardScaler). Нормализация (MinMaxScaler) полезна, когда данные имеют разные масштабы и мы ничего не знаем о распределении данных, или когда предполагаем, что распределение возможно не является гауссовым. В случае, если есть значительные отклонения, полезен метод RobustScaler(). В исследовательских целях мы рассмотрим все три типа масштабирования данных, а также вариант без масштабирования\n",
    "\n",
    "Подберем для LinearRegression наилучшие гиперпараметры и рассчитаем метрику MAE на кросс-валидации:"
   ]
  },
  {
   "cell_type": "code",
   "execution_count": 60,
   "id": "9de413b6",
   "metadata": {
    "scrolled": false
   },
   "outputs": [
    {
     "name": "stdout",
     "output_type": "stream",
     "text": [
      "\u001b[0m\u001b[1;35mМодель: LinearRegression\n",
      "————————————————————————————————————————————————————————————————————————————————\u001b[0m\n",
      "\u001b[0m\u001b[1;35mЛучшие параметры: {'estim__fit_intercept': True, 'scaler': FunctionTransformer(func=<function <lambda> at 0x000001D76D5672E0>)}\n",
      "\u001b[0m\u001b[0m\u001b[1;35mMAE = 7.132\n",
      "\u001b[0m\n",
      "CPU times: total: 234 ms\n",
      "Wall time: 3.04 s\n"
     ]
    }
   ],
   "source": [
    "%%time\n",
    "\n",
    "# создадим пайплайн\n",
    "lr_pipeline = Pipeline([\n",
    "    ('scaler', FunctionTransformer(func=lambda x: x)),\n",
    "    ('estim', LinearRegression())])\n",
    "\n",
    "# параметры для перебора, в т.ч. 4 вида скейлеров\n",
    "lr_params = {\n",
    "    'scaler': [StandardScaler(), MinMaxScaler(), RobustScaler(), FunctionTransformer(func=lambda x: x)],\n",
    "    'estim__fit_intercept': [True, False]}\n",
    "\n",
    "# подбор гиперпараметров и обучение\n",
    "lr_search = GridSearchCV(lr_pipeline, lr_params, cv=5, n_jobs=-1, scoring='neg_mean_absolute_error')\n",
    "lr_search.fit(X_train, y_train)\n",
    "\n",
    "# лучший скор, модель и её параметры\n",
    "lr_score = -lr_search.best_score_\n",
    "lr_model = lr_search.best_estimator_\n",
    "lr_params = lr_search.best_params_\n",
    "\n",
    "# out\n",
    "show_search_results('LinearRegression', lr_params, lr_score)"
   ]
  },
  {
   "cell_type": "markdown",
   "id": "a190f23e",
   "metadata": {},
   "source": [
    "В ходе проверки было установлено, что в нашем случае масштабирование данных не дало никакого результата. Модели отработали с одинаковым значением метрики для всех используемых скейлеров, включая вариант без масштабирования. Вероятно это связано с небольшими значениями признаков, малым их разбросом и нормальным распределением"
   ]
  },
  {
   "cell_type": "markdown",
   "id": "9b67fde1",
   "metadata": {},
   "source": [
    "<br>\n",
    "\n",
    "### 2.4.2. Модель DecisionTreeRegressor"
   ]
  },
  {
   "cell_type": "markdown",
   "id": "afff285a",
   "metadata": {},
   "source": [
    "Подберем для DecisionTreeRegressor наилучшие гиперпараметры и рассчитаем метрику MAE на кросс-валидации:"
   ]
  },
  {
   "cell_type": "code",
   "execution_count": 61,
   "id": "76d24068",
   "metadata": {
    "scrolled": false
   },
   "outputs": [
    {
     "name": "stdout",
     "output_type": "stream",
     "text": [
      "\u001b[0m\u001b[1;35mМодель: DecisionTreeRegressor\n",
      "————————————————————————————————————————————————————————————————————————————————\u001b[0m\n",
      "\u001b[0m\u001b[1;35mЛучшие параметры: {'max_depth': 5}\n",
      "\u001b[0m\u001b[0m\u001b[1;35mMAE = 7.31\n",
      "\u001b[0m\n",
      "CPU times: total: 203 ms\n",
      "Wall time: 1.05 s\n"
     ]
    }
   ],
   "source": [
    "%%time\n",
    "\n",
    "# модель\n",
    "dt_estimator = DecisionTreeRegressor(random_state=RND)\n",
    "\n",
    "# определяем параметры для перебора\n",
    "dt_params = {'max_depth': range(15)}\n",
    "\n",
    "# подбор гиперпараметров и обучение\n",
    "dt_search = GridSearchCV(dt_estimator, dt_params, cv=5, n_jobs=-1, scoring='neg_mean_absolute_error')\n",
    "dt_search.fit(X_train, y_train)\n",
    "\n",
    "# лучший скор, модель и её параметры\n",
    "dt_score = -dt_search.best_score_\n",
    "dt_model = dt_search.best_estimator_\n",
    "dt_params = dt_search.best_params_\n",
    "\n",
    "# out\n",
    "show_search_results('DecisionTreeRegressor', dt_params, dt_score)"
   ]
  },
  {
   "cell_type": "markdown",
   "id": "1f8df2c7",
   "metadata": {},
   "source": [
    "<br>\n",
    "\n",
    "### 2.4.3. Модель RandomForestRegressor"
   ]
  },
  {
   "cell_type": "markdown",
   "id": "1396d747",
   "metadata": {},
   "source": [
    "Подберем для RandomForestRegressor наилучшие гиперпараметры и рассчитаем метрику MAE на кросс-валидации:"
   ]
  },
  {
   "cell_type": "code",
   "execution_count": 62,
   "id": "02f7677c",
   "metadata": {
    "scrolled": false
   },
   "outputs": [
    {
     "name": "stdout",
     "output_type": "stream",
     "text": [
      "\u001b[0m\u001b[1;35mМодель: RandomForestRegressor\n",
      "————————————————————————————————————————————————————————————————————————————————\u001b[0m\n",
      "\u001b[0m\u001b[1;35mЛучшие параметры: {'max_depth': 10, 'min_samples_leaf': 1, 'min_samples_split': 2, 'n_estimators': 200}\n",
      "\u001b[0m\u001b[0m\u001b[1;35mMAE = 6.291\n",
      "\u001b[0m\n",
      "CPU times: total: 9.77 s\n",
      "Wall time: 27.2 s\n"
     ]
    }
   ],
   "source": [
    "%%time\n",
    "\n",
    "# модель\n",
    "rf_estimator = RandomForestRegressor(random_state=RND)\n",
    "\n",
    "# определяем параметры для перебора\n",
    "# сначала: 'n_estimators': range(80, 241, 20)  # best 200\n",
    "# rf_params = {'max_depth': range(9, 13), 'n_estimators': [190, 200, 210], \n",
    "#              'min_samples_leaf': range(1, 7), 'min_samples_split': range(2, 7)}  # best 10, 200, 1, 2\n",
    "rf_params = {'max_depth': [10], 'n_estimators': [200], 'min_samples_leaf': [1], 'min_samples_split': [2]}\n",
    "\n",
    "# подбор гиперпараметров и обучение\n",
    "rf_search = GridSearchCV(rf_estimator, rf_params, cv=5, n_jobs=-1, scoring='neg_mean_absolute_error')\n",
    "rf_search.fit(X_train, y_train)\n",
    "\n",
    "# лучший скор, модель и её параметры\n",
    "rf_score = -rf_search.best_score_\n",
    "rf_model = rf_search.best_estimator_\n",
    "rf_params = rf_search.best_params_\n",
    "\n",
    "# out\n",
    "show_search_results('RandomForestRegressor', rf_params, rf_score)"
   ]
  },
  {
   "cell_type": "markdown",
   "id": "62e4d2fb",
   "metadata": {},
   "source": [
    "<br>\n",
    "\n",
    "### 2.4.4. Модель LGBMRegressor"
   ]
  },
  {
   "cell_type": "markdown",
   "id": "abade5e4",
   "metadata": {},
   "source": [
    "Подберем для LGBMRegressor наилучшие гиперпараметры и рассчитаем метрику MAE на кросс-валидации:"
   ]
  },
  {
   "cell_type": "code",
   "execution_count": 63,
   "id": "af0fc9b7",
   "metadata": {
    "scrolled": false
   },
   "outputs": [
    {
     "name": "stdout",
     "output_type": "stream",
     "text": [
      "\u001b[0m\u001b[1;35mМодель: LGBMRegressor\n",
      "————————————————————————————————————————————————————————————————————————————————\u001b[0m\n",
      "\u001b[0m\u001b[1;35mЛучшие параметры: {'learning_rate': 0.04, 'max_depth': 12, 'n_estimators': 140}\n",
      "\u001b[0m\u001b[0m\u001b[1;35mMAE = 6.26\n",
      "\u001b[0m\n",
      "CPU times: total: 781 ms\n",
      "Wall time: 2.63 s\n"
     ]
    }
   ],
   "source": [
    "%%time\n",
    "\n",
    "# модель\n",
    "lgbm_estimator = LGBMRegressor(random_state=RND, verbose=-1)\n",
    "\n",
    "# определяем параметры для перебора\n",
    "# lgbm_params = {'max_depth': range(9, 16), 'n_estimators': range(100, 201, 20), \n",
    "#                'learning_rate': [i/100 for i in range(1, 11)]}  # best: 12, 140, 0.04\n",
    "lgbm_params = {'max_depth': [12], 'n_estimators': [140], 'learning_rate': [0.04]}\n",
    "\n",
    "# подбор гиперпараметров и обучение\n",
    "lgbm_search = GridSearchCV(lgbm_estimator, lgbm_params, cv=5, n_jobs=-1, scoring='neg_mean_absolute_error')\n",
    "lgbm_search.fit(X_train, y_train)\n",
    "\n",
    "# лучший скор, модель и её параметры\n",
    "lgbm_score = -lgbm_search.best_score_\n",
    "lgbm_model = lgbm_search.best_estimator_\n",
    "lgbm_params = lgbm_search.best_params_\n",
    "\n",
    "# out\n",
    "show_search_results('LGBMRegressor', lgbm_params, lgbm_score)"
   ]
  },
  {
   "cell_type": "markdown",
   "id": "ad4d8da2",
   "metadata": {},
   "source": [
    "<br><br>\n",
    "\n",
    "## 2.5. Анализ моделей, выбор лучшей"
   ]
  },
  {
   "cell_type": "markdown",
   "id": "24b1bdd1",
   "metadata": {},
   "source": [
    "Выведем результаты по всем моделям:"
   ]
  },
  {
   "cell_type": "code",
   "execution_count": 64,
   "id": "80e44c72",
   "metadata": {},
   "outputs": [],
   "source": [
    "# функция возвращает статус модели - прошла или нет критерий по MAE\n",
    "def criteria(score):\n",
    "    return 'passed' if score <= MAE_CRITERIA else 'failed'"
   ]
  },
  {
   "cell_type": "code",
   "execution_count": 65,
   "id": "c21d4b26",
   "metadata": {},
   "outputs": [
    {
     "name": "stdout",
     "output_type": "stream",
     "text": [
      "\u001b[0m\u001b[1;35mЗначения метрики MAE для разных моделей (рассчитаны на кросс-валидации):\n",
      "————————————————————————————————————————————————————————————————————————\u001b[0m\n"
     ]
    },
    {
     "data": {
      "text/html": [
       "<div>\n",
       "<style scoped>\n",
       "    .dataframe tbody tr th:only-of-type {\n",
       "        vertical-align: middle;\n",
       "    }\n",
       "\n",
       "    .dataframe tbody tr th {\n",
       "        vertical-align: top;\n",
       "    }\n",
       "\n",
       "    .dataframe thead th {\n",
       "        text-align: right;\n",
       "    }\n",
       "</style>\n",
       "<table border=\"1\" class=\"dataframe\">\n",
       "  <thead>\n",
       "    <tr style=\"text-align: right;\">\n",
       "      <th></th>\n",
       "      <th>MAE</th>\n",
       "      <th>Критерий (MAE &lt;= 6.8)</th>\n",
       "    </tr>\n",
       "  </thead>\n",
       "  <tbody>\n",
       "    <tr>\n",
       "      <th>LinearRegression</th>\n",
       "      <td>7.132</td>\n",
       "      <td>failed</td>\n",
       "    </tr>\n",
       "    <tr>\n",
       "      <th>DecisionTreeRegressor</th>\n",
       "      <td>7.310</td>\n",
       "      <td>failed</td>\n",
       "    </tr>\n",
       "    <tr>\n",
       "      <th>RandomForestRegressor</th>\n",
       "      <td>6.291</td>\n",
       "      <td>passed</td>\n",
       "    </tr>\n",
       "    <tr>\n",
       "      <th>LGBMRegressor</th>\n",
       "      <td>6.260</td>\n",
       "      <td>passed</td>\n",
       "    </tr>\n",
       "  </tbody>\n",
       "</table>\n",
       "</div>"
      ],
      "text/plain": [
       "                         MAE Критерий (MAE <= 6.8)\n",
       "LinearRegression       7.132                failed\n",
       "DecisionTreeRegressor  7.310                failed\n",
       "RandomForestRegressor  6.291                passed\n",
       "LGBMRegressor          6.260                passed"
      ]
     },
     "metadata": {},
     "output_type": "display_data"
    }
   ],
   "source": [
    "# создадим датафрейм для наглядности\n",
    "result_table = pd.DataFrame(\n",
    "    data={'MAE': [lr_score, dt_score, rf_score, lgbm_score], \n",
    "          'Критерий (MAE <= 6.8)': [criteria(lr_score), criteria(dt_score), criteria(rf_score), criteria(lgbm_score)]}, \n",
    "    index=['LinearRegression', 'DecisionTreeRegressor', 'RandomForestRegressor', 'LGBMRegressor'])\n",
    "result_table['MAE'] = round(result_table['MAE'], 3)\n",
    "\n",
    "# out\n",
    "head_print('Значения метрики MAE для разных моделей (рассчитаны на кросс-валидации):')\n",
    "display(result_table)"
   ]
  },
  {
   "cell_type": "markdown",
   "id": "842a02d0",
   "metadata": {},
   "source": [
    "Итак, наилучшие результаты показала модель LGBMRegressor со значением метрики MAE на кросс-валидации: 6.26. На втором месте модель RandomForestRegressor (6.29). Простые модели – такие, как линейная регрессия и дерево решений – не прошли критерий качества с результатами MAE > 6.8\n",
    "\n",
    "Протестируем нашу лучшую модель:"
   ]
  },
  {
   "cell_type": "markdown",
   "id": "6da39e3d",
   "metadata": {},
   "source": [
    "<br><br>\n",
    "\n",
    "## 2.6. Тестирование лучшей модели, проверка на адекватность"
   ]
  },
  {
   "cell_type": "markdown",
   "id": "22d9f2b9",
   "metadata": {},
   "source": [
    "Испытаем лучшую модель на тестовой выборке и выведем значение метрики:"
   ]
  },
  {
   "cell_type": "code",
   "execution_count": 66,
   "id": "07eda3ba",
   "metadata": {},
   "outputs": [
    {
     "name": "stdout",
     "output_type": "stream",
     "text": [
      "\u001b[0m\u001b[1;35mЛучшая модель: LGBMRegressor, проверка на тестовой выборке\n",
      "————————————————————————————————————————————————————————————————————————————————\u001b[0m\n",
      "\u001b[0m\u001b[1;35mMAE = 5.692\u001b[0m\n"
     ]
    }
   ],
   "source": [
    "# предсказания и скор на тестовой выборке\n",
    "y_pred = lgbm_model.predict(X_test)\n",
    "mae = round(mean_absolute_error(y_test, y_pred), 3)\n",
    "\n",
    "# out\n",
    "head_print(f'Лучшая модель: LGBMRegressor, проверка на тестовой выборке', 80)\n",
    "print(COLOR_BOLD + f'MAE = {mae}' + RESET)"
   ]
  },
  {
   "cell_type": "markdown",
   "id": "c9a93de8",
   "metadata": {},
   "source": [
    "Значение на тестовой выборке получилось даже меньше, чем на кросс-валидации. В принципе это \"звоночек\", который указывает на переобучение модели. Однако в нашем случае разница невелика, модель демонстрирует хорошее качество и на кросс-валидации, и на новых данных. Будем считать данное небольшое отклонение нормой. Кроме того, с данными не проводились какие-либо манипуляции, которые могли бы привести к утечке. После разделения датафрейма тестовую выборку отложили и не использовали вплоть до финального тестирования\n",
    "\n",
    "Проведём Sanity check, проверим, какие результаты выдаст константная модель, предсказывающая, например, всегда среднее значение температуры:"
   ]
  },
  {
   "cell_type": "code",
   "execution_count": 67,
   "id": "20e004ce",
   "metadata": {},
   "outputs": [
    {
     "name": "stdout",
     "output_type": "stream",
     "text": [
      "\u001b[0m\u001b[1;35mКонстантная модель, проверка на тестовой выборке\n",
      "————————————————————————————————————————————————————————————————————————————————\u001b[0m\n",
      "\u001b[0m\u001b[1;35mMAE = 7.489\u001b[0m\n"
     ]
    }
   ],
   "source": [
    "# обучение константной модели\n",
    "dummy_model = DummyRegressor(strategy='mean')\n",
    "dummy_model.fit(X_train, y_train)\n",
    "\n",
    "# предсказания и скор константной модели\n",
    "dummy_pred = dummy_model.predict(X_test)\n",
    "dummy_mae = round(mean_absolute_error(y_test, dummy_pred), 3)\n",
    "\n",
    "# out\n",
    "head_print(f'Константная модель, проверка на тестовой выборке', 80)\n",
    "print(COLOR_BOLD + f'MAE = {dummy_mae}' + RESET)"
   ]
  },
  {
   "cell_type": "markdown",
   "id": "1afd7a42",
   "metadata": {},
   "source": [
    "Видим, что константная модель не проходит критерий качества MAE <= 6.8 и показывает значение метрики гораздо хуже, чем у нашей модели, а значит наша модель адекватна"
   ]
  },
  {
   "cell_type": "markdown",
   "id": "e214fbf7",
   "metadata": {},
   "source": [
    "<br><br>\n",
    "\n",
    "## 2.7. Анализ значимости признаков"
   ]
  },
  {
   "cell_type": "markdown",
   "id": "1453cdfd",
   "metadata": {},
   "source": [
    "Проанализируем значимость признаков для нашей модели. Выведем линейчатую диаграмму с рейтингом значимости признаков:"
   ]
  },
  {
   "cell_type": "code",
   "execution_count": 68,
   "id": "4d3049f9",
   "metadata": {},
   "outputs": [
    {
     "data": {
      "image/png": "[encoded data removed]",
      "text/plain": [
       "<Figure size 1100x600 with 1 Axes>"
      ]
     },
     "metadata": {},
     "output_type": "display_data"
    }
   ],
   "source": [
    "# серия со значениями важности признаков\n",
    "importances = pd.Series(lgbm_model.feature_importances_, index=X_train.columns).sort_values()\n",
    "\n",
    "# viz\n",
    "importances.plot(kind='barh', figsize=(11, 6))\n",
    "plt.title('Диаграмма значимости признаков модели LGBMRegressor')\n",
    "plt.xlabel('Значимость признаков')\n",
    "plt.show()"
   ]
  },
  {
   "cell_type": "markdown",
   "id": "9893dbda",
   "metadata": {},
   "source": [
    "Видим, что наиболее значимые признаки – это начальная температура металла и мощность. Также в пятёрку важных для модели признаков входят проволочная добавка №1, добавка сыпучих примесей №14 и объём продуваемого инертного газа. Остальные примеси имеют более низкую значимость для нашей модели. Вообще не имеют значимости следующие признаки: проволочные добавки №№ 4, 7, 8, 9 и сыпучие примеси №№ 2, 7, 8, 13"
   ]
  },
  {
   "cell_type": "markdown",
   "id": "a475a082",
   "metadata": {},
   "source": [
    "<br><br>\n",
    "\n",
    "## 2.8. Подведение итогов разработки модели"
   ]
  },
  {
   "cell_type": "markdown",
   "id": "63608120",
   "metadata": {},
   "source": [
    "Итак, в ходе разработки модели машинного обучения:\n",
    "- Данные были подготовлены и объединены в единый датафрейм для обучения моделей\n",
    "- Проведены краткий исследовательский анализ нового датафрейма и проверка на мультиколлинеарность, определены признаки\n",
    "- Данные разделены на обучающую и тестовые выборки 3:1\n",
    "- Построены и испытаны несколько моделей машинного обучения, такие как линейная регрессия, дерево решений, случайный лес и LGBM\n",
    "- Проведён анализ моделей, выбрана лучшая – LGBMRegressor\n",
    "- Лучшая модель испытана на тестовой выборке, а также проверена на адекватность в сравнении с константной моделью\n",
    "- Получена оценка значимости признаков\n",
    "\n",
    "В результате лучшая модель LGBMRegressor показала значения MAE на кросс-валидации 6.26 и на тестовой выборке 5.69. Модель проверена на адекватность. Основными значимыми признаками для неё являются начальная температура, мощность, объем инертного газа и некоторые легирующие добавки. Таким образом, наша модель удовлетворяет заданным требованиям качества (MAE не выше 6.8) и может быть использована заказчиком для предсказания температуры стали"
   ]
  },
  {
   "cell_type": "markdown",
   "id": "e10fe25d",
   "metadata": {},
   "source": [
    "<br><br><br><br>\n",
    "\n",
    "# 3. Отчет"
   ]
  },
  {
   "cell_type": "markdown",
   "id": "3122c2b6",
   "metadata": {},
   "source": [
    "**Название проекта:** \"Предсказание температуры стали\"\n",
    "<br>\n",
    "\n",
    "**Описание задачи:** Заказчик – металлургический комбинат ООО \"Так закаляем сталь\" – решил уменьшить потребление электроэнергии на этапе обработки стали, чтобы оптимизировать производственные расходы. Нужно построить модель, которая предскажет температуру стали\n",
    "<br><br>\n",
    "\n",
    "**В ходе уточнения задачи были получены следующие пояснения и указания:**\n",
    "\n",
    "- Решаем задачу регрессии. Целевым признаком считаем конечную температуру металла из всех доступных замеров для партии металла. Остальные признаки определяем самостоятельно\n",
    "- Для оценки качества модели используем метрику MAE – среднюю абсолютную ошибку. Критерий качества модели – MAE не более 6.8\n",
    "- В работе используем данные только по тем партиям металла, для которых есть информация по всем технологическим операциям\n",
    "- Из данных по температуре металла в каждой партии используем в качестве признаков только начальные и конечные значения \n",
    "- Временны́е данные для моделирования не используем\n",
    "- По результатам работы также предоставляем оценку значимости признаков модели\n",
    "- Для воспроизводимости результатов фиксируем сиды случайных процессов (RANDOM_STATE = 270323)\n",
    "<br>\n",
    "\n",
    "\n",
    "**В ходе работы над проектом:**\n",
    "\n",
    "1. В датафреймы `arc`, `bulk`, `bulk_time`, `gas`, `temp`, `wire` и `wire_time` проведена загрузка исходных файлов со следующими данными:\n",
    "\n",
    "    - `data_arc.csv` – данные об электродах\n",
    "    - `data_bulk.csv` – данные о подаче сыпучих материалов (объём)\n",
    "    - `data_bulk_time.csv` – данные о подаче сыпучих материалов (время)\n",
    "    - `data_gas.csv` – данные о продувке сплава газом\n",
    "    - `data_temp.csv` – результаты измерения температуры\n",
    "    - `data_wire.csv` – данные о проволочных материалах (объём)\n",
    "    - `data_wire_time.csv` – данные о проволочных материалах (время)\n",
    "<br>\n",
    "\n",
    "2. Проведено предварительное изучение загруженных данных, выявлены проблемные моменты, намечены задачи для предобработки данных, в ходе которой:\n",
    "\n",
    "    - Во всех датафреймах исправлены названия столбцов\n",
    "    - Типы данных приведены в соответствие (температура и сыпучие добавки – целочисленные типы данных, а мощность, объём газа и проволочные добавки – вещественные)\n",
    "    - Дубликатов  не выявлено\n",
    "    - Обнаружено и исправлено аномальное значение реактивной мощности в датафрейме `arc`\n",
    "    - Пропущенные значения в датафреймах `bulk` и `wire` заменены на нулевые\n",
    "    - Удалены пропуски в замерах температуры датафрейма `temp`\n",
    "<br>\n",
    "\n",
    "\n",
    "3. Проведён исследовательский анализ данных, были сделаны следующие выводы:\n",
    "\n",
    "    - В основном все данные имеют распределения, близкие по форме к нормальному распределению, иногда с перекосами вправо, разной степени выраженности, что обусловлено физической природой большинства показателей (без отрицательных значений)\n",
    "    - Для дальнейшего обучения моделей необходимо объединить разрозненные данные по всем технологическим операциям в один датафрейм\n",
    "    - Поскольку в нашем случае мы не можем использовать временны́е данные в обучени моделей, необходимо в итоговом датафрейме избавиться от итераций в партиях, т.е. привести данные к такому виду, чтобы каждой партии металла соответствовала только одна запись\n",
    "    - В датафреймах `arc` и `temp` преобладают партии металла с 3-6 итерациями нагрева и измерения температуры. Больше всего партий с 4 итерациями. Редко, но встречаются также партии всего с одной итерацией\n",
    "    - Итерации в замерах температуры автоматически сокращаются до начального и конечного значений для каждой партии. Соответственно, в итоговую выборку войдут только партии металла с 2 и более значениями замеров температуры\n",
    "    - Не смотря на то, что абсолютные временны́е данные для моделирования использовать нельзя, хорошим признаком может стать относительный временной интервал – продолжительность нагрева металла дугой\n",
    "    - Таким образом, что касается итераций по нагреву, лучшим решением видится группировка по партиям металла и суммирование значений мощности и продолжительности нагрева. Таким образом мы учитываем в признаках итоговое воздействие на сплав – суммарной мощностью нагрева в течение совокупного интервала времени\n",
    "    - В ходе исследования была выявлена высокая корреляция активной и реактивной мощностей, поэтому в качестве признаков необходимо или выбрать активную мощность, как непосредственное воздействие на металл, или вычислить общую мощность\n",
    "    - Также было выявлено, что во всех датафреймах отсутствуют данные по некоторым партиям металла. Судя по спискам номеров, часть партий отсутствует практически во всех датафреймах\n",
    "    - Так или иначе обязательным условием заказчика является использование только тех партий, для которых есть данные по всем без исключения технологическим процессам. Таким образом будем использовать inner-объединение датафреймов по номеру партии\n",
    "<br>\n",
    "\n",
    "\n",
    "4. В рамках подготовки данных для обучения моделей было:\n",
    "\n",
    "    - Подготовлены и объединены данные по всем технологическим операциям в один рабочий датафрейм `df`\n",
    "    - Проведён краткий исследовательский анализ нового датафрейма\n",
    "    - Выполнена проверка на мультиколлинеарность признаков, часть коррелирующих и бесполезных признаков удалена: номер партии `key`, активная и реактивная мощности `a_pwr`, `r_pwr`, продолжительность нагрева сплава `time`, легирующие добавки `bulk_9`, `wire_5`\n",
    "    - Определены итоговые признаки для моделирования: начальная температура металла `temp_0`, общая суммарная мощность нагрева `power` (квадратный корень из суммы квадратов активной и реактивной мощностей), объём инертного газа для продувки сплава `gas`, ряд примесей сыпучих материалов `bulk_*`, за исключением удалённой девятой и ряд проволочных добавок `wire_*`, за исключением пятой\n",
    "    - Данные разделены на обучающую и тестовую выборки в соотношении 3:1\n",
    "<br>\n",
    "\n",
    "\n",
    "5. Были построены и обучены с подбором гиперпараметров несколько моделей машинного обучения:\n",
    "\n",
    "    - Модель линейной регрессии `LinearRegression` показала результат MAE: 7.132. Для данной модели также были проведено обучение на масштабированных различными скейлерами данных. Это не дало результата, что вероятно связано с небольшими абсолютными значениями признаков, малым их разбросом и нормальным распределением\n",
    "    - Модель дерева решений `DecisionTreeRegressor` показала результат MAE: 7.31\n",
    "    - Модель случайного леса `RandomForestRegressor` показала результат MAE: 6.291\n",
    "    - Модель градиентного бустинга `LGBMRegressor` показала наилучший результат MAE: 6.26. Для модели были определены следующие оптимальные гиперпараметры: скорость обучения 'learning_rate': 0.04, максимальная глубина деревьев в ансамбле 'max_depth': 12, количество эстиматоров 'n_estimators': 140, а также фиксированный сид 'random_state': 270323\n",
    "<br>\n",
    "\n",
    "\n",
    "6. Для лучшей модели градиентного бустинга 'LGBMRegressor':\n",
    "\n",
    "    - Проведены испытания на тестовой выборке с результатом MAE 5.692\n",
    "    - Выполнена успешная проверка на адекватность в сравнении с константной моделью. Показатели константной модели (MAE 7.49) гораздо хуже и не соответствуют даже критерию качества модели\n",
    "    - Получена оценка значимости признаков. В пятёрку наиболее важных признаков ожидаемо входят начальная температура `temp_0`, суммарная мощность`power` и объём инертного газа `gas`, а также проволочная добавка `wire_1` и сыпучая `bulk_14`\n",
    "<br>\n",
    "\n",
    "\n",
    "**Несколько слов о планировании исследования:**\n",
    "\n",
    "- Основные трудности в проекте заключались в ознакомлении с новой доменной областью. Требовалось хотя бы в общих чертах разобраться в технологических процессах и источниках данных для нашей задачи\n",
    "- Благодаря взаимодействию с заказчиком были выяснены основные особенности технологических процессов и уточнены нюансы задачи, что позволило чётко распланировать свою исследовательскую деятельность и придерживаться плана вплоть до окончания работы и достижения результатов\n",
    "- Концептуально задача была поделена на две основные части. В первой части мы провели предобработку и исследование разрозненных данных, полученных от заказчика. А во второй части отобрали и объединили только необходимые данные, обучили на них несколько моделей ML и выбрали лучшую\n",
    "<br>\n",
    "\n",
    "\n",
    "**В результате нашего исследования мы построили и обучили модель градиентного бустинга `LGBMRegressor`, которая уверенно удовлетворяет заданным требованиям качества (метрика MAE не выше 6.8) и может быть использована заказчиком для предсказания температуры стали**"
   ]
  },
  {
   "cell_type": "markdown",
   "id": "8ab9a31c",
   "metadata": {},
   "source": [
    "<br><br><br><br>\n",
    "\n",
    "# Спасибо за внимание!"
   ]
  },
  {
   "cell_type": "code",
   "execution_count": 69,
   "id": "951f6917",
   "metadata": {},
   "outputs": [
    {
     "name": "stdout",
     "output_type": "stream",
     "text": [
      "\u001b[0m\u001b[1;35mОбщее время выполнения проекта (53s)\n",
      "\u001b[0m"
     ]
    }
   ],
   "source": [
    "# out\n",
    "head_print(f'Общее время выполнения проекта {get_time(start_prj, time.time())}', 0)"
   ]
  }
 ],
 "metadata": {
  "kernelspec": {
   "display_name": "Python 3 (ipykernel)",
   "language": "python",
   "name": "python3"
  },
  "language_info": {
   "codemirror_mode": {
    "name": "ipython",
    "version": 3
   },
   "file_extension": ".py",
   "mimetype": "text/x-python",
   "name": "python",
   "nbconvert_exporter": "python",
   "pygments_lexer": "ipython3",
   "version": "3.11.4"
  }
 },
 "nbformat": 4,
 "nbformat_minor": 5
}
